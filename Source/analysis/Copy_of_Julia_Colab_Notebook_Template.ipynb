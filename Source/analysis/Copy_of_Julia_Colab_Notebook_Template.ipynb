{
 "cells": [
  {
   "cell_type": "markdown",
   "metadata": {
    "id": "tQ1r1bbb0yBv"
   },
   "source": [
    "# <img src=\"https://github.com/JuliaLang/julia-logo-graphics/raw/master/images/julia-logo-color.png\" height=\"100\" /> _Colab Notebook Template_\n",
    "\n",
    "## Instructions\n",
    "1. Work on a copy of this notebook: _File_ > _Save a copy in Drive_ (you will need a Google account). Alternatively, you can download the notebook using _File_ > _Download .ipynb_, then upload it to [Colab](https://colab.research.google.com/).\n",
    "2. If you need a GPU: _Runtime_ > _Change runtime type_ > _Harware accelerator_ = _GPU_.\n",
    "3. Execute the following cell (click on it and press Ctrl+Enter) to install Julia, IJulia and other packages (if needed, update `JULIA_VERSION` and the other parameters). This takes a couple of minutes.\n",
    "4. Reload this page (press Ctrl+R, or ⌘+R, or the F5 key) and continue to the next section.\n",
    "\n",
    "_Notes_:\n",
    "* If your Colab Runtime gets reset (e.g., due to inactivity), repeat steps 2, 3 and 4.\n",
    "* After installation, if you want to change the Julia version or activate/deactivate the GPU, you will need to reset the Runtime: _Runtime_ > _Factory reset runtime_ and repeat steps 3 and 4."
   ]
  },
  {
   "cell_type": "code",
   "execution_count": null,
   "metadata": {
    "colab": {
     "base_uri": "https://localhost:8080/"
    },
    "id": "GIeFXS0F0zww",
    "outputId": "ff2b7ea3-3c37-4c4c-8bff-af0d008f6912"
   },
   "outputs": [
    {
     "name": "stdout",
     "output_type": "stream",
     "text": [
      "Installing Julia 1.7.1 on the current Colab Runtime...\n",
      "2022-01-13 08:17:33 URL:https://storage.googleapis.com/julialang2/bin/linux/x64/1.7/julia-1.7.1-linux-x86_64.tar.gz [123374573/123374573] -> \"/tmp/julia.tar.gz\" [1]\n",
      "Installing Julia package IJulia...\n",
      "Installing Julia package BenchmarkTools...\n",
      "Installing Julia package Plots...\n",
      "Installing IJulia kernel...\n",
      "\u001b[36m\u001b[1m[ \u001b[22m\u001b[39m\u001b[36m\u001b[1mInfo: \u001b[22m\u001b[39mInstalling julia kernelspec in /root/.local/share/jupyter/kernels/julia-1.7\n",
      "\n",
      "Successfully installed julia version 1.7.1!\n",
      "Please reload this page (press Ctrl+R, ⌘+R, or the F5 key) then\n",
      "jump to the 'Checking the Installation' section.\n"
     ]
    },
    {
     "data": {
      "text/plain": []
     },
     "execution_count": 1,
     "metadata": {},
     "output_type": "execute_result"
    }
   ],
   "source": [
    "%%shell\n",
    "set -e\n",
    "\n",
    "#---------------------------------------------------#\n",
    "JULIA_VERSION=\"1.7.1\" # any version ≥ 0.7.0\n",
    "JULIA_PACKAGES=\"IJulia BenchmarkTools Plots\"\n",
    "JULIA_PACKAGES_IF_GPU=\"CUDA\" # or CuArrays for older Julia versions\n",
    "JULIA_NUM_THREADS=2\n",
    "#---------------------------------------------------#\n",
    "\n",
    "if [ -n \"$COLAB_GPU\" ] && [ -z `which julia` ]; then\n",
    "  # Install Julia\n",
    "  JULIA_VER=`cut -d '.' -f -2 <<< \"$JULIA_VERSION\"`\n",
    "  echo \"Installing Julia $JULIA_VERSION on the current Colab Runtime...\"\n",
    "  BASE_URL=\"https://julialang-s3.julialang.org/bin/linux/x64\"\n",
    "  URL=\"$BASE_URL/$JULIA_VER/julia-$JULIA_VERSION-linux-x86_64.tar.gz\"\n",
    "  wget -nv $URL -O /tmp/julia.tar.gz # -nv means \"not verbose\"\n",
    "  tar -x -f /tmp/julia.tar.gz -C /usr/local --strip-components 1\n",
    "  rm /tmp/julia.tar.gz\n",
    "\n",
    "  # Install Packages\n",
    "  if [ \"$COLAB_GPU\" = \"1\" ]; then\n",
    "      JULIA_PACKAGES=\"$JULIA_PACKAGES $JULIA_PACKAGES_IF_GPU\"\n",
    "  fi\n",
    "  for PKG in `echo $JULIA_PACKAGES`; do\n",
    "    echo \"Installing Julia package $PKG...\"\n",
    "    julia -e 'using Pkg; pkg\"add '$PKG'; precompile;\"' &> /dev/null\n",
    "  done\n",
    "\n",
    "  # Install kernel and rename it to \"julia\"\n",
    "  echo \"Installing IJulia kernel...\"\n",
    "  julia -e 'using IJulia; IJulia.installkernel(\"julia\", env=Dict(\n",
    "      \"JULIA_NUM_THREADS\"=>\"'\"$JULIA_NUM_THREADS\"'\"))'\n",
    "  KERNEL_DIR=`julia -e \"using IJulia; print(IJulia.kerneldir())\"`\n",
    "  KERNEL_NAME=`ls -d \"$KERNEL_DIR\"/julia*`\n",
    "  mv -f $KERNEL_NAME \"$KERNEL_DIR\"/julia  \n",
    "\n",
    "  echo ''\n",
    "  echo \"Successfully installed `julia -v`!\"\n",
    "  echo \"Please reload this page (press Ctrl+R, ⌘+R, or the F5 key) then\"\n",
    "  echo \"jump to the 'Checking the Installation' section.\"\n",
    "fi"
   ]
  },
  {
   "cell_type": "markdown",
   "metadata": {
    "id": "-OS3Ac017T1i"
   },
   "source": [
    "# Checking the Installation\n",
    "The `versioninfo()` function should print your Julia version and some other info about the system:"
   ]
  },
  {
   "cell_type": "code",
   "execution_count": 1,
   "metadata": {
    "colab": {
     "base_uri": "https://localhost:8080/"
    },
    "id": "EEzvvzCl1i0F",
    "outputId": "e23d5ef2-1ed8-4db2-b57c-1b58cd3117b0"
   },
   "outputs": [
    {
     "name": "stdout",
     "output_type": "stream",
     "text": [
      "Julia Version 1.6.3\n",
      "Commit ae8452a9e0 (2021-09-23 17:34 UTC)\n",
      "Platform Info:\n",
      "  OS: Windows (x86_64-w64-mingw32)\n",
      "  CPU: Intel(R) Core(TM) i5-8250U CPU @ 1.60GHz\n",
      "  WORD_SIZE: 64\n",
      "  LIBM: libopenlibm\n",
      "  LLVM: libLLVM-11.0.1 (ORCJIT, skylake)\n"
     ]
    }
   ],
   "source": [
    "versioninfo()"
   ]
  },
  {
   "cell_type": "code",
   "execution_count": 3,
   "metadata": {},
   "outputs": [
    {
     "name": "stderr",
     "output_type": "stream",
     "text": [
      "\u001b[32m\u001b[1m    Updating\u001b[22m\u001b[39m registry at `C:\\Users\\Konrad Grudzinski\\.julia\\registries\\General`\n",
      "\u001b[32m\u001b[1m    Updating\u001b[22m\u001b[39m git-repo `https://github.com/JuliaRegistries/General.git`\n",
      "\u001b[32m\u001b[1m   Resolving\u001b[22m\u001b[39m package versions...\n",
      "\u001b[32m\u001b[1m   Installed\u001b[22m\u001b[39m HarfBuzz_jll ─── v2.8.1+1\n",
      "\u001b[32m\u001b[1m   Installed\u001b[22m\u001b[39m Glib_jll ─────── v2.68.3+2\n",
      "\u001b[32m\u001b[1m   Installed\u001b[22m\u001b[39m Ogg_jll ──────── v1.3.5+1\n",
      "\u001b[32m\u001b[1m   Installed\u001b[22m\u001b[39m Cairo_jll ────── v1.16.1+1\n",
      "\u001b[32m\u001b[1m   Installed\u001b[22m\u001b[39m Libffi_jll ───── v3.2.2+1\n",
      "\u001b[32m\u001b[1m   Installed\u001b[22m\u001b[39m BenchmarkTools ─ v1.2.2\n",
      "\u001b[32m\u001b[1m    Updating\u001b[22m\u001b[39m `C:\\Users\\Konrad Grudzinski\\.julia\\environments\\v1.6\\Project.toml`\n",
      " \u001b[90m [6e4b80f9] \u001b[39m\u001b[92m+ BenchmarkTools v1.2.2\u001b[39m\n",
      "\u001b[32m\u001b[1m    Updating\u001b[22m\u001b[39m `C:\\Users\\Konrad Grudzinski\\.julia\\environments\\v1.6\\Manifest.toml`\n",
      " \u001b[90m [6e4b80f9] \u001b[39m\u001b[92m+ BenchmarkTools v1.2.2\u001b[39m\n",
      " \u001b[90m [83423d85] \u001b[39m\u001b[93m↑ Cairo_jll v1.16.1+0 ⇒ v1.16.1+1\u001b[39m\n",
      " \u001b[90m [7746bdde] \u001b[39m\u001b[93m↑ Glib_jll v2.68.3+0 ⇒ v2.68.3+2\u001b[39m\n",
      " \u001b[90m [2e76f6c2] \u001b[39m\u001b[93m↑ HarfBuzz_jll v2.8.1+0 ⇒ v2.8.1+1\u001b[39m\n",
      " \u001b[90m [e9f186c6] \u001b[39m\u001b[93m↑ Libffi_jll v3.2.2+0 ⇒ v3.2.2+1\u001b[39m\n",
      " \u001b[90m [e7412a2a] \u001b[39m\u001b[93m↑ Ogg_jll v1.3.5+0 ⇒ v1.3.5+1\u001b[39m\n",
      " \u001b[90m [9abbd945] \u001b[39m\u001b[92m+ Profile\u001b[39m\n",
      "\u001b[32m\u001b[1mPrecompiling\u001b[22m\u001b[39m project...\n",
      "\u001b[32m  ✓ \u001b[39m\u001b[90mOgg_jll\u001b[39m\n",
      "\u001b[32m  ✓ \u001b[39m\u001b[90mLibffi_jll\u001b[39m\n",
      "\u001b[32m  ✓ \u001b[39mBenchmarkTools\n",
      "\u001b[32m  ✓ \u001b[39m\u001b[90mlibvorbis_jll\u001b[39m\n",
      "\u001b[32m  ✓ \u001b[39m\u001b[90mGlib_jll\u001b[39m\n",
      "\u001b[32m  ✓ \u001b[39m\u001b[90mCairo_jll\u001b[39m\n",
      "\u001b[32m  ✓ \u001b[39m\u001b[90mHarfBuzz_jll\u001b[39m\n",
      "\u001b[32m  ✓ \u001b[39m\u001b[90mCancerSeqSim\u001b[39m\n",
      "\u001b[32m  ✓ \u001b[39m\u001b[90mlibass_jll\u001b[39m\n",
      "\u001b[32m  ✓ \u001b[39m\u001b[90mFFMPEG_jll\u001b[39m\n",
      "\u001b[32m  ✓ \u001b[39m\u001b[90mFFMPEG\u001b[39m\n",
      "\u001b[32m  ✓ \u001b[39m\u001b[90mPlots\u001b[39m\n",
      "\u001b[32m  ✓ \u001b[39mSubClonalSelection\n",
      "  13 dependencies successfully precompiled in 60 seconds (118 already precompiled)\n"
     ]
    }
   ],
   "source": [
    "import Pkg; Pkg.add(\"BenchmarkTools\")"
   ]
  },
  {
   "cell_type": "code",
   "execution_count": 4,
   "metadata": {
    "colab": {
     "base_uri": "https://localhost:8080/"
    },
    "id": "YjM_qq54lCcs",
    "outputId": "8193deb5-b77f-4933-888a-b642a038c0e8"
   },
   "outputs": [
    {
     "name": "stdout",
     "output_type": "stream",
     "text": [
      "  149.660 ms (2 allocations: 32.00 MiB)\n"
     ]
    }
   ],
   "source": [
    "using BenchmarkTools\n",
    "\n",
    "M = rand(2^11, 2^11)\n",
    "\n",
    "@btime $M * $M;"
   ]
  },
  {
   "cell_type": "code",
   "execution_count": 3,
   "metadata": {
    "colab": {
     "base_uri": "https://localhost:8080/"
    },
    "id": "XciCcMAJOT3_",
    "outputId": "233159a4-cf1d-489b-d216-0da0c30c13ac"
   },
   "outputs": [
    {
     "name": "stdout",
     "output_type": "stream",
     "text": [
      "No GPU found.\n"
     ]
    }
   ],
   "source": [
    "if ENV[\"COLAB_GPU\"] == \"1\"\n",
    "    using CUDA\n",
    "\n",
    "    run(`nvidia-smi`)\n",
    "\n",
    "    # Create a new random matrix directly on the GPU:\n",
    "    M_on_gpu = CUDA.CURAND.rand(2^11, 2^11)\n",
    "    @btime $M_on_gpu * $M_on_gpu; nothing\n",
    "else\n",
    "    println(\"No GPU found.\")\n",
    "end"
   ]
  },
  {
   "cell_type": "code",
   "execution_count": 1,
   "metadata": {
    "id": "X9wQ-0k4UGtc"
   },
   "outputs": [],
   "source": [
    "import Pkg"
   ]
  },
  {
   "cell_type": "code",
   "execution_count": 2,
   "metadata": {
    "id": "sncnvAWHUJFA"
   },
   "outputs": [
    {
     "name": "stderr",
     "output_type": "stream",
     "text": [
      "\u001b[32m\u001b[1m    Updating\u001b[22m\u001b[39m registry at `C:\\Users\\Konrad Grudzinski\\.julia\\registries\\General`\n",
      "\u001b[32m\u001b[1m    Updating\u001b[22m\u001b[39m git-repo `https://github.com/JuliaRegistries/General.git`\n",
      "\u001b[32m\u001b[1m   Resolving\u001b[22m\u001b[39m package versions...\n",
      "\u001b[32m\u001b[1m  No Changes\u001b[22m\u001b[39m to `C:\\Users\\Konrad Grudzinski\\.julia\\environments\\v1.6\\Project.toml`\n",
      "\u001b[32m\u001b[1m  No Changes\u001b[22m\u001b[39m to `C:\\Users\\Konrad Grudzinski\\.julia\\environments\\v1.6\\Manifest.toml`\n",
      "\u001b[32m\u001b[1mPrecompiling\u001b[22m\u001b[39m project...\n",
      "\u001b[32m  ✓ \u001b[39mSubClonalSelection\n",
      "  1 dependency successfully precompiled in 22 seconds (156 already precompiled)\n",
      "\u001b[32m\u001b[1m   Resolving\u001b[22m\u001b[39m package versions...\n",
      "\u001b[32m\u001b[1m  No Changes\u001b[22m\u001b[39m to `C:\\Users\\Konrad Grudzinski\\.julia\\environments\\v1.6\\Project.toml`\n",
      "\u001b[32m\u001b[1m  No Changes\u001b[22m\u001b[39m to `C:\\Users\\Konrad Grudzinski\\.julia\\environments\\v1.6\\Manifest.toml`\n",
      "\u001b[32m\u001b[1mPrecompiling\u001b[22m\u001b[39m project...\n",
      "\u001b[32m  ✓ \u001b[39mSubClonalSelection\n",
      "  1 dependency successfully precompiled in 16 seconds (156 already precompiled)\n",
      "\u001b[32m\u001b[1m   Resolving\u001b[22m\u001b[39m package versions...\n",
      "\u001b[32m\u001b[1m  No Changes\u001b[22m\u001b[39m to `C:\\Users\\Konrad Grudzinski\\.julia\\environments\\v1.6\\Project.toml`\n",
      "\u001b[32m\u001b[1m  No Changes\u001b[22m\u001b[39m to `C:\\Users\\Konrad Grudzinski\\.julia\\environments\\v1.6\\Manifest.toml`\n",
      "\u001b[32m\u001b[1mPrecompiling\u001b[22m\u001b[39m project...\n",
      "\u001b[32m  ✓ \u001b[39mSubClonalSelection\n",
      "  1 dependency successfully precompiled in 19 seconds (156 already precompiled)\n",
      "\u001b[32m\u001b[1m   Resolving\u001b[22m\u001b[39m package versions...\n",
      "\u001b[32m\u001b[1m  No Changes\u001b[22m\u001b[39m to `C:\\Users\\Konrad Grudzinski\\.julia\\environments\\v1.6\\Project.toml`\n",
      "\u001b[32m\u001b[1m  No Changes\u001b[22m\u001b[39m to `C:\\Users\\Konrad Grudzinski\\.julia\\environments\\v1.6\\Manifest.toml`\n",
      "\u001b[32m\u001b[1mPrecompiling\u001b[22m\u001b[39m project...\n",
      "\u001b[32m  ✓ \u001b[39mSubClonalSelection\n",
      "  1 dependency successfully precompiled in 19 seconds (156 already precompiled)\n",
      "\u001b[32m\u001b[1m   Resolving\u001b[22m\u001b[39m package versions...\n",
      "\u001b[32m\u001b[1m  No Changes\u001b[22m\u001b[39m to `C:\\Users\\Konrad Grudzinski\\.julia\\environments\\v1.6\\Project.toml`\n",
      "\u001b[32m\u001b[1m  No Changes\u001b[22m\u001b[39m to `C:\\Users\\Konrad Grudzinski\\.julia\\environments\\v1.6\\Manifest.toml`\n",
      "\u001b[32m\u001b[1mPrecompiling\u001b[22m\u001b[39m project...\n",
      "\u001b[32m  ✓ \u001b[39mSubClonalSelection\n",
      "  1 dependency successfully precompiled in 17 seconds (156 already precompiled)\n",
      "\u001b[32m\u001b[1m   Resolving\u001b[22m\u001b[39m package versions...\n",
      "\u001b[32m\u001b[1m  No Changes\u001b[22m\u001b[39m to `C:\\Users\\Konrad Grudzinski\\.julia\\environments\\v1.6\\Project.toml`\n",
      "\u001b[32m\u001b[1m  No Changes\u001b[22m\u001b[39m to `C:\\Users\\Konrad Grudzinski\\.julia\\environments\\v1.6\\Manifest.toml`\n",
      "\u001b[32m\u001b[1mPrecompiling\u001b[22m\u001b[39m project...\n",
      "\u001b[32m  ✓ \u001b[39mSubClonalSelection\n",
      "  1 dependency successfully precompiled in 17 seconds (156 already precompiled)\n"
     ]
    }
   ],
   "source": [
    "Pkg.add(\"DataFrames\")\n",
    "Pkg.add(\"Distances\")\n",
    "Pkg.add(\"StatsBase\")\n",
    "Pkg.add(\"Distributions\")\n",
    "Pkg.add(\"Zygote\")\n",
    "Pkg.add(\"Flux\")\n",
    "using DataFrames\n",
    "using Distributions\n",
    "using StatsBase\n",
    "using Distances\n",
    "using Zygote\n",
    "using Flux"
   ]
  },
  {
   "cell_type": "code",
   "execution_count": null,
   "metadata": {},
   "outputs": [],
   "source": [
    "counts(mutations,minimum(mutations):maximum(mutations))"
   ]
  },
  {
   "cell_type": "code",
   "execution_count": 81,
   "metadata": {},
   "outputs": [
    {
     "ename": "LoadError",
     "evalue": "BoundsError: attempt to access 4-element Vector{Int64} at index [5]",
     "output_type": "error",
     "traceback": [
      "BoundsError: attempt to access 4-element Vector{Int64} at index [5]",
      "",
      "Stacktrace:",
      " [1] getindex(A::Vector{Int64}, i1::Int64)",
      "   @ Base .\\array.jl:805",
      " [2] top-level scope",
      "   @ In[81]:3",
      " [3] eval",
      "   @ .\\boot.jl:360 [inlined]",
      " [4] include_string(mapexpr::typeof(REPL.softscope), mod::Module, code::String, filename::String)",
      "   @ Base .\\loading.jl:1116"
     ]
    }
   ],
   "source": [
    "a = [1,6,4,3,7,9,2]\n",
    "b = [5,3,7,3]\n",
    "b[5]"
   ]
  },
  {
   "cell_type": "markdown",
   "metadata": {
    "id": "9vHHDnUnTNF8"
   },
   "source": [
    "---"
   ]
  },
  {
   "cell_type": "code",
   "execution_count": 75,
   "metadata": {
    "id": "cf4xy5WsTLCs"
   },
   "outputs": [
    {
     "data": {
      "text/plain": [
       "getCDF (generic function with 1 method)"
      ]
     },
     "execution_count": 75,
     "metadata": {},
     "output_type": "execute_result"
    }
   ],
   "source": [
    "\"\"\"\n",
    "    simulate(; <keyword arguments>)\n",
    "\n",
    "Simulate a stochastic model of tumour growth with a single subclone introduced at a random time and with a random fitness advantage. Output return synthetic sequencing data.\n",
    "...\n",
    "## Arguments\n",
    "- `read_depth = 200.0`: Mean read depth of the target data set\n",
    "- `detectionlimit = 5/read_depth`: Ability to detect low frequency variants. Assumes 5 reads are needed to call a variant.\n",
    "- `μ = 10.0`: Mutation rate per division per genome (this will timesed by ploidy for the mutation rate per cell). At each division a Poisson random variable with mean μ is sampled.\n",
    "- `clonalmutations = 100.0`: Number of clonal mutations present in the first cell.\n",
    "- `nclones = 1`: Number of subclones introduced\n",
    "- `Nmax = 10^4`: Maximum population size.\n",
    "- `ρ = 0.0`: Overdispersion parameter for beta-binomial model of sequencing data. ρ = 0.0 means model is binomial sampling\n",
    "- `timefunction = exptime`: Function for KMC algorithm timestep. exptime returns an exponentially distributed random variable, if you would rather return the mean of the distribution define a function that returns 1. ie `returnone() = 1`.\n",
    "- `ploidy = 2`: ploidy of the genome\n",
    "- `d = 0.0`: Death rate of the thost population in the tumour\n",
    "- `b = log(2)`: Birth rate of the population. Set to `log(2)` so that tumour doubles with each unit increase in t in the absence of cell death.\n",
    "- `fixedmu = false`: If set to false number of mutations per division is fixed and not sampled from a poisson distribution.\n",
    "...\n",
    "\"\"\"\n",
    "function simulate(; nclones = 1, ploidy = 2, read_depth = 100.0, detectionlimit = 5 ./ read_depth, clonalmutations = 100.0, μ = 10.0, d = 0.0, b = log(2), ρ = 0.0, Nmax = 10^4, s = repeat([1.0], inner = nclones), tevent = collect(1.0:0.5:100.0)[1:nclones], cellularity = 1.0, fixedmu = false, timefunction::Function = exptime, maxclonefreq = 200)\n",
    "\n",
    "    nclones == length(s) || error(\"Number of clones is $(nclones), size of selection coefficient array is $(length(s)), these must be the same size \")\n",
    "    nclones == length(tevent) || error(\"Number of clones is $(nclones), size of selection coefficient array is $(length(tevent)), these must be the same size \")\n",
    "    IP = InputParameters(nclones,\n",
    "    Nmax,\n",
    "    detectionlimit,\n",
    "    ploidy,\n",
    "    read_depth,\n",
    "    clonalmutations,\n",
    "    s,\n",
    "    (μ/2) * ploidy,\n",
    "    b,\n",
    "    d,\n",
    "    tevent,\n",
    "    ρ,\n",
    "    cellularity,\n",
    "    fixedmu,\n",
    "    timefunction,\n",
    "    maxclonefreq)\n",
    "\n",
    "    #get simulation data\n",
    "    simresult, IP = run1simulation(IP, 0.0, 1.0)\n",
    "\n",
    "    #get sampled VAFs\n",
    "    if IP.ρ > 0.0\n",
    "        sampleddata = sampledhist(simresult.trueVAF, IP.Nmax, IP.ρ, detectionlimit = IP.detectionlimit, ploidy = IP.ploidy, read_depth = IP.read_depth, cellularity = IP.cellularity)\n",
    "    else\n",
    "        sampleddata = sampledhist(simresult.trueVAF, IP.Nmax, detectionlimit = IP.detectionlimit, ploidy = IP.ploidy, read_depth = IP.read_depth, cellularity = IP.cellularity)\n",
    "    end\n",
    "\n",
    "    return Simulation(IP, simresult, sampleddata)\n",
    "end\n",
    "\n",
    "mutable struct SampledData\n",
    "    DF::DataFrame\n",
    "    VAF::Array{Float64,1}\n",
    "    counts::Array{Int64,1}\n",
    "    depth::Array{Int64,1}\n",
    "end\n",
    "\n",
    "mutable struct Simulation\n",
    "  input::InputParameters\n",
    "  output::SimResult\n",
    "  sampleddata::SampledData\n",
    "end\n",
    "\n",
    "\n",
    "###############################################################################\n",
    "\n",
    "function betabinom(p, n, ρ)\n",
    "    μ = p * n\n",
    "    shape1 = ((μ / n) * ((1 / ρ) - 1))\n",
    "    shape2 = abs(n * shape1/μ - shape1)\n",
    "    return rand(Binomial(n, rand(Beta(shape1, shape2))))\n",
    "end\n",
    "\n",
    "\n",
    "function sampledhist(AF::Array{Float64, 1}, cellnum::Int64; detectionlimit = 0.1, ploidy = 2.0, read_depth = 100.0, cellularity = 1.0)\n",
    "\n",
    "    AF = AF./ploidy\n",
    "    AF = AF .* cellularity\n",
    "    filter!(x -> x > detectionlimit * cellnum, AF)\n",
    "    samp_percent = read_depth/cellnum\n",
    "    #depth = rand(Binomial(cellnum,samp_percent), length(AF))\n",
    "    depth = rand(Poisson(read_depth), length(AF))\n",
    "    samp_alleles = map((n, p) -> rand(Binomial(n, p)), depth, AF/cellnum)\n",
    "\n",
    "    VAF = samp_alleles./depth\n",
    "\n",
    "    #data for histogram\n",
    "    x = 0.005:0.01:1.005\n",
    "    y = fit(Histogram, VAF, x, closed=:right)\n",
    "    DFhist = DataFrame(VAF = x[1:end-1], freq = y.weights)\n",
    "\n",
    "    SampledData(DFhist, VAF, samp_alleles, depth)\n",
    "end\n",
    "\n",
    "function sampledhist(AF, cellnum, ρ; detectionlimit = 0.1, ploidy = 2.0, read_depth = 100.0, cellularity = 1.0)\n",
    "\n",
    "    AF = AF./ploidy\n",
    "    AF = AF .* cellularity\n",
    "    filter!(x -> x > detectionlimit * cellnum, AF)\n",
    "    samp_percent = read_depth/cellnum\n",
    "    #depth = rand(Binomial(cellnum, samp_percent), length(AF))\n",
    "    depth = rand(Poisson(read_depth), length(AF))\n",
    "    samp_alleles = map((x, y) -> betabinom(x, y, ρ), AF/cellnum, depth)\n",
    "    VAF = samp_alleles./depth\n",
    "\n",
    "    #data for histogram\n",
    "    x = 0.005:0.01:1.005\n",
    "    y = fit(Histogram, VAF, x, closed=:right)\n",
    "    DFhist = DataFrame(VAF = x[1:end-1], freq = y.weights)\n",
    "\n",
    "    SampledData(DFhist, VAF, samp_alleles, depth)\n",
    "end\n",
    "\n",
    "function getCDF(VAF::Array, step_size::Float64; fmin = 0.05, fmax = 0.7)\n",
    "  #fast way to calculate CDF\n",
    "  out = cumsum(fit(Histogram, VAF, fmin:step_size:fmax,closed=:left).weights[1:end - 1])\n",
    "  out = out .- out[1]\n",
    "  return out\n",
    "end"
   ]
  },
  {
   "cell_type": "code",
   "execution_count": 18,
   "metadata": {
    "collapsed": true,
    "id": "iCYs6aDpbhfY"
   },
   "outputs": [
    {
     "ename": "LoadError",
     "evalue": "MethodError: no method matching iterate(::typeof(cdf))\n\u001b[0mClosest candidates are:\n\u001b[0m  iterate(\u001b[91m::Union{LinRange, StepRangeLen}\u001b[39m) at range.jl:664\n\u001b[0m  iterate(\u001b[91m::Union{LinRange, StepRangeLen}\u001b[39m, \u001b[91m::Int64\u001b[39m) at range.jl:664\n\u001b[0m  iterate(\u001b[91m::T\u001b[39m) where T<:Union{Base.KeySet{var\"#s77\", var\"#s76\"} where {var\"#s77\", var\"#s76\"<:Dict}, Base.ValueIterator{var\"#s75\"} where var\"#s75\"<:Dict} at dict.jl:693\n\u001b[0m  ...",
     "output_type": "error",
     "traceback": [
      "MethodError: no method matching iterate(::typeof(cdf))\n\u001b[0mClosest candidates are:\n\u001b[0m  iterate(\u001b[91m::Union{LinRange, StepRangeLen}\u001b[39m) at range.jl:664\n\u001b[0m  iterate(\u001b[91m::Union{LinRange, StepRangeLen}\u001b[39m, \u001b[91m::Int64\u001b[39m) at range.jl:664\n\u001b[0m  iterate(\u001b[91m::T\u001b[39m) where T<:Union{Base.KeySet{var\"#s77\", var\"#s76\"} where {var\"#s77\", var\"#s76\"<:Dict}, Base.ValueIterator{var\"#s75\"} where var\"#s75\"<:Dict} at dict.jl:693\n\u001b[0m  ...",
      "",
      "Stacktrace:",
      " [1] (::var\"#61#62\")(io::IOStream)",
      "   @ Main .\\In[18]:2",
      " [2] open(::var\"#61#62\", ::String, ::Vararg{String, N} where N; kwargs::Base.Iterators.Pairs{Union{}, Union{}, Tuple{}, NamedTuple{(), Tuple{}}})",
      "   @ Base .\\io.jl:330",
      " [3] open(::Function, ::String, ::String)",
      "   @ Base .\\io.jl:328",
      " [4] top-level scope",
      "   @ In[18]:1",
      " [5] eval",
      "   @ .\\boot.jl:360 [inlined]",
      " [6] include_string(mapexpr::typeof(REPL.softscope), mod::Module, code::String, filename::String)",
      "   @ Base .\\loading.jl:1116"
     ]
    }
   ],
   "source": [
    "io = open(\"test.txt\", \"w\") do io\n",
    "  for x in cdf\n",
    "    println(io, x)\n",
    "  end\n",
    "end"
   ]
  },
  {
   "cell_type": "code",
   "execution_count": 5,
   "metadata": {
    "id": "4aKQ2oe6nF-A"
   },
   "outputs": [
    {
     "data": {
      "text/plain": [
       "arrayed_params (generic function with 1 method)"
      ]
     },
     "execution_count": 5,
     "metadata": {},
     "output_type": "execute_result"
    }
   ],
   "source": [
    "function get_parameters()\n",
    "    nclones = rand(0:2)\n",
    "    ploidy = rand(1:2)\n",
    "    read_depth = rand(50:500)\n",
    "    clonalmutations = rand(50:500)\n",
    "    mu = rand(2:20)\n",
    "    d = rand(Float64)/3\n",
    "    b = rand(Float64) + 0.25\n",
    "    cellularity = rand(Float64) + 0.1\n",
    "    detectionlimit = rand(Float64)/40 + 0.1\n",
    "    rho = rand(Float64)/4\n",
    "    return Dict(:nclones=>nclones, :ploidy=>ploidy, :read_depth=>read_depth, :clonalmutations=>clonalmutations, :μ=>mu, :d=>d, :b=>b, :cellularity=>cellularity, :detectionlimit=>detectionlimit, :ρ=>rho)\n",
    "end\n",
    "\n",
    "function arrayed_params(params)\n",
    "    return [params[:nclones], params[:ploidy], params[:read_depth], params[:clonalmutations], params[:μ], params[:d], params[:b], params[:cellularity], params[:detectionlimit], params[:ρ]]\n",
    "end"
   ]
  },
  {
   "cell_type": "code",
   "execution_count": 6,
   "metadata": {
    "id": "6KrHWEU-dQQc"
   },
   "outputs": [
    {
     "data": {
      "text/plain": [
       "ADAM(0.0002, (0.9, 0.999), IdDict{Any, Any}())"
      ]
     },
     "execution_count": 6,
     "metadata": {},
     "output_type": "execute_result"
    }
   ],
   "source": [
    "lr_g = 2e-4          # Learning rate of the generator network\n",
    "lr_d = 2e-4          # Learning rate of the discriminator network\n",
    "batch_size = 10     # batch size\n",
    "num_epochs = 100       # Number of epochs to train for\n",
    "output_period = 100  # Period length for plots of generator samples\n",
    "n_features = 140     # Length of CDF vector\n",
    "input_dim = 10     # Dimension of latent space\n",
    "opt_dscr = ADAM(lr_d)# Optimizer for the discriminator\n",
    "opt_gen = ADAM(lr_g) # Optimizer for the generator"
   ]
  },
  {
   "cell_type": "code",
   "execution_count": 7,
   "metadata": {
    "id": "JxpwxJjXdm44"
   },
   "outputs": [
    {
     "data": {
      "text/plain": [
       "Chain(Dense(10, 256, #23), Dense(256, 512, #24), Dense(512, 1024, #25), Dense(1024, 140, tanh))"
      ]
     },
     "execution_count": 7,
     "metadata": {},
     "output_type": "execute_result"
    }
   ],
   "source": [
    "generator = Chain(Dense(input_dim, 256, x -> leakyrelu(x, 0.2f0)),\n",
    "                    Dense(256, 512, x -> leakyrelu(x, 0.2f0)),\n",
    "                    Dense(512, 1024, x -> leakyrelu(x, 0.2f0)),\n",
    "                    Dense(1024, n_features, tanh))# |> gpu"
   ]
  },
  {
   "cell_type": "code",
   "execution_count": 8,
   "metadata": {
    "id": "_uyu5U8Bdbu0"
   },
   "outputs": [
    {
     "data": {
      "text/plain": [
       "Chain(Dense(140, 1024, #29), Dropout(0.3), Dense(1024, 512, #30), Dropout(0.3), Dense(512, 256, #31), Dropout(0.3), Dense(256, 1, σ))"
      ]
     },
     "execution_count": 8,
     "metadata": {},
     "output_type": "execute_result"
    }
   ],
   "source": [
    "discriminator = Chain(Dense(n_features, 1024, x -> leakyrelu(x, 0.2f0)),\n",
    "                        Dropout(0.3),\n",
    "                        Dense(1024, 512, x -> leakyrelu(x, 0.2f0)),\n",
    "                        Dropout(0.3),\n",
    "                        Dense(512, 256, x -> leakyrelu(x, 0.2f0)),\n",
    "                        Dropout(0.3),\n",
    "                        Dense(256, 1, sigmoid))# |> gpu"
   ]
  },
  {
   "cell_type": "code",
   "execution_count": 9,
   "metadata": {
    "id": "jcpaBhSuli8g"
   },
   "outputs": [
    {
     "data": {
      "text/plain": [
       "train_dscr! (generic function with 1 method)"
      ]
     },
     "execution_count": 9,
     "metadata": {},
     "output_type": "execute_result"
    }
   ],
   "source": [
    "function train_dscr!(discriminator, real_data, fake_data)\n",
    "    this_batch = size(real_data)[end] # Number of samples in the batch\n",
    "    # Concatenate real and fake data into one big vector\n",
    "    all_data = hcat(real_data, fake_data)\n",
    "\n",
    "    # Target vector for predictions: 1 for real data, 0 for fake data.\n",
    "    all_target = [1,0]# |> gpu;\n",
    "\n",
    "    ps = Flux.params(discriminator)\n",
    "    loss, pullback = Zygote.pullback(ps) do\n",
    "        preds = discriminator(all_data)\n",
    "        loss = Flux.Losses.binarycrossentropy(preds, all_target)\n",
    "    end\n",
    "    # To get the gradients we evaluate the pullback with 1.0 as a seed gradient.\n",
    "    grads = pullback(1f0)\n",
    "\n",
    "    # Update the parameters of the discriminator with the gradients we calculated above\n",
    "    Flux.update!(opt_dscr, Flux.params(discriminator), grads)\n",
    "    \n",
    "    return loss \n",
    "end"
   ]
  },
  {
   "cell_type": "code",
   "execution_count": 10,
   "metadata": {
    "id": "faTVshxqlqu8"
   },
   "outputs": [
    {
     "data": {
      "text/plain": [
       "train_gen! (generic function with 1 method)"
      ]
     },
     "execution_count": 10,
     "metadata": {},
     "output_type": "execute_result"
    }
   ],
   "source": [
    "function train_gen!(discriminator, generator)\n",
    "    # Sample noise\n",
    "    parameters = get_parameters()# |> gpu;\n",
    "\n",
    "    # Define parameters and get the pullback\n",
    "    ps = Flux.params(generator)\n",
    "    # Evaluate the loss function while calculating the pullback. We get the loss for free\n",
    "    loss, back = Zygote.pullback(ps) do\n",
    "        preds = discriminator(generator(arrayed_params(parameters)));\n",
    "        loss = Flux.Losses.binarycrossentropy(preds, 1.) \n",
    "    end\n",
    "    # Evaluate the pullback with a seed-gradient of 1.0 to get the gradients for\n",
    "    # the parameters of the generator\n",
    "    grads = back(1.0f0)\n",
    "    Flux.update!(opt_gen, Flux.params(generator), grads)\n",
    "    return loss\n",
    "end"
   ]
  },
  {
   "cell_type": "code",
   "execution_count": 11,
   "metadata": {
    "id": "TmpERb5oiLVU"
   },
   "outputs": [
    {
     "data": {
      "text/plain": [
       "1"
      ]
     },
     "execution_count": 11,
     "metadata": {},
     "output_type": "execute_result"
    }
   ],
   "source": [
    "lossvec_gen = zeros(num_epochs)\n",
    "lossvec_dscr = zeros(num_epochs)\n",
    "n = 1"
   ]
  },
  {
   "cell_type": "code",
   "execution_count": null,
   "metadata": {
    "id": "mmLE_K2miwDU"
   },
   "outputs": [],
   "source": [
    "println(n)\n",
    "loss_sum_gen = 0.0f0\n",
    "loss_sum_dscr = 0.0f0\n",
    "\n",
    "for i in 1:batch_size\n",
    "    parameters = get_parameters()\n",
    "    real_data = getCDF(simulate(;parameters...).sampleddata.VAF, 0.005, fmax=0.755);\n",
    "\n",
    "    # Train the discriminator\n",
    "    fake_data = generator(arrayed_params(parameters))\n",
    "    loss_dscr = train_dscr!(discriminator, real_data, fake_data)\n",
    "    loss_sum_dscr += loss_dscr\n",
    "\n",
    "    # Train the generator\n",
    "    loss_gen = train_gen!(discriminator, generator)\n",
    "    loss_sum_gen += loss_gen\n",
    "end\n",
    "\n",
    "# Add the per-sample loss of the generator and discriminator\n",
    "lossvec_gen[n] = loss_sum_gen / batch_size\n",
    "lossvec_dscr[n] = loss_sum_dscr / batch_size\n",
    "n += 1"
   ]
  },
  {
   "cell_type": "code",
   "execution_count": 37,
   "metadata": {
    "colab": {
     "background_save": true
    },
    "id": "q9UZmDG75hJM",
    "outputId": "25d1961f-e2a2-45bc-d3e0-b18f28f2c429"
   },
   "outputs": [
    {
     "data": {
      "text/plain": [
       "([0.7297754983463378, 0.7016590070963671, 0.6406931500886153, 0.0, 0.0, 0.0, 0.0, 0.0, 0.0, 0.0  …  0.0, 0.0, 0.0, 0.0, 0.0, 0.0, 0.0, 0.0, 0.0, 0.0], [7.648880723185786, 8.503946536243358, 8.513192774249358, 0.0, 0.0, 0.0, 0.0, 0.0, 0.0, 0.0  …  0.0, 0.0, 0.0, 0.0, 0.0, 0.0, 0.0, 0.0, 0.0, 0.0])"
      ]
     },
     "execution_count": 37,
     "metadata": {},
     "output_type": "execute_result"
    }
   ],
   "source": [
    "lossvec_gen, lossvec_dscr"
   ]
  },
  {
   "cell_type": "code",
   "execution_count": null,
   "metadata": {
    "id": "Rhd7e_xo2hM0"
   },
   "outputs": [
    {
     "name": "stdout",
     "output_type": "stream",
     "text": [
      "1\n",
      "2\n",
      "3\n",
      "4\n",
      "5\n",
      "6\n",
      "7"
     ]
    }
   ],
   "source": [
    "for n in 1:num_epochs\n",
    "    println(n)\n",
    "    loss_sum_gen = 0.0f0\n",
    "    loss_sum_dscr = 0.0f0\n",
    "\n",
    "    for i in 1:batch_size\n",
    "        parameters = get_parameters()\n",
    "        real_data = getCDF(simulate(;parameters...).sampleddata.VAF, 0.005, fmax=0.755);\n",
    "\n",
    "        # Train the discriminator\n",
    "        fake_data = generator(arrayed_params(parameters))\n",
    "        loss_dscr = train_dscr!(discriminator, real_data, fake_data)\n",
    "        loss_sum_dscr += loss_dscr\n",
    "\n",
    "        # Train the generator\n",
    "        loss_gen = train_gen!(discriminator, generator)\n",
    "        loss_sum_gen += loss_gen\n",
    "    end\n",
    "\n",
    "    # Add the per-sample loss of the generator and discriminator\n",
    "    lossvec_gen[n] = loss_sum_gen / batch_size\n",
    "    lossvec_dscr[n] = loss_sum_dscr / batch_size\n",
    "end "
   ]
  },
  {
   "cell_type": "code",
   "execution_count": 76,
   "metadata": {},
   "outputs": [
    {
     "data": {
      "text/plain": [
       "simulate2 (generic function with 1 method)"
      ]
     },
     "execution_count": 76,
     "metadata": {},
     "output_type": "execute_result"
    }
   ],
   "source": [
    "function simulate2(; nclones = 1, ploidy = 2, read_depth = 100.0, detectionlimit = 5 ./ read_depth, clonalmutations = 100.0, μ = 10.0, d = 0.0, b = log(2), ρ = 0.0, Nmax = 10^4, s = repeat([1.0], inner = nclones), tevent = collect(1.0:0.5:100.0)[1:nclones], cellularity = 1.0, fixedmu = false, timefunction::Function = exptime, maxclonefreq = 200)\n",
    "\n",
    "    nclones == length(s) || error(\"Number of clones is $(nclones), size of selection coefficient array is $(length(s)), these must be the same size \")\n",
    "    nclones == length(tevent) || error(\"Number of clones is $(nclones), size of selection coefficient array is $(length(tevent)), these must be the same size \")\n",
    "    IP = InputParameters(nclones,\n",
    "    Nmax,\n",
    "    detectionlimit,\n",
    "    ploidy,\n",
    "    read_depth,\n",
    "    clonalmutations,\n",
    "    s,\n",
    "    (μ/2) * ploidy,\n",
    "    b,\n",
    "    d,\n",
    "    tevent,\n",
    "    ρ,\n",
    "    cellularity,\n",
    "    fixedmu,\n",
    "    timefunction,\n",
    "    maxclonefreq)\n",
    "\n",
    "    #get simulation data\n",
    "    simresult, IP = run1simulation(IP, 0.0, 1.0)\n",
    "\n",
    "    return simresult, IP\n",
    "end"
   ]
  },
  {
   "cell_type": "code",
   "execution_count": 100,
   "metadata": {
    "id": "U02k3QMoS96E"
   },
   "outputs": [
    {
     "data": {
      "text/plain": [
       "run1simulation (generic function with 1 method)"
      ]
     },
     "execution_count": 100,
     "metadata": {},
     "output_type": "execute_result"
    }
   ],
   "source": [
    "#mutable struct definitions\n",
    "abstract type Stem end\n",
    "\n",
    "mutable struct CancerStemCell <: Stem\n",
    "    mutations::Array{Int64,1}\n",
    "    fitness::Int64\n",
    "end\n",
    "\n",
    "mutable struct CancerNonStemCell <: Stem\n",
    "    mutations::Array{Int64,1}\n",
    "    fitness::Int64\n",
    "    Ndivs::Int64\n",
    "end\n",
    "\n",
    "mutable struct CancerCells\n",
    "  stemcells::Array{CancerStemCell, 1}\n",
    "  nonstemcells::Array{CancerNonStemCell, 1}\n",
    "  ncells::Array{Int64, 1}\n",
    "  α::Float64\n",
    "  d::Float64\n",
    "end\n",
    "\n",
    "mutable struct RawResults\n",
    "  cells::CancerCells\n",
    "  Nvec::Array{Float64, 1}\n",
    "  divisions::Array{Int64, 1}\n",
    "end\n",
    "\n",
    "mutable struct cancercell\n",
    "    mutations::Array{Int64,1}\n",
    "    fitness::Int64\n",
    "end\n",
    "\n",
    "mutable struct RawOutput\n",
    "    Nvec::Array{Int64, 1}\n",
    "    tvec::Array{Float64, 1}\n",
    "    muts::Array{Int64, 1}\n",
    "    cells::Array{cancercell, 1}\n",
    "    birthrates::Array{Float64, 1}\n",
    "    deathrates::Array{Float64, 1}\n",
    "    clonetype::Array{Int64, 1}\n",
    "    clonetime::Array{Float64, 1}\n",
    "    subclonemutations::Array{Any, 1}\n",
    "    cloneN::Array{Int64, 1}\n",
    "    Ndivisions::Array{Int64, 1}\n",
    "    aveDivisions::Array{Float64, 1}\n",
    "end\n",
    "\n",
    "mutable struct bdprocess\n",
    "  N::Array{Int64, 1}\n",
    "  t::Array{Float64, 1}\n",
    "  clonefreq::Array{Float64, 1}\n",
    "end\n",
    "\n",
    "mutable struct SimResult\n",
    "    clonefreq::Array{Float64,1}\n",
    "    clonefreqp::Array{Float64,1}\n",
    "    clonetime::Array{Float64,1}\n",
    "    subclonemutations::Array{Int64,1}\n",
    "    birthrates::Array{Float64,1}\n",
    "    deathrates::Array{Float64,1}\n",
    "    tend::Float64\n",
    "    trueVAF::Array{Float64,1}\n",
    "    cloneN::Array{Int64, 1}\n",
    "    clonetype::Array{Int64, 1}\n",
    "    Ndivisions::Array{Int64, 1}\n",
    "    cells::Array{cancercell, 1}\n",
    "    aveDivisions::Array{Float64, 1}\n",
    "end\n",
    "\n",
    "mutable struct InputParameters\n",
    "    numclones::Int64\n",
    "    Nmax::Int64\n",
    "    detectionlimit::Float64\n",
    "    ploidy::Int64\n",
    "    read_depth::Float64\n",
    "    clonalmutations::Int64\n",
    "    selection::Array{Float64,1}\n",
    "    μ::Float64\n",
    "    b::Float64\n",
    "    d::Float64\n",
    "    tevent::Array{Float64,1}\n",
    "    ρ::Float64\n",
    "    cellularity::Float64\n",
    "    fixedmu::Bool\n",
    "    timefunction::Function\n",
    "    maxclonefreq::Int64\n",
    "end\n",
    "\n",
    "mutable struct StemCellSimResult\n",
    "    trueVAF::Array{Float64,1}\n",
    "    cells::CancerCells\n",
    "    N::Array{Float64, 1}\n",
    "    divisions::Array{Float64, 1}\n",
    "    stemcellfraction::Array{Float64,1}\n",
    "end\n",
    "\n",
    "###############################################################################\n",
    "\n",
    "function newmutations(cancercell, μ, mutID)\n",
    "    #function to add new mutations to cells based on μ\n",
    "    numbermutations= 1\n",
    "    cancercell.mutations = append!(cancercell.mutations, mutID:mutID+numbermutations-1)\n",
    "    mutID = mutID + numbermutations\n",
    "    return cancercell, mutID\n",
    "end\n",
    "\n",
    "function newmutationsinit(cancercell, μ, mutID)\n",
    "    numbermutations = 0\n",
    "    cancercell.mutations = append!(cancercell.mutations,mutID:mutID+numbermutations-1)\n",
    "    mutID = mutID + numbermutations\n",
    "    return cancercell, mutID\n",
    "end\n",
    "\n",
    "function initializesim(clonalmutations)\n",
    "\n",
    "    #initialize time to zero\n",
    "    t = 0.0\n",
    "    tvec = Float64[]\n",
    "    push!(tvec,t)\n",
    "\n",
    "    #population starts with one cell\n",
    "    N = 1\n",
    "    Nvec = Int64[]\n",
    "    push!(Nvec,N)\n",
    "\n",
    "    #Initialize array of cell type that stores mutations for each cell and their fitness type\n",
    "    #fitness type of 1 is the host population, lowest fitness\n",
    "    cells = cancercell[]\n",
    "    #sizehint!(cells, 10^5)\n",
    "    push!(cells,cancercell([],1))\n",
    "\n",
    "    #need to keep track of mutations, assuming infinite sites, new mutations will be unique,\n",
    "    #we assign each new muation with a unique integer by simply counting up from one\n",
    "    mutID = 1\n",
    "    cells[1],mutID = newmutationsinit(cells[1],clonalmutations,mutID)\n",
    "\n",
    "    return t,tvec,N,Nvec,cells,mutID\n",
    "end\n",
    "\n",
    "exptime() = - log(rand())\n",
    "meantime() = 1\n",
    "\n",
    "function copycell(cancercellold::cancercell)\n",
    "  newcancercell::cancercell = cancercell(copy(cancercellold.mutations), copy(cancercellold.fitness))\n",
    "end\n",
    "\n",
    "function tumourgrow_birthdeath(b, d, Nmax, μ; numclones=1, clonalmutations = μ, s = [0.0], tevent=[0.0], maxclonefreq = 200, timefunction::Function = meantime)\n",
    "\n",
    "    #set array of birthrates\n",
    "    birthrates = [b]\n",
    "    deathrates = [d]\n",
    "    times = vcat(tevent, 0.0)\n",
    "    #time is defined in terms of population doublings\n",
    "    timesN = round.(Int64, vcat(exp.(log(2).*times[1:end-1]), 0.0))\n",
    "\n",
    "    #depending on number of clones add birthrates to model, fitness is randomly distributed between death and birth rates\n",
    "    for i in 1:numclones\n",
    "        push!(deathrates, rand() * deathrates[1])\n",
    "        push!(birthrates,(1 + s[i]) * (birthrates[1] - deathrates[1]) + deathrates[i + 1])\n",
    "    end\n",
    "\n",
    "    #Rmax starts with b + d and changes once a fitter mutant is introduced, this ensures that\n",
    "    # b and d have correct units\n",
    "    Rmax = b + d\n",
    "\n",
    "    #initialize arrays and parameters\n",
    "    t,tvec,N,Nvec,cells,mutID = initializesim(clonalmutations)\n",
    "    muts = Int64[]\n",
    "    push!(muts,mutID)\n",
    "\n",
    "    #we only want to introduce mutant once so have variable that keeps track of how many mutants have been introduced, keep track of which type of which clone aquires new clone\n",
    "    fitmutant = 1\n",
    "    clonetype = Int64[]\n",
    "    clonetime = Float64[]\n",
    "    subclonemutations = Any[]\n",
    "    cloneN = Int64[]\n",
    "    Ndivisions = Int64[]\n",
    "    aveDivisions = Float64[]\n",
    "\n",
    "    clonefreq = zeros(Int64, numclones + 1)\n",
    "    clonefreq[1] = 1\n",
    "\n",
    "    executed = false\n",
    "    changemutrate = broadcast(!, BitArray(undef, numclones + 1))\n",
    "\n",
    "    while N < Nmax\n",
    "\n",
    "        #pick a random cell\n",
    "        randcell = rand(1:N)\n",
    "        r = rand(Uniform(0,Rmax))\n",
    "        Nt = N\n",
    "\n",
    "        #birth event if r<birthrate, access correct birthrate from cells array\n",
    "        if r < birthrates[cells[randcell].fitness]\n",
    "\n",
    "            #population increases by one\n",
    "            N = N + 1\n",
    "            #copy cell and mutations for cell that reproduces\n",
    "            #push!(cells, deepcopy(cells[randcell]))\n",
    "            push!(cells, copycell(cells[randcell]))\n",
    "            #add new mutations to both new cells\n",
    "            if μ > 0.0\n",
    "              cells[randcell],mutID = newmutations(cells[randcell],μ,mutID)\n",
    "              cells[end],mutID = newmutations(cells[end],μ,mutID)\n",
    "            end\n",
    "            push!(muts,mutID)\n",
    "            clonefreq[cells[randcell].fitness] = clonefreq[cells[randcell].fitness] + 1\n",
    "            push!(Nvec, N)\n",
    "            Δt =  1/(Rmax * Nt) .* timefunction()\n",
    "            t = t + Δt\n",
    "            push!(tvec,t)\n",
    "\n",
    "            #if population time is tevent, cell is mutated into fitter cell\n",
    "            if N >= timesN[fitmutant]\n",
    "                if fitmutant != numclones + 1\n",
    "                    #one mutant turns into another \"type\" so decreases in frequency\n",
    "\n",
    "                    clonefreq[cells[randcell].fitness] = clonefreq[cells[randcell].fitness] - 1\n",
    "                    #keep track of how many clones\n",
    "                    fitmutant += 1\n",
    "                    println(fitmutant)\n",
    "                    push!(clonetype, cells[randcell].fitness)\n",
    "                    #change one mutant to fitter mutant\n",
    "                    cells[randcell].fitness = fitmutant\n",
    "                    #new type increases in frequency\n",
    "                    clonefreq[cells[randcell].fitness] = clonefreq[cells[randcell].fitness] + 1\n",
    "\n",
    "                    #change Rmax given that we now have a new fitter mutant\n",
    "                    Rmax = maximum(birthrates[1:fitmutant]) + maximum(deathrates[1:fitmutant])\n",
    "\n",
    "                    push!(clonetime, t)\n",
    "                    push!(subclonemutations, deepcopy(cells[randcell].mutations))\n",
    "                    push!(cloneN, N)\n",
    "                    push!(Ndivisions, length(cells[randcell].mutations))\n",
    "                    divs = map(x -> length(x.mutations), cells)\n",
    "                    push!(aveDivisions, mean(divs))\n",
    "\n",
    "                end\n",
    "            end\n",
    "        end\n",
    "\n",
    "        if (birthrates[cells[randcell].fitness] + deathrates[cells[randcell].fitness]) <= r\n",
    "          push!(Nvec, N)\n",
    "          Δt =  1/(Rmax * Nt) * timefunction()\n",
    "          t = t + Δt\n",
    "          push!(tvec,t)\n",
    "        end\n",
    "\n",
    "        #death event if b<r<b+d\n",
    "        if (birthrates[cells[randcell].fitness] <= r < birthrates[cells[randcell].fitness] + deathrates[cells[randcell].fitness])\n",
    "\n",
    "            #population decreases by 1\n",
    "            N = N - 1\n",
    "            #frequency of cell type decreases\n",
    "            clonefreq[cells[randcell].fitness] = clonefreq[cells[randcell].fitness] - 1\n",
    "            #remove deleted cell\n",
    "            deleteat!(cells,randcell)\n",
    "            push!(Nvec,N)\n",
    "            Δt =  1/(Rmax * Nt) * timefunction()\n",
    "            t = t + Δt\n",
    "            push!(tvec,t)\n",
    "        end\n",
    "\n",
    "        #every cell dies reinitialize simulation\n",
    "        if (N == 0)\n",
    "            t,tvec,N,Nvec,cells,mutID = initializesim(clonalmutations)\n",
    "            muts = Int64[]\n",
    "            push!(muts,mutID)\n",
    "        end\n",
    "\n",
    "        if (executed == false) && ((clonefreq.>maxclonefreq) == changemutrate)\n",
    "            #if population of all clones is sufficiently large no new mutations\n",
    "            #are acquired, can use this approximation as only mutations above 1%\n",
    "            # frequency can be reliably detected\n",
    "            μ = 0\n",
    "            executed = true\n",
    "        end\n",
    "\n",
    "    end\n",
    "    return RawOutput(Nvec, tvec, muts, cells, birthrates, deathrates, clonetype, clonetime, subclonemutations, cloneN, Ndivisions, aveDivisions)\n",
    "end\n",
    "\n",
    "function cellsconvert(cells)\n",
    "    #convert from array of cell types to one array with mutations and one array with cell fitness\n",
    "\n",
    "    fitness = zeros(Int64,length(cells))\n",
    "    mutations = Int64[]\n",
    "    sizehint!(mutations, length(cells) * 10)\n",
    "\n",
    "    for i in 1:length(cells)\n",
    "        append!(mutations,cells[i].mutations)\n",
    "        fitness[i] = cells[i].fitness\n",
    "    end\n",
    "\n",
    "    return mutations, fitness\n",
    "end\n",
    "\n",
    "function allelefreq(mutations, cellnum)\n",
    "    #create dictionary that maps mutation ID to allele frequency\n",
    "    f = counts(mutations,minimum(mutations):maximum(mutations))\n",
    "    muts = collect(minimum(mutations):maximum(mutations))\n",
    "    idx = f .> 0.01\n",
    "    f = map(Float64, f[idx])\n",
    "    muts = muts[idx]\n",
    "    Dict{Int64, Float64}(muts[i]::Int64 => f[i]::Float64 for i in 1:length(f))\n",
    "end\n",
    "\n",
    "function getresults(tevent::Array{Float64, 1}, s::Array{Float64, 1}, b, d, μ, Nmax; ploidy = 2, clonalmutations = 100, nc = 0, timefunction = exptime, maxclonefreq = 200)\n",
    "\n",
    "    #Nvec,tvec,mvec,cells,br,dr,ct,clonetime\n",
    "    sresult = tumourgrow_birthdeath(b, d, Nmax, μ; numclones = nc, s = s, tevent = tevent, clonalmutations = 0, timefunction = timefunction, maxclonefreq = maxclonefreq);\n",
    "    M,fitness = cellsconvert(sresult.cells)\n",
    "\n",
    "    return M, fitness, sresult.tvec[end], sresult.clonetime, sresult.subclonemutations, sresult.birthrates, sresult.deathrates, sresult.cloneN, sresult.clonetype, sresult.Ndivisions, sresult.cells, sresult.aveDivisions\n",
    "\n",
    "end\n",
    "\n",
    "function allelefreqexpand(AFDict, μ, subclonemutations; fixedmu = false)\n",
    "\n",
    "  #expand allele frequency given mutation rate and calculate number of mutations in the subclones\n",
    "  #subclonemutations = convert(Array{Array{Int64,1},1}, subclonemutations)\n",
    "  if fixedmu == false\n",
    "    cmuts = zeros(Int64, length(subclonemutations))\n",
    "    mutfreqs = collect(values(AFDict))\n",
    "    mutids = collect(keys(AFDict))\n",
    "    mutations = rand(Poisson(μ), length(mutfreqs))\n",
    "    AFnew = zeros(Int64, sum(mutations))\n",
    "\n",
    "    for i in 1:length(cmuts)\n",
    "      idx = findall((in)(mutids), subclonemutations[i])\n",
    "      cmuts[i] = sum(mutations[idx])\n",
    "    end\n",
    "\n",
    "    j = 0\n",
    "    for f in 1:length(mutfreqs)\n",
    "        AFnew[(j + 1): j + mutations[f]] = fill(mutfreqs[f], mutations[f])\n",
    "        j = j + mutations[f]\n",
    "    end\n",
    "\n",
    "  else\n",
    "    mutfreqs = collect(values(AFDict))\n",
    "    mutids = collect(keys(AFDict))\n",
    "    μint = round(Int64, μ)\n",
    "    mutations = fill(Int64(μ), length(mutfreqs))\n",
    "    AFnew = zeros(Int64, sum(mutations))\n",
    "    cmuts = zeros(Int64, length(subclonemutations))\n",
    "\n",
    "    for i in 1:length(cmuts)\n",
    "      idx = findin(mutids, subclonemutations[i])\n",
    "      cmuts[i] = sum(mutations[idx])\n",
    "    end\n",
    "\n",
    "    j = 0\n",
    "    for f in 1:length(mutfreqs)\n",
    "      AFnew[(j + 1): j + mutations[f]] = fill(mutfreqs[f], mutations[f])\n",
    "      j = j + mutations[f]\n",
    "    end\n",
    "  end\n",
    "\n",
    "  return AFnew, cmuts\n",
    "end\n",
    "\n",
    "function calculateclonefreq(pctfit, cmuts, clonetype)\n",
    "\n",
    "  cf = deepcopy(pctfit)\n",
    "  parent = clonetype\n",
    "  cloneid = collect(1:length(clonetype))\n",
    "  prev = 0\n",
    "  for i in reverse(cloneid)[1:end-1]\n",
    "    if parent[i] == 0\n",
    "        continue\n",
    "    end\n",
    "    cf[parent[i]] = cf[parent[i]] + cf[i]\n",
    "    cmuts[i] = cmuts[i] - cmuts[parent[i]]\n",
    "  end\n",
    "\n",
    "  return cf, cmuts\n",
    "end\n",
    "\n",
    "\n",
    "function run1simulation(IP::InputParameters, minclonesize, maxclonesize)\n",
    "\n",
    "    M, fitness, tend, clonetime, subclonemutations, br, dr, cloneN, clonetype, Ndivisions, cells, aveDivisions = getresults(IP.tevent, IP.selection, IP.b, IP.d, IP.μ, IP.Nmax; ploidy = IP.ploidy, clonalmutations = IP.clonalmutations, nc = IP.numclones, timefunction = IP.timefunction, maxclonefreq = IP.maxclonefreq)\n",
    "\n",
    "    if length(clonetime)!= IP.numclones\n",
    "\n",
    "        IP.numclones = length(clonetime)\n",
    "        IP.tevent = IP.tevent[1:IP.numclones]\n",
    "        IP.selection = IP.selection[1:IP.numclones]\n",
    "        br = br[1:IP.numclones]\n",
    "        dr = dr[1:IP.numclones]\n",
    "        clonetype = clonetype[1:IP.numclones]\n",
    "\n",
    "    end\n",
    "\n",
    "    AF = allelefreq(M, IP.Nmax)\n",
    "    #println(AF)\n",
    "    AF, cmuts = allelefreqexpand(AF, IP.μ, subclonemutations, fixedmu = IP.fixedmu)\n",
    "    #println(AF)\n",
    "    #println(cmuts)\n",
    "    prepend!(AF, fill(Float64(IP.Nmax), IP.clonalmutations))\n",
    "    \n",
    "    pctfit=Float64[]\n",
    "    for i in 1:IP.numclones push!(pctfit,sum(fitness.==(i+1))/IP.Nmax) end\n",
    "\n",
    "    #remove clones that have frequency < detectionlimit\n",
    "    if length(pctfit) > 1\n",
    "      clonefreq, cmuts = calculateclonefreq(pctfit, cmuts, clonetype .- 1)\n",
    "      !(sum(clonefreq.>1.0) > 0) || error(\"There is a clone with frequency greater than 1, this should be impossible ($(clonefreq)), $(clonetype), $(pctfit)\")\n",
    "    else\n",
    "      clonefreq = pctfit\n",
    "    end\n",
    "\n",
    "    if VERSION < v\"0.6-\"\n",
    "        detectableclones = (clonefreq.>minclonesize) & (clonefreq.<maxclonesize)  # Deprecated as of v0.6\n",
    "    else\n",
    "        detectableclones = (clonefreq.>minclonesize) .& (clonefreq.<maxclonesize)\n",
    "    end\n",
    "    #println(clonefreq)\n",
    "    #println(detectableclones)\n",
    "    clonefreq = clonefreq[detectableclones]\n",
    "    \n",
    "    if sum(detectableclones) != IP.numclones\n",
    "        IP.numclones = sum(detectableclones)\n",
    "        IP.tevent = IP.tevent[detectableclones]\n",
    "        IP.selection = IP.selection[detectableclones]\n",
    "        clonetype = clonetype[detectableclones]\n",
    "        pushfirst!(detectableclones, true)\n",
    "        detectableclones = detectableclones[1:length(br)]\n",
    "        br = br[detectableclones]\n",
    "        dr = dr[detectableclones]\n",
    "    end\n",
    "\n",
    "    return SimResult(clonefreq, pctfit, clonetime, cmuts, br, dr, tend, AF, cloneN, clonetype .- 1, Ndivisions, cells, aveDivisions), IP\n",
    "end\n",
    "\n",
    "###############################################################################\n"
   ]
  },
  {
   "cell_type": "code",
   "execution_count": 123,
   "metadata": {},
   "outputs": [
    {
     "name": "stdout",
     "output_type": "stream",
     "text": [
      "2\n"
     ]
    },
    {
     "data": {
      "text/plain": [
       "SimResult([0.9935], [0.9935], [1.0858122367093466], [6], [0.6931471805599453, 1.3862943611198906], [0.0, 0.0], 8.243210829244488, [10000.0, 10000.0, 10000.0, 10000.0, 10000.0, 10000.0, 10000.0, 10000.0, 10000.0, 10000.0  …  2.0, 2.0, 2.0, 2.0, 2.0, 2.0, 2.0, 2.0, 2.0, 2.0], [2], [0], [1], cancercell[cancercell([1, 3, 5, 7, 11, 33, 49, 91, 153, 233, 413, 423, 1589, 4709, 7381], 2), cancercell([2, 53, 119, 305, 18775], 1), cancercell([1, 4, 23, 45, 851, 12645, 14643, 17781], 2), cancercell([1, 3, 6, 13, 131, 1421, 2523, 6195, 6611, 8551, 12285, 16589], 2), cancercell([1, 3, 5, 8, 9, 29, 87, 453, 541, 889, 1033, 6551], 2), cancercell([1, 3, 5, 8, 10, 19, 79, 129, 219, 281, 299, 877, 2003, 3353, 19953], 2), cancercell([1, 3, 5, 7, 12, 21, 149, 287, 583, 1331, 1411, 3575, 4759], 2), cancercell([1, 3, 6, 14, 15, 17, 313, 931, 1093], 2), cancercell([1, 3, 6, 14, 16, 457, 2259, 7729, 9297, 12565], 2), cancercell([1, 3, 6, 14, 15, 18, 145, 181, 505, 573, 5279, 7565, 12119], 2)  …  cancercell([1, 3, 5, 8, 10, 19, 80, 81, 195, 359  …  615, 636, 649, 1069, 1548, 1726, 4388, 6755, 10422, 19980], 2), cancercell([1, 3, 5, 7, 12, 22, 25, 52, 90, 355  …  1114, 1651, 2784, 2906, 4372, 4575, 5086, 10126, 12207, 19982], 2), cancercell([1, 4, 24, 28, 32, 38, 63, 72, 111, 343  …  823, 871, 2418, 2756, 3667, 5968, 10159, 14295, 15604, 19984], 2), cancercell([1, 3, 5, 7, 11, 34, 39, 61, 68, 141  …  301, 346, 407, 608, 937, 1129, 4284, 4972, 9393, 19986], 2), cancercell([1, 3, 5, 7, 11, 34, 39, 61, 67, 100, 237, 380, 602, 1193, 1378, 1497, 6416, 19988], 2), cancercell([1, 3, 5, 7, 12, 22, 26, 86, 213, 216  …  491, 577, 3750, 4603, 5669, 7069, 10441, 14530, 18072, 19990], 2), cancercell([1, 4, 24, 28, 31, 35, 69, 78, 104, 140, 164, 191, 572, 965, 4513, 5324, 6785, 9841, 14980, 19992], 2), cancercell([1, 3, 5, 7, 11, 34, 39, 62, 159, 1750, 1809, 2164, 2315, 13593, 18998, 19994], 2), cancercell([1, 4, 24, 28, 32, 38, 63, 72, 112, 113, 212, 277, 720, 1016, 2668, 3367, 6495, 11954, 19996], 2), cancercell([1, 3, 5, 7, 12, 22, 25, 52, 89, 134  …  734, 755, 856, 1041, 1243, 2616, 2987, 11748, 17848, 19998], 2)], [1.0])"
      ]
     },
     "execution_count": 123,
     "metadata": {},
     "output_type": "execute_result"
    }
   ],
   "source": [
    "results = simulate2()[1]"
   ]
  },
  {
   "cell_type": "code",
   "execution_count": 168,
   "metadata": {},
   "outputs": [
    {
     "name": "stdout",
     "output_type": "stream",
     "text": [
      "2\n",
      "  0.021376 seconds (148.83 k allocations: 23.710 MiB)\n"
     ]
    }
   ],
   "source": [
    "@time simulate();"
   ]
  },
  {
   "cell_type": "code",
   "execution_count": 126,
   "metadata": {},
   "outputs": [
    {
     "data": {
      "text/plain": [
       "SampledData(100×2 DataFrame\n",
       "│ Row │ VAF     │ freq  │\n",
       "│     │ \u001b[90mFloat64\u001b[39m │ \u001b[90mInt64\u001b[39m │\n",
       "├─────┼─────────┼───────┤\n",
       "│ 1   │ 0.005   │ 1     │\n",
       "│ 2   │ 0.015   │ 3     │\n",
       "│ 3   │ 0.025   │ 1     │\n",
       "│ 4   │ 0.035   │ 4     │\n",
       "│ 5   │ 0.045   │ 11    │\n",
       "│ 6   │ 0.055   │ 5     │\n",
       "│ 7   │ 0.065   │ 15    │\n",
       "│ 8   │ 0.075   │ 11    │\n",
       "│ 9   │ 0.085   │ 12    │\n",
       "│ 10  │ 0.095   │ 14    │\n",
       "⋮\n",
       "│ 90  │ 0.895   │ 0     │\n",
       "│ 91  │ 0.905   │ 0     │\n",
       "│ 92  │ 0.915   │ 0     │\n",
       "│ 93  │ 0.925   │ 0     │\n",
       "│ 94  │ 0.935   │ 0     │\n",
       "│ 95  │ 0.945   │ 0     │\n",
       "│ 96  │ 0.955   │ 0     │\n",
       "│ 97  │ 0.965   │ 0     │\n",
       "│ 98  │ 0.975   │ 0     │\n",
       "│ 99  │ 0.985   │ 0     │\n",
       "│ 100 │ 0.995   │ 0     │, [0.5714285714285714, 0.5573770491803278, 0.43564356435643564, 0.4594594594594595, 0.3684210526315789, 0.41964285714285715, 0.4563106796116505, 0.5196078431372549, 0.4945054945054945, 0.4479166666666667  …  0.20909090909090908, 0.13131313131313133, 0.15, 0.17204301075268819, 0.1926605504587156, 0.17307692307692307, 0.2, 0.19626168224299065, 0.1511627906976744, 0.17708333333333334], [56, 68, 44, 34, 42, 47, 47, 53, 45, 43  …  23, 13, 15, 16, 21, 18, 15, 21, 13, 17], [98, 122, 101, 74, 114, 112, 103, 102, 91, 96  …  110, 99, 100, 93, 109, 104, 75, 107, 86, 96])"
      ]
     },
     "execution_count": 126,
     "metadata": {},
     "output_type": "execute_result"
    }
   ],
   "source": [
    "results.sampleddata"
   ]
  }
 ],
 "metadata": {
  "accelerator": "TPU",
  "colab": {
   "collapsed_sections": [],
   "name": "Copy of Julia_Colab_Notebook_Template.ipynb",
   "provenance": []
  },
  "kernelspec": {
   "display_name": "Julia 1.6.3",
   "language": "julia",
   "name": "julia-1.6"
  },
  "language_info": {
   "file_extension": ".jl",
   "mimetype": "application/julia",
   "name": "julia",
   "version": "1.6.3"
  }
 },
 "nbformat": 4,
 "nbformat_minor": 1
}
