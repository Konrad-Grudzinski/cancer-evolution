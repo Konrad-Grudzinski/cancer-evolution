{
 "cells": [
  {
   "cell_type": "code",
   "execution_count": 1,
   "id": "693ff28b",
   "metadata": {},
   "outputs": [],
   "source": [
    "import pandas as pd\n",
    "import numpy as np"
   ]
  },
  {
   "cell_type": "code",
   "execution_count": 2,
   "id": "a435270d",
   "metadata": {},
   "outputs": [],
   "source": [
    "data = pd.read_csv(\n",
    "    r\"C:\\Users\\Konrad Grudzinski\\OneDrive - University of Glasgow\\Computing\\4th Year\\Individual Project\\DataSets\\mc3_gene_level\\Lung_mc3_filtered100plus.csv\",\n",
    "    sep=\"\\t\"\n",
    ")"
   ]
  },
  {
   "cell_type": "code",
   "execution_count": 3,
   "id": "ae700039",
   "metadata": {},
   "outputs": [],
   "source": [
    "grouped_data = data.groupby(\"sample\")"
   ]
  },
  {
   "cell_type": "code",
   "execution_count": 14,
   "id": "e9b98358",
   "metadata": {},
   "outputs": [
    {
     "data": {
      "text/plain": [
       "'3'"
      ]
     },
     "execution_count": 14,
     "metadata": {},
     "output_type": "execute_result"
    }
   ],
   "source": [
    "r\"{}\".format(3)"
   ]
  },
  {
   "cell_type": "code",
   "execution_count": 19,
   "id": "98096dae",
   "metadata": {},
   "outputs": [],
   "source": [
    "for g in grouped_data:\n",
    "    g[1][\"DNA_VAF\"].to_csv(\n",
    "        r\"C:\\Users\\Konrad Grudzinski\\OneDrive - University of Glasgow\\Computing\\4th Year\\Individual Project\\DataSets\\mc3_gene_level\\samples\\{}.csv\".format(g[0]),\n",
    "        sep = \"\\n\",\n",
    "        index = False,\n",
    "        header = False\n",
    "    )"
   ]
  }
 ],
 "metadata": {
  "kernelspec": {
   "display_name": "Python 3 (ipykernel)",
   "language": "python",
   "name": "python3"
  },
  "language_info": {
   "codemirror_mode": {
    "name": "ipython",
    "version": 3
   },
   "file_extension": ".py",
   "mimetype": "text/x-python",
   "name": "python",
   "nbconvert_exporter": "python",
   "pygments_lexer": "ipython3",
   "version": "3.9.4"
  }
 },
 "nbformat": 4,
 "nbformat_minor": 5
}
