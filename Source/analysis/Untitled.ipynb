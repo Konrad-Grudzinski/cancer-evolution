{
 "cells": [
  {
   "cell_type": "code",
   "execution_count": 40,
   "id": "a2b9d16a",
   "metadata": {},
   "outputs": [],
   "source": [
    "import numpy as np\n",
    "import pandas as pd"
   ]
  },
  {
   "cell_type": "code",
   "execution_count": 3,
   "id": "500e9e01",
   "metadata": {},
   "outputs": [],
   "source": [
    "neutral_pd = pd.read_csv(r\"C:\\Users\\Konrad Grudzinski\\OneDrive - University of Glasgow\\Computing\\4th Year\\Individual Project\\Source\\SubClonalSelection\\example\\neutral.txt\", sep=\"\\n\")\n",
    "oneclone_pd = pd.read_csv(r\"C:\\Users\\Konrad Grudzinski\\OneDrive - University of Glasgow\\Computing\\4th Year\\Individual Project\\Source\\SubClonalSelection\\example\\oneclone.txt\", sep=\"\\n\")"
   ]
  },
  {
   "cell_type": "code",
   "execution_count": 7,
   "id": "2f15d7c2",
   "metadata": {},
   "outputs": [
    {
     "data": {
      "text/plain": [
       "<AxesSubplot:ylabel='Frequency'>"
      ]
     },
     "execution_count": 7,
     "metadata": {},
     "output_type": "execute_result"
    },
    {
     "data": {
      "image/png": "[encoded data removed]",
      "text/plain": [
       "<Figure size 432x288 with 1 Axes>"
      ]
     },
     "metadata": {
      "needs_background": "light"
     },
     "output_type": "display_data"
    }
   ],
   "source": [
    "oneclone_pd.plot.hist(bins=100)"
   ]
  },
  {
   "cell_type": "code",
   "execution_count": 8,
   "id": "9890ac38",
   "metadata": {
    "scrolled": true
   },
   "outputs": [
    {
     "data": {
      "text/plain": [
       "<AxesSubplot:ylabel='Frequency'>"
      ]
     },
     "execution_count": 8,
     "metadata": {},
     "output_type": "execute_result"
    },
    {
     "data": {
      "image/png": "[encoded data removed]",
      "text/plain": [
       "<Figure size 432x288 with 1 Axes>"
      ]
     },
     "metadata": {
      "needs_background": "light"
     },
     "output_type": "display_data"
    }
   ],
   "source": [
    "neutral_pd.plot.hist(bins=100)"
   ]
  },
  {
   "cell_type": "markdown",
   "id": "d9e8f872",
   "metadata": {},
   "source": []
  },
  {
   "cell_type": "code",
   "execution_count": 103,
   "id": "fcb5a7e0",
   "metadata": {},
   "outputs": [
    {
     "data": {
      "text/plain": [
       "array([3.64403109, 1.93802909, 3.37927105, 2.89963057, 7.02165269,\n",
       "       2.75131112, 5.68239049, 2.62233166, 2.69667818, 5.56169402])"
      ]
     },
     "execution_count": 103,
     "metadata": {},
     "output_type": "execute_result"
    }
   ],
   "source": [
    "n = 100\n",
    "dvs = []\n",
    "dhs = []\n",
    "for i in range(10):\n",
    "    a = np.array(sorted(np.random.random(n), reverse=True))\n",
    "    b = np.array(sorted(np.random.random(n), reverse=True))\n",
    "    distance_vectors = np.linalg.norm(a-b)\n",
    "    dvs.append(distance_vectors)\n",
    "    a_hist = np.histogram(a, range=(0,1))[0]/n\n",
    "    b_hist = np.histogram(b, range=(0,1))[0]/n\n",
    "    distance_histograms = np.linalg.norm(a_hist-b_hist)\n",
    "    dhs.append(distance_histograms)\n",
    "np.array(dvs) / np.array(dhs)"
   ]
  },
  {
   "cell_type": "code",
   "execution_count": 47,
   "id": "75a59d54",
   "metadata": {},
   "outputs": [
    {
     "data": {
      "text/plain": [
       "([0.4011255898665425,\n",
       "  0.6931274862025776,\n",
       "  0.5537985677021228,\n",
       "  0.7788802251454701,\n",
       "  0.3642495013337341,\n",
       "  0.6609697420698967,\n",
       "  0.6724146825288166,\n",
       "  0.5243160154170655,\n",
       "  0.4727404745311509,\n",
       "  0.3637291570225209],\n",
       " [0.14,\n",
       "  0.13856406460551018,\n",
       "  0.1933907960581372,\n",
       "  0.13784048752090222,\n",
       "  0.13638181696985857,\n",
       "  0.14560219778561034,\n",
       "  0.163707055437449,\n",
       "  0.14352700094407325,\n",
       "  0.16370705543744898,\n",
       "  0.1449137674618944])"
      ]
     },
     "execution_count": 47,
     "metadata": {},
     "output_type": "execute_result"
    }
   ],
   "source": [
    "dvs, dhs"
   ]
  },
  {
   "cell_type": "code",
   "execution_count": 33,
   "id": "9d111ab7",
   "metadata": {},
   "outputs": [],
   "source": [
    "n = 10\n",
    "a = np.random.random(n)\n",
    "a_hist = np.histogram(a, range=(0,1), density=True)"
   ]
  },
  {
   "cell_type": "code",
   "execution_count": 34,
   "id": "65f94f1f",
   "metadata": {
    "scrolled": true
   },
   "outputs": [
    {
     "data": {
      "text/plain": [
       "((array([0., 1., 1., 0., 2., 0., 1., 1., 3., 1.]),\n",
       "  array([0. , 0.1, 0.2, 0.3, 0.4, 0.5, 0.6, 0.7, 0.8, 0.9, 1. ])),\n",
       " array([0.87101436, 0.98034799, 0.12611739, 0.61980788, 0.77764252,\n",
       "        0.41473566, 0.82877761, 0.81553502, 0.20054819, 0.4578581 ]))"
      ]
     },
     "execution_count": 34,
     "metadata": {},
     "output_type": "execute_result"
    }
   ],
   "source": [
    "a_hist, a"
   ]
  },
  {
   "cell_type": "markdown",
   "id": "c5658184",
   "metadata": {},
   "source": [
    "---"
   ]
  },
  {
   "cell_type": "code",
   "execution_count": 2,
   "id": "93f9bc98",
   "metadata": {},
   "outputs": [],
   "source": [
    "test = pd.read_csv(r\"C:\\Users\\Konrad Grudzinski\\OneDrive - University of Glasgow\\Computing\\4th Year\\Individual Project\\Source\\analysis\\data\\test.txt\", sep=\"\\n\")"
   ]
  },
  {
   "cell_type": "code",
   "execution_count": 5,
   "id": "7cfb8ec1",
   "metadata": {},
   "outputs": [
    {
     "data": {
      "text/plain": [
       "<AxesSubplot:>"
      ]
     },
     "execution_count": 5,
     "metadata": {},
     "output_type": "execute_result"
    },
    {
     "data": {
      "image/png": "[encoded data removed]",
      "text/plain": [
       "<Figure size 432x288 with 1 Axes>"
      ]
     },
     "metadata": {
      "needs_background": "light"
     },
     "output_type": "display_data"
    }
   ],
   "source": [
    "test.plot()"
   ]
  },
  {
   "cell_type": "code",
   "execution_count": 7,
   "id": "a0f31d33",
   "metadata": {},
   "outputs": [
    {
     "data": {
      "text/plain": [
       "(138, 1)"
      ]
     },
     "execution_count": 7,
     "metadata": {},
     "output_type": "execute_result"
    }
   ],
   "source": [
    "test.values.shape"
   ]
  },
  {
   "cell_type": "code",
   "execution_count": 2,
   "id": "4c03ac7a",
   "metadata": {},
   "outputs": [],
   "source": [
    "import sys\n",
    "path = r\"C:\\Users\\Konrad Grudzinski\\OneDrive - University of Glasgow\\Computing\\4th Year\\Individual Project\\Source\\SimulationPythonPort\"\n",
    "if path not in sys.path:\n",
    "    sys.path.append(path)"
   ]
  },
  {
   "cell_type": "code",
   "execution_count": 3,
   "id": "95d577aa",
   "metadata": {},
   "outputs": [],
   "source": [
    "from Run import simulate\n",
    "import datetime"
   ]
  },
  {
   "cell_type": "code",
   "execution_count": 53,
   "id": "cdfe635b",
   "metadata": {
    "scrolled": true
   },
   "outputs": [
    {
     "data": {
      "text/plain": [
       "'clonefreq: array([0.9567])\\nclonefreqp: [0.9567]\\nclonetime: [0.004323289800536305]\\nsubclonemutations: array([6.])\\nbirthrates: [0.6931471805599453, 1.3862943611198906]\\ndeathrates: [0.0, 0.0]\\ntend: 8.495569932720533\\ntrueVAF: array([10000., 10000., 10000., ...,     0.,     0.,     0.])\\ncloneN: [2]\\nclonetype: array([-1])\\nNdivisions: [1]\\n#cells: 10000\\naveDivisions: [1.0]'"
      ]
     },
     "execution_count": 53,
     "metadata": {},
     "output_type": "execute_result"
    }
   ],
   "source": [
    "results = simulate()[0]\n",
    "str(results.SimResult)"
   ]
  },
  {
   "cell_type": "code",
   "execution_count": 55,
   "id": "8dc832ed",
   "metadata": {},
   "outputs": [
    {
     "data": {
      "text/plain": [
       "15.1872"
      ]
     },
     "execution_count": 55,
     "metadata": {},
     "output_type": "execute_result"
    }
   ],
   "source": [
    "np.mean([len(c.mutations) for c in results.SimResult.cells])"
   ]
  },
  {
   "cell_type": "code",
   "execution_count": 8,
   "id": "ada2b212",
   "metadata": {},
   "outputs": [
    {
     "name": "stdout",
     "output_type": "stream",
     "text": [
      "450 ms ± 80.3 ms per loop (mean ± std. dev. of 7 runs, 1 loop each)\n"
     ]
    }
   ],
   "source": [
    "%timeit simulate()"
   ]
  },
  {
   "cell_type": "code",
   "execution_count": 47,
   "id": "92a2f043",
   "metadata": {},
   "outputs": [
    {
     "data": {
      "text/plain": [
       "0.24854500000000002"
      ]
     },
     "execution_count": 47,
     "metadata": {},
     "output_type": "execute_result"
    }
   ],
   "source": [
    "vs = []\n",
    "for i in range(10):\n",
    "    vs.append(simulate()[1])\n",
    "np.mean(vs)"
   ]
  },
  {
   "cell_type": "code",
   "execution_count": 74,
   "id": "9b840880",
   "metadata": {},
   "outputs": [
    {
     "name": "stdout",
     "output_type": "stream",
     "text": [
      "31.3 ms ± 1.28 ms per loop (mean ± std. dev. of 7 runs, 10 loops each)\n"
     ]
    }
   ],
   "source": [
    "%timeit stacker()"
   ]
  },
  {
   "cell_type": "code",
   "execution_count": 75,
   "id": "9fff00fe",
   "metadata": {},
   "outputs": [
    {
     "name": "stdout",
     "output_type": "stream",
     "text": [
      "2.36 ms ± 28.3 µs per loop (mean ± std. dev. of 7 runs, 100 loops each)\n"
     ]
    }
   ],
   "source": [
    "%timeit loop()"
   ]
  }
 ],
 "metadata": {
  "kernelspec": {
   "display_name": "Python 3 (ipykernel)",
   "language": "python",
   "name": "python3"
  },
  "language_info": {
   "codemirror_mode": {
    "name": "ipython",
    "version": 3
   },
   "file_extension": ".py",
   "mimetype": "text/x-python",
   "name": "python",
   "nbconvert_exporter": "python",
   "pygments_lexer": "ipython3",
   "version": "3.9.4"
  }
 },
 "nbformat": 4,
 "nbformat_minor": 5
}
