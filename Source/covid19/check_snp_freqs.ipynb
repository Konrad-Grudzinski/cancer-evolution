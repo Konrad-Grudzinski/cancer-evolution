{
 "cells": [
  {
   "cell_type": "markdown",
   "id": "e957e9a3-87e8-4e18-b0e9-8cbbc0ed5342",
   "metadata": {},
   "source": [
    "Can check the frequency of each base at a specific position in a multialignment fasta file."
   ]
  },
  {
   "cell_type": "code",
   "execution_count": 1,
   "id": "7fc8d552",
   "metadata": {
    "tags": []
   },
   "outputs": [],
   "source": [
    "filename = \"temp_aligned.fa\""
   ]
  },
  {
   "cell_type": "code",
   "execution_count": 7,
   "id": "c5eaa685-b1a4-4074-9f49-516c31d60a51",
   "metadata": {},
   "outputs": [],
   "source": [
    "line_width = 60 # should stay fixed!"
   ]
  },
  {
   "cell_type": "code",
   "execution_count": 2,
   "id": "cf263cdf",
   "metadata": {},
   "outputs": [],
   "source": [
    "samples = []"
   ]
  },
  {
   "cell_type": "code",
   "execution_count": 3,
   "id": "cf9f5dca",
   "metadata": {},
   "outputs": [],
   "source": [
    "with open(filename, \"r\") as f:\n",
    "    lines = []\n",
    "    line = f.readline()\n",
    "    while line:\n",
    "        line = line.strip()\n",
    "        if line.startswith(\">\"):\n",
    "            if len(lines) > 0:\n",
    "                samples.append((name, lines))\n",
    "            name = line[1:]\n",
    "            lines = []\n",
    "        else:\n",
    "            lines.append(line)\n",
    "        line = f.readline()\n",
    "    samples.append((name, lines))"
   ]
  },
  {
   "cell_type": "code",
   "execution_count": 62,
   "id": "3a9d6f29",
   "metadata": {},
   "outputs": [],
   "source": [
    "d = {k:0 for k in [\"a\", \"c\", \"g\", \"t\", \"-\", \"k\", \"n\"]}\n",
    "read_depth = 13#len(samples)\n",
    "for name, rna in samples:\n",
    "    base = rna[(n-1)//line_width][(n-1)%line_width]\n",
    "    d[base] = (d[base] if base in d else 0) + 1"
   ]
  },
  {
   "cell_type": "code",
   "execution_count": 66,
   "id": "0259b357",
   "metadata": {},
   "outputs": [
    {
     "name": "stdout",
     "output_type": "stream",
     "text": [
      "a: 0.0\n",
      "c: 0.125\n",
      "g: 0.0\n",
      "t: 1.0\n",
      "-: 0.041666666666666664\n",
      "k: 0.0\n",
      "n: 0.0\n"
     ]
    }
   ],
   "source": [
    "for key,value in d.items():\n",
    "    print(f\"{key}: {value/24}\")"
   ]
  },
  {
   "cell_type": "code",
   "execution_count": null,
   "id": "d62808a2-9b10-4997-b7b8-bc4923a0ca91",
   "metadata": {},
   "outputs": [],
   "source": [
    "reference = \"\".join(samples[0][1])"
   ]
  },
  {
   "cell_type": "code",
   "execution_count": 16,
   "id": "e75b60fb",
   "metadata": {},
   "outputs": [],
   "source": [
    "d = {k:0 for k in [\"a\", \"c\", \"g\", \"t\", \"-\", \"k\", \"n\"]}\n",
    "for name,rna in samples:\n",
    "    for i in range(1, len(reference)+1):\n",
    "        base = rna[(i-1)//line_width][(i-1)%line_width]\n",
    "        d[base] = (d[base] if base in d else 0) + 1"
   ]
  }
 ],
 "metadata": {
  "kernelspec": {
   "display_name": "standard",
   "language": "python",
   "name": "standard"
  },
  "language_info": {
   "codemirror_mode": {
    "name": "ipython",
    "version": 3
   },
   "file_extension": ".py",
   "mimetype": "text/x-python",
   "name": "python",
   "nbconvert_exporter": "python",
   "pygments_lexer": "ipython3",
   "version": "3.9.7"
  }
 },
 "nbformat": 4,
 "nbformat_minor": 5
}
