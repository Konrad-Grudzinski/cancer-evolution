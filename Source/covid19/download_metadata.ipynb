{
 "cells": [
  {
   "cell_type": "code",
   "execution_count": 1,
   "id": "2aa80199",
   "metadata": {},
   "outputs": [],
   "source": [
    "from pprint import pprint as pp\n",
    "from tqdm.notebook import tqdm, trange\n",
    "import time\n",
    "import entrezpy.esummary.esummarizer\n",
    "import re\n",
    "import itertools\n",
    "import json"
   ]
  },
  {
   "cell_type": "code",
   "execution_count": 2,
   "id": "7149175d",
   "metadata": {},
   "outputs": [],
   "source": [
    "with open(r\"D:\\ncbi_dataset\\ncbi_dataset\\data\\sampleNames.txt\", \"r\") as f:\n",
    "    sampleHeaders = f.readlines()\n",
    "n_samples = len(sampleHeaders)"
   ]
  },
  {
   "cell_type": "code",
   "execution_count": 16,
   "id": "801865e6",
   "metadata": {},
   "outputs": [],
   "source": [
    "lookedup = []\n",
    "lookedup_filepath = r\"C:\\Users\\Konrad Grudzinski\\OneDrive - University of Glasgow\\Computing\\4th Year\\Individual Project\\Source\\covid19\\lookedup_samples.txt\"\n",
    "samples = {}\n",
    "samples_filepath = r\"C:\\Users\\Konrad Grudzinski\\OneDrive - University of Glasgow\\Computing\\4th Year\\Individual Project\\Source\\covid19\\samples.json\"\n",
    "grouping = 500"
   ]
  },
  {
   "cell_type": "code",
   "execution_count": 17,
   "id": "8d7401e6",
   "metadata": {},
   "outputs": [],
   "source": [
    "def get_data(headers, samples, lookedup):\n",
    "    sampleNames = list(map(lambda h: re.findall(\">(.*\\.[0-9])\", h)[0], headers))\n",
    "    e = entrezpy.esummary.esummarizer.Esummarizer(\"L4project\", \"2408448g@student.gla.ac.uk\")\n",
    "    analyzer = e.inquire({'db' : 'nuccore', 'id' : sampleNames})\n",
    "    summaries = analyzer.get_result().summaries\n",
    "    for value in summaries.values():\n",
    "        if \"accessionversion\" in value and value[\"accessionversion\"] in sampleNames:\n",
    "            types = value[\"subtype\"].split(\"|\")\n",
    "            names = value[\"subname\"].split(\"|\")\n",
    "            d = {}\n",
    "            for i in range(len(types)):\n",
    "                if types[i] == \"collection_date\":\n",
    "                    d[\"collection_date\"] = names[i]\n",
    "                elif types[i] == \"country\":\n",
    "                    d[\"country\"] = names[i]\n",
    "            samples[value[\"accessionversion\"]] = d\n",
    "    lookedup.extend(sampleNames)\n",
    "    return samples, lookedup"
   ]
  },
  {
   "cell_type": "code",
   "execution_count": 24,
   "id": "4f50dcb6",
   "metadata": {},
   "outputs": [
    {
     "data": {
      "application/vnd.jupyter.widget-view+json": {
       "model_id": "db8f47fbba954244a9d553c181d1f955",
       "version_major": 2,
       "version_minor": 0
      },
      "text/plain": [
       "  0%|          | 0/271 [00:00<?, ?it/s]"
      ]
     },
     "metadata": {},
     "output_type": "display_data"
    }
   ],
   "source": [
    "for headers in tqdm(list(zip(*[iter(sampleHeaders)]*grouping))):\n",
    "    samples, lookedup = get_data(headers, samples, lookedup)\n",
    "samples, lookedup = get_data(sampleHeaders[(n_samples - n_samples%grouping):], samples, lookedup)"
   ]
  },
  {
   "cell_type": "code",
   "execution_count": 25,
   "id": "abb916c7",
   "metadata": {},
   "outputs": [],
   "source": [
    "with open(lookedup_filepath, \"w\") as f:\n",
    "    f.write(\"\\n\".join(lookedup)+\"\\n\")"
   ]
  },
  {
   "cell_type": "code",
   "execution_count": 26,
   "id": "fed93dc4",
   "metadata": {},
   "outputs": [],
   "source": [
    "with open(samples_filepath, \"w\") as f:\n",
    "    json_object = json.dumps(samples, indent = 4) \n",
    "    f.write(json_object)"
   ]
  },
  {
   "cell_type": "code",
   "execution_count": 29,
   "id": "e2eb3c4a",
   "metadata": {},
   "outputs": [
    {
     "data": {
      "text/plain": [
       "702227"
      ]
     },
     "execution_count": 29,
     "metadata": {},
     "output_type": "execute_result"
    }
   ],
   "source": [
    "len(samples)"
   ]
  }
 ],
 "metadata": {
  "kernelspec": {
   "display_name": "Python 3 (ipykernel)",
   "language": "python",
   "name": "python3"
  },
  "language_info": {
   "codemirror_mode": {
    "name": "ipython",
    "version": 3
   },
   "file_extension": ".py",
   "mimetype": "text/x-python",
   "name": "python",
   "nbconvert_exporter": "python",
   "pygments_lexer": "ipython3",
   "version": "3.8.12"
  }
 },
 "nbformat": 4,
 "nbformat_minor": 5
}
