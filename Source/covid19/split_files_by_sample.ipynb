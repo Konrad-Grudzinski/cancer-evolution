{
 "cells": [
  {
   "cell_type": "markdown",
   "id": "e06136c4-3dcf-4ea7-a590-110d0040504e",
   "metadata": {},
   "source": [
    "Splits the `genomics.fa` file containing all the sequences into individual files, one per sample."
   ]
  },
  {
   "cell_type": "code",
   "execution_count": 1,
   "id": "8566651b-be2e-48aa-a134-c84bc2d48be1",
   "metadata": {},
   "outputs": [],
   "source": [
    "import covid_utilities as cu"
   ]
  },
  {
   "cell_type": "code",
   "execution_count": 2,
   "id": "1a1eec67",
   "metadata": {},
   "outputs": [],
   "source": [
    "filename = cu.DATA_PATH + r\"\\genomic.fna\" # the source file\n",
    "directory = cu.DATA_PATH + \"\\\\split_genomics\\\\\" # where to put the split up files"
   ]
  },
  {
   "cell_type": "code",
   "execution_count": 21,
   "id": "4ce599a8",
   "metadata": {},
   "outputs": [],
   "source": [
    "def write_file(name, lines):\n",
    "    with open(directory+name.split(\" \")[0]+\".fa\", \"w\") as file:\n",
    "        file.write(f\">{name}\")\n",
    "        file.writelines(lines[:-1])\n",
    "        file.write(lines[-1].strip())\n",
    "\n",
    "with open(filename, \"r\") as f:\n",
    "    lines = []\n",
    "    line = f.readline()\n",
    "    while line:\n",
    "        if line.startswith(\">\"):\n",
    "            if len(lines) > 0:\n",
    "                write_file(name, lines)\n",
    "            name = line[1:]\n",
    "            lines = []\n",
    "        else:\n",
    "            lines.append(line)\n",
    "        line = f.readline()\n",
    "    write_file(name, lines)"
   ]
  }
 ],
 "metadata": {
  "kernelspec": {
   "display_name": "Python 3 (ipykernel)",
   "language": "python",
   "name": "python3"
  },
  "language_info": {
   "codemirror_mode": {
    "name": "ipython",
    "version": 3
   },
   "file_extension": ".py",
   "mimetype": "text/x-python",
   "name": "python",
   "nbconvert_exporter": "python",
   "pygments_lexer": "ipython3",
   "version": "3.8.12"
  }
 },
 "nbformat": 4,
 "nbformat_minor": 5
}
