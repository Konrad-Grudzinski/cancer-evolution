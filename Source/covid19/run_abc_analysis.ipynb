{
 "cells": [
  {
   "cell_type": "markdown",
   "id": "f9e05c67-b724-4a84-bc0d-76a1427563ab",
   "metadata": {},
   "source": [
    "Used to run the ABC analysis on VAFs using the `SubClonalSelection.jl` package, which is called in a spawned terminal.\n",
    "\n",
    "To run it, a Julia sysimage file has to be generated first, which includes the `SubClonalSelection.jl` package and all its dependencies. Further information on how to create a sysimage can be found [here](https://docs.julialang.org/en/v1/devdocs/sysimg/)."
   ]
  },
  {
   "cell_type": "code",
   "execution_count": null,
   "id": "923df6a2",
   "metadata": {},
   "outputs": [],
   "source": [
    "import numpy as np\n",
    "import os\n",
    "from concurrent.futures import ThreadPoolExecutor\n",
    "import covid_utilities as cu"
   ]
  },
  {
   "cell_type": "code",
   "execution_count": null,
   "id": "dab7396c",
   "metadata": {},
   "outputs": [],
   "source": [
    "base_path = cu.DATA_PATH + r\"\\vafs\\{}.vaf\"\n",
    "path_to_sysimage = cu.COVID_PATH.replace(\"\\\\\", r\"\\\\\") + r\"\\\\SubClonalSelection\\\\sysimage_runabc.so\" # your actual path here, backslashes must be escaped\n",
    "nthreads = 6"
   ]
  },
  {
   "cell_type": "code",
   "execution_count": null,
   "id": "56446c34",
   "metadata": {},
   "outputs": [],
   "source": [
    "def read_vaf(path):\n",
    "    with open(path, \"r\") as f:\n",
    "        return np.array(list(map(lambda l:float(l), f.readlines())))"
   ]
  },
  {
   "cell_type": "code",
   "execution_count": null,
   "id": "d007ed94",
   "metadata": {},
   "outputs": [],
   "source": [
    "def write_vafs(path, array):\n",
    "    if os.path.exists(path):\n",
    "        raise FileExistsError(\"VAF file exists already\")\n",
    "    with open(path, \"w\") as f:\n",
    "        f.write(\"\\n\".join(map(lambda n:str(n), array)))"
   ]
  },
  {
   "cell_type": "markdown",
   "id": "6068dd91",
   "metadata": {},
   "source": [
    "---"
   ]
  },
  {
   "cell_type": "code",
   "execution_count": null,
   "id": "81105ce2",
   "metadata": {},
   "outputs": [],
   "source": [
    "Minvaf = 0.01\n",
    "Nmax = 2000"
   ]
  },
  {
   "cell_type": "code",
   "execution_count": null,
   "id": "4f4f83e1",
   "metadata": {},
   "outputs": [],
   "source": [
    "def prepare_file(filename):\n",
    "    if f\"filtered{Minvaf}\" in filename:\n",
    "        filtered_filename = \".\".join(filename.split(\".\")[:-1])\n",
    "        read_depth = int(filtered_filename.split(\"_\")[-2])\n",
    "        filtered_vafs = read_vaf(base_path.format(filtered_filename))\n",
    "        n_mutations = len(filtered_vafs)\n",
    "    elif \"filtered\" in filename: # sort out files which are filtered, but with different threshold\n",
    "        return\n",
    "    else: \n",
    "        base_name = \".\".join(filename.split(\".\")[:-1])\n",
    "        read_depth = int(base_name.split(\"_\")[-1])\n",
    "        vafs = read_vaf(base_path.format(base_name))\n",
    "        filtered_vafs = vafs[vafs>=Minvaf]\n",
    "        n_mutations = len(filtered_vafs)\n",
    "        filtered_filename = f\"{base_name}_{n_mutations}-filtered{Minvaf}\"\n",
    "    if not os.path.exists(base_path.format(filtered_filename)):\n",
    "        write_vafs(base_path.format(filtered_filename), filtered_vafs)\n",
    "    if n_mutations >= 100 and not os.path.exists(f\"D:/ncbi_dataset/ncbi_dataset/data/ABC_results/{filtered_filename}_Nmax{Nmax}\"):\n",
    "        do_ABC(filtered_filename, read_depth, minvaf = Minvaf, Nmax = Nmax)"
   ]
  },
  {
   "cell_type": "code",
   "execution_count": null,
   "id": "17c388e3",
   "metadata": {},
   "outputs": [],
   "source": [
    "def do_ABC(input_file, read_depth, minvaf = 0.01, Nmax = 2000, birth_rate = None): # nparticles = 500, d = 0\n",
    "    if birth_rate is not None:\n",
    "        out_file = f\"{input_file}_Nmax{Nmax}_b-log({np.exp(birth_rate):.1f})\"\n",
    "    else:\n",
    "        birth_rate = np.log(3)\n",
    "        out_file = f\"{input_file}_Nmax{Nmax}\"\n",
    "    function_call = f\"fitABCmodels(\\\\\\\"{cu.DATA_PATH.replace(\"\\\\\", \"/\")}/vafs/{input_file}.vaf\\\\\\\", \\\\\\\"{out_file}\\\\\\\", read_depth = {read_depth}, minvaf = {minvaf}, fmax = 1.0, maxiterations = 2*10^5, Nmax = {Nmax}, resultsdirectory = \\\\\\\"{cu.DATA_PATH.replace(\"\\\\\", \"/\")}/ABC_results\\\\\\\", progress = true, verbose = true, save = true, Nmaxinf = 10^6, ploidy = 1, b = {birth_rate}, convergence = 0.005, mincellularity = 0.95, maxcellularity = 1.05)\"\n",
    "    statements = [\"using SubClonalSelection\", \"using Random\", \"Random.seed!(123)\", function_call]\n",
    "    call = f'julia -J \"{path_to_sysimage}\" -e \"{\"; \".join(statements)}\"'\n",
    "    returncode = os.system(f'start /wait cmd /c {call}')\n",
    "    if returncode != 0:\n",
    "        print(returncode, input_file)"
   ]
  },
  {
   "cell_type": "code",
   "execution_count": null,
   "id": "7873ee10",
   "metadata": {},
   "outputs": [],
   "source": [
    "files = os.listdir(cu.DATA_PATH + r\"\\vafs\")\n",
    "for mv in [0.01, 0.001, 0.0001]:\n",
    "    Minvaf = mv\n",
    "    with ThreadPoolExecutor(max_workers = nthreads) as executor:\n",
    "        threads = executor.map(prepare_file, files)"
   ]
  },
  {
   "cell_type": "markdown",
   "id": "46f6e3e7",
   "metadata": {},
   "source": [
    "---\n",
    "\n",
    "Run ABC on specific files with specialised parameters"
   ]
  },
  {
   "cell_type": "code",
   "execution_count": null,
   "id": "e26681f1",
   "metadata": {},
   "outputs": [],
   "source": [
    "def prepare_file_b(filename, birth_rate, minVAF = Minvaf):\n",
    "    if f\"filtered{minVAF}\" in filename:\n",
    "        filtered_filename = \".\".join(filename.split(\".\")[:-1])\n",
    "        read_depth = int(filtered_filename.split(\"_\")[-2])\n",
    "        filtered_vafs = read_vaf(base_path.format(filtered_filename))\n",
    "        n_mutations = len(filtered_vafs)\n",
    "    elif \"filtered\" in filename: # sort out files which are filtered, but with different threshold\n",
    "        return\n",
    "    else: \n",
    "        base_name = \".\".join(filename.split(\".\")[:-1])\n",
    "        read_depth = int(base_name.split(\"_\")[-1])\n",
    "        vafs = read_vaf(base_path.format(base_name))\n",
    "        filtered_vafs = vafs[vafs>=minVAF]\n",
    "        n_mutations = len(filtered_vafs)\n",
    "        filtered_filename = f\"{base_name}_{n_mutations}-filtered{minVAF}\"\n",
    "    if not os.path.exists(base_path.format(filtered_filename)):\n",
    "        write_vafs(base_path.format(filtered_filename), filtered_vafs)\n",
    "    if n_mutations >= 100 and not os.path.exists(f\"{cu.DATA_PATH.replace(\"\\\\\", \"/\")}/ABC_results/{filtered_filename}_Nmax{Nmax}_b-log({np.exp(birth_rate):.1f})\"):\n",
    "        do_ABC(filtered_filename, read_depth, minvaf = minVAF, Nmax = Nmax, birth_rate = birth_rate)"
   ]
  },
  {
   "cell_type": "code",
   "execution_count": null,
   "id": "56f8fad6-63c4-4e07-ae6b-14cf765a58bf",
   "metadata": {},
   "outputs": [],
   "source": [
    "# run the ABC with birth rate adapted to R0"
   ]
  },
  {
   "cell_type": "code",
   "execution_count": null,
   "id": "c7844630",
   "metadata": {},
   "outputs": [],
   "source": [
    "files = [\n",
    "    # alpha\n",
    "    'm_United-Kingdom_2021-1_42335_150-filtered0.01.vaf',\n",
    "    'm_United-Kingdom_2021-2_19586_150-filtered0.01.vaf',\n",
    "    'm_United-Kingdom_2021-3_722_187-filtered0.01.vaf',\n",
    "    'm_United-Kingdom_2021-4_1090_231-filtered0.01.vaf',\n",
    "    # delta\n",
    "    'm_United-Kingdom_2021-5_3445_240-filtered0.01.vaf',\n",
    "    'm_United-Kingdom_2021-6_4438_131-filtered0.01.vaf',\n",
    "    'm_United-Kingdom_2021-7_6862_101-filtered0.01.vaf',\n",
    "    'm_United-Kingdom_2021-9_4463_115-filtered0.01.vaf',\n",
    "    'm_United-Kingdom_2021-10_4817_151-filtered0.01.vaf',\n",
    "    'm_United-Kingdom_2021-11_3674_167-filtered0.01.vaf'\n",
    "]\n",
    "birth_rates = np.log([\n",
    "    # alpha\n",
    "    4.5,\n",
    "    4.5,\n",
    "    4.5,\n",
    "    4.5,\n",
    "    # delta\n",
    "    7,\n",
    "    7,\n",
    "    7,\n",
    "    7,\n",
    "    7,\n",
    "    7\n",
    "])\n",
    "Minvaf = 0.01\n",
    "with ThreadPoolExecutor(max_workers = 6) as executor:\n",
    "    threads = executor.map(prepare_file_b, files, birth_rates)"
   ]
  },
  {
   "cell_type": "code",
   "execution_count": null,
   "id": "89fe1007-c3cd-4262-b318-e3a1334569a6",
   "metadata": {},
   "outputs": [],
   "source": [
    "# run ABC with birth rate adapted to Re (will fail, since it is smaller than 1)"
   ]
  },
  {
   "cell_type": "code",
   "execution_count": null,
   "id": "3c60c4f0",
   "metadata": {},
   "outputs": [],
   "source": [
    "files = [\n",
    "    'm_United-Kingdom_2020-6_4774_115-filtered0.01.vaf',\n",
    "    'm_United-Kingdom_2020-7_2157_154-filtered0.01.vaf',\n",
    "    # EU1\n",
    "    'm_United-Kingdom_2020-8_5185_223-filtered0.01.vaf',\n",
    "    'm_United-Kingdom_2020-9_9567_233-filtered0.01.vaf',\n",
    "    'm_United-Kingdom_2020-10_16288_200-filtered0.01.vaf',\n",
    "    'm_United-Kingdom_2020-11_20799_237-filtered0.01.vaf',\n",
    "    # alpha\n",
    "    'm_United-Kingdom_2020-12_20282_141-filtered0.01.vaf',\n",
    "    'm_United-Kingdom_2021-1_42335_150-filtered0.01.vaf',\n",
    "    'm_United-Kingdom_2021-2_19586_150-filtered0.01.vaf',\n",
    "    'm_United-Kingdom_2021-3_722_187-filtered0.01.vaf',\n",
    "    'm_United-Kingdom_2021-4_1090_231-filtered0.01.vaf',\n",
    "    # delta\n",
    "    'm_United-Kingdom_2021-5_3445_240-filtered0.01.vaf',\n",
    "    'm_United-Kingdom_2021-6_4438_131-filtered0.01.vaf',\n",
    "    'm_United-Kingdom_2021-7_6862_101-filtered0.01.vaf',\n",
    "    'm_United-Kingdom_2021-9_4463_115-filtered0.01.vaf',\n",
    "    'm_United-Kingdom_2021-10_4817_151-filtered0.01.vaf',\n",
    "    'm_United-Kingdom_2021-11_3674_167-filtered0.01.vaf'\n",
    "]\n",
    "birth_rates = np.log([\n",
    "    0.8,\n",
    "    0.8,\n",
    "    # EU1\n",
    "    0.9,\n",
    "    1.1,\n",
    "    1.4,\n",
    "    1.1,\n",
    "    # alpha\n",
    "    1.0,\n",
    "    1.1,\n",
    "    0.8,\n",
    "    0.8,\n",
    "    0.9,\n",
    "    # delta\n",
    "    0.9,\n",
    "    1.2,\n",
    "    1.3,\n",
    "    1.0,\n",
    "    1.0,\n",
    "    1.0\n",
    "])\n",
    "# with ThreadPoolExecutor(max_workers = 6) as executor:\n",
    "#     threads = executor.map(prepare_file_b, files, birth_rates)"
   ]
  }
 ],
 "metadata": {
  "kernelspec": {
   "display_name": "Python 3 (ipykernel)",
   "language": "python",
   "name": "python3"
  },
  "language_info": {
   "codemirror_mode": {
    "name": "ipython",
    "version": 3
   },
   "file_extension": ".py",
   "mimetype": "text/x-python",
   "name": "python",
   "nbconvert_exporter": "python",
   "pygments_lexer": "ipython3",
   "version": "3.8.12"
  }
 },
 "nbformat": 4,
 "nbformat_minor": 5
}
