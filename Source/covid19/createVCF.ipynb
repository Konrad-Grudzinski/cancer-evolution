{
 "cells": [
  {
   "cell_type": "markdown",
   "id": "e67195cb-7010-4f0f-87a0-f9a68a81a826",
   "metadata": {},
   "source": [
    "This notebook implements the processing pipelines, from alignment to calling. The tools were installed on WSL (Windows Subsystem for Linux), while the data is retrieved in from within this notebook. This setup necessitates different paths for each OS, depending where it is needed."
   ]
  },
  {
   "cell_type": "code",
   "execution_count": 1,
   "id": "6b3c4278",
   "metadata": {},
   "outputs": [],
   "source": [
    "from pprint import pprint as pp\n",
    "from tqdm.notebook import tqdm\n",
    "import numpy as np\n",
    "import os\n",
    "import re\n",
    "import covid_utilities as cu"
   ]
  },
  {
   "cell_type": "code",
   "execution_count": 3,
   "id": "44634ea3",
   "metadata": {},
   "outputs": [],
   "source": [
    "data = cu.load_json(cu.COVID_PATH + r\"\\sorted_samples.json\")"
   ]
  },
  {
   "cell_type": "code",
   "execution_count": 4,
   "id": "e19ad03d",
   "metadata": {},
   "outputs": [],
   "source": [
    "vaf_dir = cu.DATA_PATH + \"\\\\vafs\\\\\"\n",
    "vaf_dir_wsl = cu.DATA_PATH_WSL + \"vafs/\"\n",
    "\n",
    "vcf_dir = cu.DATA_PATH + \"\\\\vcfs\\\\\"\n",
    "vcf_dir_wsl = cu.DATA_PATH_WSL + \"vcfs/\"\n",
    "\n",
    "samples_path = cu.DATA_PATH + \"\\\\split_genomics\\\\\"\n",
    "samples_path_wsl = cu.DATA_PATH_WSL + \"split_genomics/\""
   ]
  },
  {
   "cell_type": "code",
   "execution_count": 6,
   "id": "34a0cf0c",
   "metadata": {},
   "outputs": [],
   "source": [
    "def extract_vafs_and_depth(file: str) -> (list[float], int):\n",
    "    vafs = []\n",
    "    depths = []\n",
    "    with open(file, \"r\") as f:\n",
    "        line = f.readline()\n",
    "        while line:\n",
    "            columns = line.split(\"\\t\")\n",
    "            if len(columns) == 10:\n",
    "                vals = columns[9].split(\":\")\n",
    "                cols = columns[8].split(\":\")\n",
    "                if len(cols) == 4 and cols[3] == \"VAF\":\n",
    "                    vafs.extend(list(map(lambda x:float(x), vals[3].split(\",\"))))\n",
    "                cols = columns[7].split(\";\")\n",
    "                for c in cols:\n",
    "                    if c.startswith(\"DP\") and not c.startswith(\"DP4\"):\n",
    "                        depth = int(c.split(\"=\")[1])\n",
    "                        depths.append(depth)\n",
    "                        break\n",
    "            line = f.readline()\n",
    "    return vafs, int(np.rint(np.mean(depths)))"
   ]
  },
  {
   "cell_type": "code",
   "execution_count": 7,
   "id": "4ccbae61",
   "metadata": {},
   "outputs": [],
   "source": [
    "def combine_fastas(output_path: str, input_samples: list[str]):\n",
    "    with open(output_path, \"w\") as outF:\n",
    "        for sample in input_samples:\n",
    "            with open(samples_path + sample + \".fa\", \"r\") as f:\n",
    "                outF.write(f.read()+\"\\n\")"
   ]
  },
  {
   "cell_type": "code",
   "execution_count": 12,
   "id": "edfb5855",
   "metadata": {},
   "outputs": [],
   "source": [
    "# bcftools and hisat2 are not added to the PATH and have to be thus called directly\n",
    "\n",
    "def create_vcf_command(infile : str, outfile : str, counts : int, name : str):\n",
    "    threads = 6\n",
    "    commands = []\n",
    "    if name+\".fa\" in os.listdir(cu.DATA_PATH + \"\\\\aligned_samples\"):\n",
    "        aligned_file = cu.DATA_PATH_WSL + f\"aligned_samples/{name}.fa\"\n",
    "    else:\n",
    "        commands.append(\"echo \\'Aligning....\\'\")\n",
    "        if counts > 1000:\n",
    "            commands.append(f\"mafft --6merpair --thread {threads} --keeplength --addfragments {infile} NC_045512.2.fa | tee temp_aligned.fa > /dev/null\")\n",
    "        else:\n",
    "            commands.append(f\"mafft --thread {threads} --auto --add {infile} NC_045512.2.fa | tee temp_aligned.fa > /dev/null\")\n",
    "        commands.append(\"echo \\'Copying aligned fasta....\\'\")\n",
    "        commands.append(f\"cp temp_aligned.fa /mnt/d/ncbi_dataset/ncbi_dataset/data/aligned_samples/{name}.fa\")\n",
    "        aligned_file = \"temp_aligned.fa\"\n",
    "    commands.append(\"echo \\'Creating SAM....\\'\")\n",
    "    if counts < 100:\n",
    "        commands.append(f\"\\'\" + cu.SOURCE_PATH_WSL + \"hisat2-2.2.1/hisat2\\' -x NC_045512.2.fa -f {aligned_file} -S temp_all.sam --threads {threads} -k 50 --score-min L,0,-2\")\n",
    "    else:\n",
    "        commands.append(f\"\\'\" + cu.SOURCE_PATH_WSL + \"hisat2-2.2.1/hisat2\\' -x NC_045512.2.fa -f {aligned_file} -S temp_all.sam --threads {threads}\")\n",
    "    commands.append(\"echo \\'Sorting....\\'\")\n",
    "    commands.append(f\"samtools sort --verbosity 10 --threads {threads} temp_all.sam -o temp_all-sorted.bam\")\n",
    "    commands.append(\"echo \\'Pileup....\\'\")\n",
    "    commands.append(f\"bcftools mpileup -a FORMAT/AD,INFO/AD -d 120000 --threads {threads} -f NC_045512.2.fa temp_all-sorted.bam | tee temp_pileup > /dev/null\")\n",
    "    commands.append(\"echo \\'Calling....\\'\")\n",
    "    commands.append(\"bcftools call --ploidy 1 -mA temp_pileup | tee temp_called > /dev/null\")\n",
    "    commands.append(\"echo \\'Annotating....\\'\")\n",
    "    commands.append(f\"bcftools +fill-tags temp_called -Ov -o {outfile+'.vcf'} -- -t AF,FORMAT/VAF\")\n",
    "    \n",
    "    returncode = os.system('start /wait cmd /c wsl -- eval \"{}\"\\n'.format(\" && \".join(commands).replace(\"bcftools\", \"\\'\" + cu.SOURCE_PATH_WSL + \"bcftools-1.14/bcftools\\'\")))\n",
    "    if returncode != 0:\n",
    "        print(returncode)"
   ]
  },
  {
   "cell_type": "code",
   "execution_count": null,
   "id": "19bff523",
   "metadata": {
    "scrolled": true
   },
   "outputs": [],
   "source": [
    "# loops over all countries and programmatically creates the VCF files and immediately extracts the VAFs to write them into another file\n",
    "\n",
    "for country, info in tqdm(list(data.items())):\n",
    "    print(country)\n",
    "    country = country.replace(\" \", \"-\")\n",
    "    for month, month_samples in tqdm(list(info[\"months\"].items())):\n",
    "        print(month, month_samples[\"counts\"], sep=\"\\t\")\n",
    "        if month_samples[\"counts\"] < 2:\n",
    "            continue\n",
    "        name = \"m_{}_{}_{}\".format(country, month, month_samples[\"counts\"])\n",
    "        temp_combined = name+\".temp.fa\"\n",
    "        if name+\".vcf\" not in os.listdir(vcf_dir): # check if vcf has not been created already\n",
    "            if temp_combined not in os.listdir():\n",
    "                combine_fastas(temp_combined, month_samples[\"samples\"])\n",
    "            vcf_path_wsl = vcf_dir_wsl + name\n",
    "            create_vcf_command(temp_combined, vcf_path_wsl, month_samples[\"counts\"], name)\n",
    "        r = re.compile(\"m_{}_{}_[0-9]+\\.vaf\".format(country, month))\n",
    "        if len(list(filter(r.match, os.listdir(vaf_dir)))) == 0: # check if vaf has not been created already\n",
    "            vcf_path = vcf_dir + name + \".vcf\"\n",
    "            vafs, avg_depth = extract_vafs_and_depth(vcf_path)\n",
    "            name = \"m_{}_{}_{}\".format(country, month, avg_depth)\n",
    "            vaf_path = vaf_dir + name + \".vaf\"\n",
    "            with open(vaf_path, \"w\") as f:\n",
    "                f.write(\"\\n\".join(map(lambda x:str(x), vafs)))\n",
    "        try:\n",
    "            os.remove(temp_combined)\n",
    "        except:\n",
    "            pass\n",
    "    print(\"----------------------------------------------------\")"
   ]
  }
 ],
 "metadata": {
  "kernelspec": {
   "display_name": "standard",
   "language": "python",
   "name": "standard"
  },
  "language_info": {
   "codemirror_mode": {
    "name": "ipython",
    "version": 3
   },
   "file_extension": ".py",
   "mimetype": "text/x-python",
   "name": "python",
   "nbconvert_exporter": "python",
   "pygments_lexer": "ipython3",
   "version": "3.9.7"
  }
 },
 "nbformat": 4,
 "nbformat_minor": 5
}
