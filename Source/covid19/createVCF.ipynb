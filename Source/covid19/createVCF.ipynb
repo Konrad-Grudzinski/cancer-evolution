{
 "cells": [
  {
   "cell_type": "code",
   "execution_count": 1,
   "id": "6b3c4278",
   "metadata": {},
   "outputs": [],
   "source": [
    "import json\n",
    "from pprint import pprint as pp\n",
    "import subprocess\n",
    "from tqdm.notebook import tqdm\n",
    "import numpy as np\n",
    "import os\n",
    "import re"
   ]
  },
  {
   "cell_type": "code",
   "execution_count": 2,
   "id": "47a95b12",
   "metadata": {},
   "outputs": [],
   "source": [
    "path = r\"C:\\Users\\Konrad Grudzinski\\OneDrive - University of Glasgow\\Computing\\4th Year\\Individual Project\\Source\\covid19\\sorted_samples.json\""
   ]
  },
  {
   "cell_type": "code",
   "execution_count": 3,
   "id": "44634ea3",
   "metadata": {},
   "outputs": [],
   "source": [
    "with open(path, \"r\") as f:\n",
    "    data = json.load(f)"
   ]
  },
  {
   "cell_type": "code",
   "execution_count": 4,
   "id": "e19ad03d",
   "metadata": {},
   "outputs": [],
   "source": [
    "vaf_dir = \"D:\\\\ncbi_dataset\\\\ncbi_dataset\\\\data\\\\vafs\\\\\"\n",
    "vaf_dir_wsl = \"/mnt/d/ncbi_dataset/ncbi_dataset/data/vafs/\"\n",
    "\n",
    "vcf_dir = \"D:\\\\ncbi_dataset\\\\ncbi_dataset\\\\data\\\\vcfs\\\\\"\n",
    "vcf_dir_wsl = \"/mnt/d/ncbi_dataset/ncbi_dataset/data/vcfs/\""
   ]
  },
  {
   "cell_type": "code",
   "execution_count": 5,
   "id": "58f7db18",
   "metadata": {},
   "outputs": [],
   "source": [
    "samples_path = \"D:\\\\ncbi_dataset\\\\ncbi_dataset\\\\data\\\\split_genomics\\\\\"\n",
    "samples_path_wsl = \"/mnt/d/ncbi_dataset/ncbi_dataset/data/split_genomics/\""
   ]
  },
  {
   "cell_type": "code",
   "execution_count": 6,
   "id": "34a0cf0c",
   "metadata": {},
   "outputs": [],
   "source": [
    "def extract_vafs_and_depth(file: str) -> (list[float], int):\n",
    "    vafs = []\n",
    "    depths = []\n",
    "    with open(file, \"r\") as f:\n",
    "        line = f.readline()\n",
    "        while line:\n",
    "            columns = line.split(\"\\t\")\n",
    "            if len(columns) == 10:\n",
    "                vals = columns[9].split(\":\")\n",
    "                cols = columns[8].split(\":\")\n",
    "                if len(cols) == 4 and cols[3] == \"VAF\":\n",
    "                    vafs.extend(list(map(lambda x:float(x), vals[3].split(\",\"))))\n",
    "                cols = columns[7].split(\";\")\n",
    "                for c in cols:\n",
    "                    if c.startswith(\"DP\") and not c.startswith(\"DP4\"):\n",
    "                        depth = int(c.split(\"=\")[1])\n",
    "                        depths.append(depth)\n",
    "                        break\n",
    "            line = f.readline()\n",
    "    return vafs, int(np.rint(np.mean(depths)))"
   ]
  },
  {
   "cell_type": "code",
   "execution_count": 7,
   "id": "4ccbae61",
   "metadata": {},
   "outputs": [],
   "source": [
    "def combine_fastas(output_path: str, input_samples: list[str]):\n",
    "    with open(output_path, \"w\") as outF:\n",
    "        for sample in input_samples:\n",
    "            with open(samples_path + sample + \".fa\", \"r\") as f:\n",
    "                outF.write(f.read()+\"\\n\")"
   ]
  },
  {
   "cell_type": "code",
   "execution_count": 12,
   "id": "edfb5855",
   "metadata": {},
   "outputs": [],
   "source": [
    "def create_vcf_command(infile : str, outfile : str, counts : int, name : str):\n",
    "    #commands = [\"echo 'konny-ponny' | sudo --stdin -- ./createVCF.sh {} {}\".format(infile, outfile)]\n",
    "    #command = \"eval $(tail ~/.bashrc -n 1) && {}\\n\".format(\" && \".join(commands))\n",
    "    threads = 6\n",
    "    commands = []\n",
    "    if name+\".fa\" in os.listdir(\"D:\\\\ncbi_dataset\\\\ncbi_dataset\\\\data\\\\aligned_samples\"):\n",
    "        aligned_file = f\"/mnt/d/ncbi_dataset/ncbi_dataset/data/aligned_samples/{name}.fa\"\n",
    "    else:\n",
    "        commands.append(\"echo \\'Aligning....\\'\")\n",
    "        if counts > 1000:\n",
    "            commands.append(f\"mafft --6merpair --thread {threads} --keeplength --addfragments {infile} NC_045512.2.fa | tee temp_aligned.fa > /dev/null\")\n",
    "        else:\n",
    "            commands.append(f\"mafft --thread {threads} --auto --add {infile} NC_045512.2.fa | tee temp_aligned.fa > /dev/null\")\n",
    "        commands.append(\"echo \\'Copying aligned fasta....\\'\")\n",
    "        commands.append(f\"cp temp_aligned.fa /mnt/d/ncbi_dataset/ncbi_dataset/data/aligned_samples/{name}.fa\")\n",
    "        aligned_file = \"temp_aligned.fa\"\n",
    "    commands.append(\"echo \\'Creating SAM....\\'\")\n",
    "    if counts < 100:\n",
    "        commands.append(f\"\\'/mnt/c/Users/Konrad Grudzinski/OneDrive - University of Glasgow/Computing/4th Year/Individual Project/Source/hisat2-2.2.1/hisat2\\' -x NC_045512.2.fa -f {aligned_file} -S temp_all.sam --threads {threads} -k 50 --score-min L,0,-2\")\n",
    "    else:\n",
    "        commands.append(f\"\\'/mnt/c/Users/Konrad Grudzinski/OneDrive - University of Glasgow/Computing/4th Year/Individual Project/Source/hisat2-2.2.1/hisat2\\' -x NC_045512.2.fa -f {aligned_file} -S temp_all.sam --threads {threads}\")\n",
    "    commands.append(\"echo \\'Sorting....\\'\")\n",
    "    commands.append(f\"samtools sort --verbosity 10 --threads {threads} temp_all.sam -o temp_all-sorted.bam\")\n",
    "    commands.append(\"echo \\'Pileup....\\'\")\n",
    "    commands.append(f\"bcftools mpileup -a FORMAT/AD,INFO/AD -d 120000 --threads {threads} -f NC_045512.2.fa temp_all-sorted.bam | tee temp_pileup > /dev/null\")\n",
    "    commands.append(\"echo \\'Calling....\\'\")\n",
    "    commands.append(\"bcftools call --ploidy 1 -mA temp_pileup | tee temp_called > /dev/null\")\n",
    "    #commands.append(\"bcftools filter -s LowQual -e \\'%QUAL<20 || DP>100\\' temp_called | tee {VCF} > /dev/null\".format(VCF=outfile+\".vcf\"))\n",
    "    commands.append(\"echo \\'Annotating....\\'\")\n",
    "    commands.append(f\"bcftools +fill-tags temp_called -Ov -o {outfile+'.vcf'} -- -t AF,FORMAT/VAF\")\n",
    "    \n",
    "    returncode = os.system('start /wait cmd /c wsl -- eval \"{}\"\\n'.format(\" && \".join(commands).replace(\"bcftools\", \"\\'/mnt/c/Users/Konrad Grudzinski/OneDrive - University of Glasgow/Computing/4th Year/Individual Project/Source/bcftools-1.14/bcftools\\'\")))\n",
    "    if returncode != 0:\n",
    "        print(returncode)"
   ]
  },
  {
   "cell_type": "code",
   "execution_count": 13,
   "id": "19bff523",
   "metadata": {
    "scrolled": true
   },
   "outputs": [
    {
     "data": {
      "application/vnd.jupyter.widget-view+json": {
       "model_id": "e8aa5d523c054f6891f12d5f1f384535",
       "version_major": 2,
       "version_minor": 0
      },
      "text/plain": [
       "  0%|          | 0/87 [00:00<?, ?it/s]"
      ]
     },
     "metadata": {},
     "output_type": "display_data"
    },
    {
     "name": "stdout",
     "output_type": "stream",
     "text": [
      "Japan\n"
     ]
    },
    {
     "data": {
      "application/vnd.jupyter.widget-view+json": {
       "model_id": "928f2813295c410f9d9a68359c05d223",
       "version_major": 2,
       "version_minor": 0
      },
      "text/plain": [
       "  0%|          | 0/19 [00:00<?, ?it/s]"
      ]
     },
     "metadata": {},
     "output_type": "display_data"
    },
    {
     "name": "stdout",
     "output_type": "stream",
     "text": [
      "2020-4\t98\n",
      "2020-3\t41\n",
      "2020-5\t29\n",
      "2020-6\t31\n",
      "2020-7\t55\n",
      "2020-8\t46\n",
      "2020-11\t89\n",
      "2020-10\t41\n",
      "2020-9\t38\n",
      "2020-12\t152\n",
      "2020-2\t73\n",
      "2021-2\t32\n",
      "2021-1\t18\n",
      "2021-3\t9\n",
      "2021-6\t109\n",
      "2021-4\t86\n",
      "2021-5\t39\n",
      "2021-7\t81\n",
      "2020-1\t1\n",
      "----------------------------------------------------\n",
      "United Kingdom\n"
     ]
    },
    {
     "data": {
      "application/vnd.jupyter.widget-view+json": {
       "model_id": "20ad6f9560c1451986ce0c462be790b3",
       "version_major": 2,
       "version_minor": 0
      },
      "text/plain": [
       "  0%|          | 0/23 [00:00<?, ?it/s]"
      ]
     },
     "metadata": {},
     "output_type": "display_data"
    },
    {
     "name": "stdout",
     "output_type": "stream",
     "text": [
      "2020-6\t5278\n",
      "2020-8\t5592\n",
      "2020-3\t2759\n",
      "2020-4\t6953\n",
      "2020-5\t2251\n",
      "2021-2\t22077\n",
      "2020-1\t18764\n",
      "2021-3\t1238\n",
      "2020-2\t6\n",
      "2020-12\t22197\n",
      "2020-11\t22207\n",
      "2021-1\t46990\n",
      "2020-7\t2413\n",
      "2020-9\t10109\n",
      "2020-10\t17395\n",
      "2021-11\t5709\n",
      "2021-4\t1444\n",
      "2021-6\t7119\n",
      "2021-5\t4846\n",
      "2021-7\t11228\n",
      "2021-8\t5068\n",
      "2021-9\t7023\n",
      "2021-10\t7959\n",
      "----------------------------------------------------\n",
      "Bangladesh\n"
     ]
    },
    {
     "data": {
      "application/vnd.jupyter.widget-view+json": {
       "model_id": "e99324a685214977b637476d02c87758",
       "version_major": 2,
       "version_minor": 0
      },
      "text/plain": [
       "  0%|          | 0/18 [00:00<?, ?it/s]"
      ]
     },
     "metadata": {},
     "output_type": "display_data"
    },
    {
     "name": "stdout",
     "output_type": "stream",
     "text": [
      "2020-4\t2\n",
      "2020-5\t53\n",
      "2020-6\t150\n",
      "2020-7\t94\n",
      "2021-1\t2\n",
      "2020-12\t21\n",
      "2020-10\t2\n",
      "2020-9\t1\n",
      "2020-11\t11\n",
      "2021-2\t14\n",
      "2021-5\t6\n",
      "2021-3\t14\n",
      "2021-4\t2\n",
      "2021-6\t50\n",
      "2021-7\t108\n",
      "2021-8\t33\n",
      "2021-9\t8\n",
      "2021-11\t2\n",
      "----------------------------------------------------\n",
      "Germany\n"
     ]
    },
    {
     "data": {
      "application/vnd.jupyter.widget-view+json": {
       "model_id": "d4127c8416f54aab9d912d6c9fb540bb",
       "version_major": 2,
       "version_minor": 0
      },
      "text/plain": [
       "  0%|          | 0/6 [00:00<?, ?it/s]"
      ]
     },
     "metadata": {},
     "output_type": "display_data"
    },
    {
     "name": "stdout",
     "output_type": "stream",
     "text": [
      "2020-1\t27\n",
      "2020-2\t7\n",
      "2020-3\t15\n",
      "2020-4\t2\n",
      "2020-12\t1\n",
      "2020-6\t1\n",
      "----------------------------------------------------\n",
      "Sweden\n"
     ]
    },
    {
     "data": {
      "application/vnd.jupyter.widget-view+json": {
       "model_id": "702e7858c53445e58ab4ef7fccc11a7d",
       "version_major": 2,
       "version_minor": 0
      },
      "text/plain": [
       "  0%|          | 0/2 [00:00<?, ?it/s]"
      ]
     },
     "metadata": {},
     "output_type": "display_data"
    },
    {
     "name": "stdout",
     "output_type": "stream",
     "text": [
      "2020-4\t5\n",
      "2021-6\t1\n",
      "----------------------------------------------------\n",
      "Netherlands\n"
     ]
    },
    {
     "data": {
      "application/vnd.jupyter.widget-view+json": {
       "model_id": "517f2ec3bc4145f294030cf9ba0b88bf",
       "version_major": 2,
       "version_minor": 0
      },
      "text/plain": [
       "  0%|          | 0/8 [00:00<?, ?it/s]"
      ]
     },
     "metadata": {},
     "output_type": "display_data"
    },
    {
     "name": "stdout",
     "output_type": "stream",
     "text": [
      "2020-3\t724\n",
      "2020-1\t106\n",
      "2020-4\t470\n",
      "2020-2\t8\n",
      "2020-5\t190\n",
      "2020-12\t1\n",
      "2021-5\t1\n",
      "2021-4\t1\n",
      "----------------------------------------------------\n",
      "Georgia\n"
     ]
    },
    {
     "data": {
      "application/vnd.jupyter.widget-view+json": {
       "model_id": "2bb4027242e14b648ca7b6de21267763",
       "version_major": 2,
       "version_minor": 0
      },
      "text/plain": [
       "  0%|          | 0/4 [00:00<?, ?it/s]"
      ]
     },
     "metadata": {},
     "output_type": "display_data"
    },
    {
     "name": "stdout",
     "output_type": "stream",
     "text": [
      "2020-3\t6\n",
      "2020-4\t7\n",
      "2020-5\t3\n",
      "2020-6\t1\n",
      "----------------------------------------------------\n",
      "Hong Kong\n"
     ]
    },
    {
     "data": {
      "application/vnd.jupyter.widget-view+json": {
       "model_id": "ea179ab8b439490c96d7569f92df71d2",
       "version_major": 2,
       "version_minor": 0
      },
      "text/plain": [
       "  0%|          | 0/16 [00:00<?, ?it/s]"
      ]
     },
     "metadata": {},
     "output_type": "display_data"
    },
    {
     "name": "stdout",
     "output_type": "stream",
     "text": [
      "2020-1\t1226\n",
      "2020-2\t29\n",
      "2020-3\t36\n",
      "2020-6\t2\n",
      "2020-8\t5\n",
      "2020-7\t40\n",
      "2020-9\t4\n",
      "2020-10\t8\n",
      "2020-11\t4\n",
      "2021-1\t221\n",
      "2020-12\t26\n",
      "2021-4\t18\n",
      "2021-5\t2\n",
      "2020-4\t1\n",
      "2021-3\t14\n",
      "2021-2\t1\n",
      "----------------------------------------------------\n",
      "Spain\n"
     ]
    },
    {
     "data": {
      "application/vnd.jupyter.widget-view+json": {
       "model_id": "ec9895636e8b4807ad70eb083f76da7e",
       "version_major": 2,
       "version_minor": 0
      },
      "text/plain": [
       "  0%|          | 0/7 [00:00<?, ?it/s]"
      ]
     },
     "metadata": {},
     "output_type": "display_data"
    },
    {
     "name": "stdout",
     "output_type": "stream",
     "text": [
      "2020-2\t1\n",
      "2020-3\t26\n",
      "2020-8\t6\n",
      "2020-4\t2\n",
      "2020-5\t2\n",
      "2021-2\t19\n",
      "2021-1\t69\n",
      "----------------------------------------------------\n",
      "USA\n"
     ]
    },
    {
     "data": {
      "application/vnd.jupyter.widget-view+json": {
       "model_id": "b32da17617084719a2b4c74f9793392f",
       "version_major": 2,
       "version_minor": 0
      },
      "text/plain": [
       "  0%|          | 0/24 [00:00<?, ?it/s]"
      ]
     },
     "metadata": {},
     "output_type": "display_data"
    },
    {
     "name": "stdout",
     "output_type": "stream",
     "text": [
      "2020-1\t1033\n",
      "2020-3\t6571\n",
      "2020-2\t56\n",
      "2020-4\t4143\n",
      "2020-5\t2869\n",
      "2020-6\t2827\n",
      "2020-7\t2717\n",
      "2020-8\t2482\n",
      "2020-9\t2129\n",
      "2020-10\t2609\n",
      "2020-11\t5315\n",
      "2020-12\t10747\n",
      "2021-1\t15461\n",
      "2021-2\t20549\n",
      "2021-3\t44542\n",
      "2021-4\t66242\n",
      "2021-5\t32566\n",
      "2021-6\t12497\n",
      "2021-7\t8750\n",
      "2021-8\t3783\n",
      "2021-9\t5081\n",
      "2021-10\t6032\n",
      "2021-11\t89942\n",
      "2021-12\t83308\n",
      "----------------------------------------------------\n",
      "Pakistan\n"
     ]
    },
    {
     "data": {
      "application/vnd.jupyter.widget-view+json": {
       "model_id": "13b8aa13170845aca12916d6f70ca557",
       "version_major": 2,
       "version_minor": 0
      },
      "text/plain": [
       "  0%|          | 0/16 [00:00<?, ?it/s]"
      ]
     },
     "metadata": {},
     "output_type": "display_data"
    },
    {
     "name": "stdout",
     "output_type": "stream",
     "text": [
      "2020-3\t22\n",
      "2020-5\t104\n",
      "2020-6\t20\n",
      "2020-1\t4\n",
      "2020-4\t39\n",
      "2020-8\t10\n",
      "2020-7\t5\n",
      "2020-10\t1\n",
      "2020-12\t14\n",
      "2020-11\t6\n",
      "2021-4\t10\n",
      "2021-3\t12\n",
      "2021-2\t2\n",
      "2021-1\t2\n",
      "2021-9\t2\n",
      "2021-12\t1\n",
      "----------------------------------------------------\n",
      "China\n"
     ]
    },
    {
     "data": {
      "application/vnd.jupyter.widget-view+json": {
       "model_id": "67442764698d4fb295763cfe44fcdc4d",
       "version_major": 2,
       "version_minor": 0
      },
      "text/plain": [
       "  0%|          | 0/9 [00:00<?, ?it/s]"
      ]
     },
     "metadata": {},
     "output_type": "display_data"
    },
    {
     "name": "stdout",
     "output_type": "stream",
     "text": [
      "2020-1\t64\n",
      "2020-3\t13\n",
      "2019-12\t6\n",
      "2020-2\t76\n",
      "2020-4\t1\n",
      "2020-12\t2\n",
      "2021-1\t5\n",
      "2021-12\t2\n",
      "2021-8\t3\n",
      "----------------------------------------------------\n",
      "Colombia\n"
     ]
    },
    {
     "data": {
      "application/vnd.jupyter.widget-view+json": {
       "model_id": "f8d29898b14b482a88c542e5546dbeac",
       "version_major": 2,
       "version_minor": 0
      },
      "text/plain": [
       "  0%|          | 0/2 [00:00<?, ?it/s]"
      ]
     },
     "metadata": {},
     "output_type": "display_data"
    },
    {
     "name": "stdout",
     "output_type": "stream",
     "text": [
      "2020-3\t1\n",
      "2020-4\t1\n",
      "----------------------------------------------------\n",
      "Peru\n"
     ]
    },
    {
     "data": {
      "application/vnd.jupyter.widget-view+json": {
       "model_id": "3409e5ac54294686983fde16d609eb91",
       "version_major": 2,
       "version_minor": 0
      },
      "text/plain": [
       "  0%|          | 0/13 [00:00<?, ?it/s]"
      ]
     },
     "metadata": {},
     "output_type": "display_data"
    },
    {
     "name": "stdout",
     "output_type": "stream",
     "text": [
      "2020-3\t32\n",
      "2020-4\t14\n",
      "2020-7\t23\n",
      "2020-6\t1\n",
      "2020-5\t23\n",
      "2020-12\t1\n",
      "2021-1\t4\n",
      "2021-2\t9\n",
      "2020-1\t1\n",
      "2021-3\t9\n",
      "2020-8\t2\n",
      "2020-9\t1\n",
      "2021-6\t2\n",
      "----------------------------------------------------\n",
      "Israel\n"
     ]
    },
    {
     "data": {
      "application/vnd.jupyter.widget-view+json": {
       "model_id": "3b9ee38f606a45dfa594a0df6be97b46",
       "version_major": 2,
       "version_minor": 0
      },
      "text/plain": [
       "  0%|          | 0/6 [00:00<?, ?it/s]"
      ]
     },
     "metadata": {},
     "output_type": "display_data"
    },
    {
     "name": "stdout",
     "output_type": "stream",
     "text": [
      "2020-2\t2\n",
      "2020-3\t70\n",
      "2020-7\t5\n",
      "2020-6\t3\n",
      "2020-4\t39\n",
      "2020-10\t1\n",
      "----------------------------------------------------\n",
      "Taiwan\n"
     ]
    },
    {
     "data": {
      "application/vnd.jupyter.widget-view+json": {
       "model_id": "1d49e00f2c854212b012de96b8b36715",
       "version_major": 2,
       "version_minor": 0
      },
      "text/plain": [
       "  0%|          | 0/13 [00:00<?, ?it/s]"
      ]
     },
     "metadata": {},
     "output_type": "display_data"
    },
    {
     "name": "stdout",
     "output_type": "stream",
     "text": [
      "2020-2\t4\n",
      "2020-3\t21\n",
      "2020-4\t2\n",
      "2020-9\t2\n",
      "2020-7\t1\n",
      "2020-10\t3\n",
      "2020-11\t6\n",
      "2020-12\t4\n",
      "2020-1\t2\n",
      "2021-1\t5\n",
      "2021-3\t2\n",
      "2021-4\t4\n",
      "2021-5\t1\n",
      "----------------------------------------------------\n",
      "Sri Lanka\n"
     ]
    },
    {
     "data": {
      "application/vnd.jupyter.widget-view+json": {
       "model_id": "ecffa57091cd492c99703202ffff93e5",
       "version_major": 2,
       "version_minor": 0
      },
      "text/plain": [
       "  0%|          | 0/1 [00:00<?, ?it/s]"
      ]
     },
     "metadata": {},
     "output_type": "display_data"
    },
    {
     "name": "stdout",
     "output_type": "stream",
     "text": [
      "2020-3\t4\n",
      "----------------------------------------------------\n",
      "Czech Republic\n"
     ]
    },
    {
     "data": {
      "application/vnd.jupyter.widget-view+json": {
       "model_id": "5f31162497174bb0a39a60000cf66274",
       "version_major": 2,
       "version_minor": 0
      },
      "text/plain": [
       "  0%|          | 0/3 [00:00<?, ?it/s]"
      ]
     },
     "metadata": {},
     "output_type": "display_data"
    },
    {
     "name": "stdout",
     "output_type": "stream",
     "text": [
      "2020-3\t22\n",
      "2020-4\t1\n",
      "2020-11\t1\n",
      "----------------------------------------------------\n",
      "Malaysia\n"
     ]
    },
    {
     "data": {
      "application/vnd.jupyter.widget-view+json": {
       "model_id": "9cf9ae950e4d4da19193ab218a581ae3",
       "version_major": 2,
       "version_minor": 0
      },
      "text/plain": [
       "  0%|          | 0/9 [00:00<?, ?it/s]"
      ]
     },
     "metadata": {},
     "output_type": "display_data"
    },
    {
     "name": "stdout",
     "output_type": "stream",
     "text": [
      "2020-3\t4\n",
      "2020-4\t2\n",
      "2020-11\t23\n",
      "2021-1\t1\n",
      "2021-2\t1\n",
      "2021-3\t4\n",
      "2021-4\t5\n",
      "2021-5\t2\n",
      "2020-12\t1\n",
      "----------------------------------------------------\n",
      "India\n"
     ]
    },
    {
     "data": {
      "application/vnd.jupyter.widget-view+json": {
       "model_id": "11b6f470f74a4b36b4d0f4904b412b23",
       "version_major": 2,
       "version_minor": 0
      },
      "text/plain": [
       "  0%|          | 0/18 [00:00<?, ?it/s]"
      ]
     },
     "metadata": {},
     "output_type": "display_data"
    },
    {
     "name": "stdout",
     "output_type": "stream",
     "text": [
      "2020-3\t7\n",
      "2020-4\t92\n",
      "2020-5\t110\n",
      "2020-6\t260\n",
      "2020-7\t67\n",
      "2020-9\t7\n",
      "2020-11\t48\n",
      "2020-12\t82\n",
      "2021-2\t34\n",
      "2021-3\t51\n",
      "2020-8\t1\n",
      "2020-10\t1\n",
      "2021-4\t53\n",
      "2020-1\t25\n",
      "2021-1\t20\n",
      "2021-5\t44\n",
      "2021-6\t42\n",
      "2021-7\t1\n",
      "----------------------------------------------------\n",
      "Puerto Rico\n"
     ]
    },
    {
     "data": {
      "application/vnd.jupyter.widget-view+json": {
       "model_id": "9a9bbb7a28594a2da7a82f117a0b8ae2",
       "version_major": 2,
       "version_minor": 0
      },
      "text/plain": [
       "  0%|          | 0/4 [00:00<?, ?it/s]"
      ]
     },
     "metadata": {},
     "output_type": "display_data"
    },
    {
     "name": "stdout",
     "output_type": "stream",
     "text": [
      "2020-3\t7\n",
      "2020-7\t1\n",
      "2021-4\t7\n",
      "2021-3\t3\n",
      "----------------------------------------------------\n",
      "Kazakhstan\n"
     ]
    },
    {
     "data": {
      "application/vnd.jupyter.widget-view+json": {
       "model_id": "e067724980994fd791c8cce320fc4a65",
       "version_major": 2,
       "version_minor": 0
      },
      "text/plain": [
       "  0%|          | 0/1 [00:00<?, ?it/s]"
      ]
     },
     "metadata": {},
     "output_type": "display_data"
    },
    {
     "name": "stdout",
     "output_type": "stream",
     "text": [
      "2020-3\t5\n",
      "----------------------------------------------------\n",
      "Thailand\n"
     ]
    },
    {
     "data": {
      "application/vnd.jupyter.widget-view+json": {
       "model_id": "f6f436c30cc94f058e46d8d3282db8ee",
       "version_major": 2,
       "version_minor": 0
      },
      "text/plain": [
       "  0%|          | 0/3 [00:00<?, ?it/s]"
      ]
     },
     "metadata": {},
     "output_type": "display_data"
    },
    {
     "name": "stdout",
     "output_type": "stream",
     "text": [
      "2020-2\t6\n",
      "2020-1\t6\n",
      "2020-3\t8\n",
      "----------------------------------------------------\n",
      "Iran\n"
     ]
    },
    {
     "data": {
      "application/vnd.jupyter.widget-view+json": {
       "model_id": "fa0b21177fcb49d49472b59c791d7413",
       "version_major": 2,
       "version_minor": 0
      },
      "text/plain": [
       "  0%|          | 0/4 [00:00<?, ?it/s]"
      ]
     },
     "metadata": {},
     "output_type": "display_data"
    },
    {
     "name": "stdout",
     "output_type": "stream",
     "text": [
      "2020-3\t1\n",
      "2020-5\t5\n",
      "2020-2\t1\n",
      "2020-4\t1\n",
      "----------------------------------------------------\n",
      "Serbia\n"
     ]
    },
    {
     "data": {
      "application/vnd.jupyter.widget-view+json": {
       "model_id": "81feda8cafe44123b9516900c6d3412b",
       "version_major": 2,
       "version_minor": 0
      },
      "text/plain": [
       "  0%|          | 0/8 [00:00<?, ?it/s]"
      ]
     },
     "metadata": {},
     "output_type": "display_data"
    },
    {
     "name": "stdout",
     "output_type": "stream",
     "text": [
      "2020-4\t39\n",
      "2020-5\t15\n",
      "2020-7\t57\n",
      "2020-6\t17\n",
      "2020-3\t2\n",
      "2020-8\t4\n",
      "2020-11\t4\n",
      "2020-12\t3\n",
      "----------------------------------------------------\n",
      "Australia\n"
     ]
    },
    {
     "data": {
      "application/vnd.jupyter.widget-view+json": {
       "model_id": "bb22992dc3a84faab877035d74ba59be",
       "version_major": 2,
       "version_minor": 0
      },
      "text/plain": [
       "  0%|          | 0/11 [00:00<?, ?it/s]"
      ]
     },
     "metadata": {},
     "output_type": "display_data"
    },
    {
     "name": "stdout",
     "output_type": "stream",
     "text": [
      "2020-3\t369\n",
      "2020-4\t157\n",
      "2020-2\t3\n",
      "2020-1\t335\n",
      "2020-5\t24\n",
      "2020-6\t466\n",
      "2020-7\t5111\n",
      "2020-8\t2933\n",
      "2020-9\t483\n",
      "2020-10\t21\n",
      "2021-11\t1\n",
      "----------------------------------------------------\n",
      "Greece\n"
     ]
    },
    {
     "data": {
      "application/vnd.jupyter.widget-view+json": {
       "model_id": "07e5bbc00cf44b679143cf1c12c155df",
       "version_major": 2,
       "version_minor": 0
      },
      "text/plain": [
       "  0%|          | 0/2 [00:00<?, ?it/s]"
      ]
     },
     "metadata": {},
     "output_type": "display_data"
    },
    {
     "name": "stdout",
     "output_type": "stream",
     "text": [
      "2020-3\t91\n",
      "2020-4\t2\n",
      "----------------------------------------------------\n",
      "Guam\n"
     ]
    },
    {
     "data": {
      "application/vnd.jupyter.widget-view+json": {
       "model_id": "3ceda33843904d458ed38692dd860424",
       "version_major": 2,
       "version_minor": 0
      },
      "text/plain": [
       "  0%|          | 0/1 [00:00<?, ?it/s]"
      ]
     },
     "metadata": {},
     "output_type": "display_data"
    },
    {
     "name": "stdout",
     "output_type": "stream",
     "text": [
      "2020-3\t3\n",
      "----------------------------------------------------\n",
      "Uruguay\n"
     ]
    },
    {
     "data": {
      "application/vnd.jupyter.widget-view+json": {
       "model_id": "f320e74d2cb440ee9654305c33a275bc",
       "version_major": 2,
       "version_minor": 0
      },
      "text/plain": [
       "  0%|          | 0/5 [00:00<?, ?it/s]"
      ]
     },
     "metadata": {},
     "output_type": "display_data"
    },
    {
     "name": "stdout",
     "output_type": "stream",
     "text": [
      "2020-3\t1\n",
      "2020-7\t7\n",
      "2021-3\t2\n",
      "2020-10\t6\n",
      "2020-9\t7\n",
      "----------------------------------------------------\n",
      "France\n"
     ]
    },
    {
     "data": {
      "application/vnd.jupyter.widget-view+json": {
       "model_id": "6ab634b4373944db806f7d524dfa1d57",
       "version_major": 2,
       "version_minor": 0
      },
      "text/plain": [
       "  0%|          | 0/5 [00:00<?, ?it/s]"
      ]
     },
     "metadata": {},
     "output_type": "display_data"
    },
    {
     "name": "stdout",
     "output_type": "stream",
     "text": [
      "2020-3\t81\n",
      "2020-5\t2\n",
      "2020-9\t1\n",
      "2020-6\t1\n",
      "2021-1\t1\n",
      "----------------------------------------------------\n",
      "Turkey\n"
     ]
    },
    {
     "data": {
      "application/vnd.jupyter.widget-view+json": {
       "model_id": "16a09d333f6c4470aa1f0914dede7e87",
       "version_major": 2,
       "version_minor": 0
      },
      "text/plain": [
       "  0%|          | 0/6 [00:00<?, ?it/s]"
      ]
     },
     "metadata": {},
     "output_type": "display_data"
    },
    {
     "name": "stdout",
     "output_type": "stream",
     "text": [
      "2020-3\t5\n",
      "2020-4\t5\n",
      "2020-7\t33\n",
      "2020-5\t1\n",
      "2020-6\t1\n",
      "2021-3\t1\n",
      "----------------------------------------------------\n",
      "Italy\n"
     ]
    },
    {
     "data": {
      "application/vnd.jupyter.widget-view+json": {
       "model_id": "f57bdee224eb4544a4373f0adf00f846",
       "version_major": 2,
       "version_minor": 0
      },
      "text/plain": [
       "  0%|          | 0/13 [00:00<?, ?it/s]"
      ]
     },
     "metadata": {},
     "output_type": "display_data"
    },
    {
     "name": "stdout",
     "output_type": "stream",
     "text": [
      "2020-2\t12\n",
      "2020-3\t30\n",
      "2020-1\t1\n",
      "2020-4\t7\n",
      "2020-5\t1\n",
      "2020-6\t15\n",
      "2020-12\t8\n",
      "2020-8\t1\n",
      "2021-1\t3\n",
      "2021-3\t5\n",
      "2021-2\t1\n",
      "2021-4\t2\n",
      "2021-5\t8\n",
      "----------------------------------------------------\n",
      "Poland\n"
     ]
    },
    {
     "data": {
      "application/vnd.jupyter.widget-view+json": {
       "model_id": "ab484d2ef53d417bbba8118240c29c0c",
       "version_major": 2,
       "version_minor": 0
      },
      "text/plain": [
       "  0%|          | 0/7 [00:00<?, ?it/s]"
      ]
     },
     "metadata": {},
     "output_type": "display_data"
    },
    {
     "name": "stdout",
     "output_type": "stream",
     "text": [
      "2020-4\t62\n",
      "2020-3\t24\n",
      "2020-6\t19\n",
      "2020-9\t2\n",
      "2020-5\t40\n",
      "2020-1\t1\n",
      "2021-1\t4\n",
      "----------------------------------------------------\n",
      "Tunisia\n"
     ]
    },
    {
     "data": {
      "application/vnd.jupyter.widget-view+json": {
       "model_id": "376f6a4daec54336a95f7c8adf6a149a",
       "version_major": 2,
       "version_minor": 0
      },
      "text/plain": [
       "  0%|          | 0/10 [00:00<?, ?it/s]"
      ]
     },
     "metadata": {},
     "output_type": "display_data"
    },
    {
     "name": "stdout",
     "output_type": "stream",
     "text": [
      "2020-3\t10\n",
      "2020-4\t4\n",
      "2020-5\t3\n",
      "2020-7\t4\n",
      "2020-10\t11\n",
      "2020-11\t13\n",
      "2021-1\t6\n",
      "2020-12\t1\n",
      "2021-2\t1\n",
      "2021-4\t1\n",
      "----------------------------------------------------\n",
      "Jamaica\n"
     ]
    },
    {
     "data": {
      "application/vnd.jupyter.widget-view+json": {
       "model_id": "bc8d0d3848b44c9a9faf0bc7e3c47eec",
       "version_major": 2,
       "version_minor": 0
      },
      "text/plain": [
       "  0%|          | 0/6 [00:00<?, ?it/s]"
      ]
     },
     "metadata": {},
     "output_type": "display_data"
    },
    {
     "name": "stdout",
     "output_type": "stream",
     "text": [
      "2020-3\t8\n",
      "2021-7\t5\n",
      "2021-8\t28\n",
      "2021-9\t1\n",
      "2021-10\t4\n",
      "2021-11\t1\n",
      "----------------------------------------------------\n",
      "Egypt\n"
     ]
    },
    {
     "data": {
      "application/vnd.jupyter.widget-view+json": {
       "model_id": "00ca49616cb64070be012edc86006e63",
       "version_major": 2,
       "version_minor": 0
      },
      "text/plain": [
       "  0%|          | 0/19 [00:00<?, ?it/s]"
      ]
     },
     "metadata": {},
     "output_type": "display_data"
    },
    {
     "name": "stdout",
     "output_type": "stream",
     "text": [
      "2020-5\t36\n",
      "2020-6\t60\n",
      "2020-7\t49\n",
      "2020-8\t159\n",
      "2020-3\t3\n",
      "2020-9\t1\n",
      "2020-12\t81\n",
      "2020-4\t1\n",
      "2020-1\t48\n",
      "2021-1\t47\n",
      "2020-11\t9\n",
      "2021-3\t87\n",
      "2021-2\t15\n",
      "2021-4\t82\n",
      "2021-5\t119\n",
      "2021-6\t6\n",
      "2021-9\t34\n",
      "2021-8\t19\n",
      "2021-10\t72\n",
      "----------------------------------------------------\n",
      "Morocco\n"
     ]
    },
    {
     "data": {
      "application/vnd.jupyter.widget-view+json": {
       "model_id": "1e3b0db96d8b4b0888a1a1a3f9e16a15",
       "version_major": 2,
       "version_minor": 0
      },
      "text/plain": [
       "  0%|          | 0/7 [00:00<?, ?it/s]"
      ]
     },
     "metadata": {},
     "output_type": "display_data"
    },
    {
     "name": "stdout",
     "output_type": "stream",
     "text": [
      "2020-4\t6\n",
      "2020-3\t3\n",
      "2020-12\t1\n",
      "2020-7\t1\n",
      "2021-1\t1\n",
      "2021-4\t1\n",
      "2021-12\t1\n",
      "----------------------------------------------------\n",
      "Saudi Arabia\n"
     ]
    },
    {
     "data": {
      "application/vnd.jupyter.widget-view+json": {
       "model_id": "f5dcb0743614467fba5b11f8e6c2871a",
       "version_major": 2,
       "version_minor": 0
      },
      "text/plain": [
       "  0%|          | 0/9 [00:00<?, ?it/s]"
      ]
     },
     "metadata": {},
     "output_type": "display_data"
    },
    {
     "name": "stdout",
     "output_type": "stream",
     "text": [
      "2020-3\t26\n",
      "2020-2\t16\n",
      "2020-4\t15\n",
      "2021-4\t4\n",
      "2020-11\t4\n",
      "2020-1\t1\n",
      "2021-1\t9\n",
      "2020-12\t9\n",
      "2021-2\t100\n",
      "----------------------------------------------------\n",
      "Russia\n"
     ]
    },
    {
     "data": {
      "application/vnd.jupyter.widget-view+json": {
       "model_id": "def5c6d12fc848928c72a601a6fcdefc",
       "version_major": 2,
       "version_minor": 0
      },
      "text/plain": [
       "  0%|          | 0/9 [00:00<?, ?it/s]"
      ]
     },
     "metadata": {},
     "output_type": "display_data"
    },
    {
     "name": "stdout",
     "output_type": "stream",
     "text": [
      "2020-3\t7\n",
      "2020-4\t8\n",
      "2020-7\t6\n",
      "2020-5\t2\n",
      "2020-8\t1\n",
      "2020-6\t1\n",
      "2021-1\t2\n",
      "2020-11\t1\n",
      "2020-12\t1\n",
      "----------------------------------------------------\n",
      "Timor-Leste\n"
     ]
    },
    {
     "data": {
      "application/vnd.jupyter.widget-view+json": {
       "model_id": "67f8437cd9c548f3ba1b04f91257c861",
       "version_major": 2,
       "version_minor": 0
      },
      "text/plain": [
       "  0%|          | 0/2 [00:00<?, ?it/s]"
      ]
     },
     "metadata": {},
     "output_type": "display_data"
    },
    {
     "name": "stdout",
     "output_type": "stream",
     "text": [
      "2020-4\t6\n",
      "2020-3\t1\n",
      "----------------------------------------------------\n",
      "Benin\n"
     ]
    },
    {
     "data": {
      "application/vnd.jupyter.widget-view+json": {
       "model_id": "5458700355ce4d9285c5a0a6fc1f816d",
       "version_major": 2,
       "version_minor": 0
      },
      "text/plain": [
       "  0%|          | 0/2 [00:00<?, ?it/s]"
      ]
     },
     "metadata": {},
     "output_type": "display_data"
    },
    {
     "name": "stdout",
     "output_type": "stream",
     "text": [
      "2020-3\t8\n",
      "2020-4\t4\n",
      "----------------------------------------------------\n",
      "Chile\n"
     ]
    },
    {
     "data": {
      "application/vnd.jupyter.widget-view+json": {
       "model_id": "8f1cf2de46814b01bdc4f4f2f700cb99",
       "version_major": 2,
       "version_minor": 0
      },
      "text/plain": [
       "  0%|          | 0/4 [00:00<?, ?it/s]"
      ]
     },
     "metadata": {},
     "output_type": "display_data"
    },
    {
     "name": "stdout",
     "output_type": "stream",
     "text": [
      "2020-3\t91\n",
      "2020-4\t86\n",
      "2020-5\t72\n",
      "2020-6\t37\n",
      "----------------------------------------------------\n",
      "South Korea\n"
     ]
    },
    {
     "data": {
      "application/vnd.jupyter.widget-view+json": {
       "model_id": "50a3691de9534bf5af92f759c4e35134",
       "version_major": 2,
       "version_minor": 0
      },
      "text/plain": [
       "  0%|          | 0/6 [00:00<?, ?it/s]"
      ]
     },
     "metadata": {},
     "output_type": "display_data"
    },
    {
     "name": "stdout",
     "output_type": "stream",
     "text": [
      "2020-3\t6\n",
      "2020-2\t2\n",
      "2020-6\t3\n",
      "2020-7\t4\n",
      "2020-12\t5\n",
      "2021-1\t9\n",
      "----------------------------------------------------\n",
      "New Zealand\n"
     ]
    },
    {
     "data": {
      "application/vnd.jupyter.widget-view+json": {
       "model_id": "453f8a7c626f484ab92c3db7aa94d77f",
       "version_major": 2,
       "version_minor": 0
      },
      "text/plain": [
       "  0%|          | 0/18 [00:00<?, ?it/s]"
      ]
     },
     "metadata": {},
     "output_type": "display_data"
    },
    {
     "name": "stdout",
     "output_type": "stream",
     "text": [
      "2020-3\t272\n",
      "2020-2\t1\n",
      "2020-4\t131\n",
      "2020-5\t5\n",
      "2020-6\t3\n",
      "2020-8\t54\n",
      "2020-1\t9\n",
      "2020-12\t26\n",
      "2020-9\t16\n",
      "2020-10\t36\n",
      "2020-11\t27\n",
      "2021-1\t17\n",
      "2020-7\t2\n",
      "2021-3\t21\n",
      "2021-4\t25\n",
      "2021-2\t21\n",
      "2021-6\t5\n",
      "2021-5\t5\n",
      "----------------------------------------------------\n",
      "Brazil\n"
     ]
    },
    {
     "data": {
      "application/vnd.jupyter.widget-view+json": {
       "model_id": "9cecd863f4fa45d3aa742795d4a121a0",
       "version_major": 2,
       "version_minor": 0
      },
      "text/plain": [
       "  0%|          | 0/11 [00:00<?, ?it/s]"
      ]
     },
     "metadata": {},
     "output_type": "display_data"
    },
    {
     "name": "stdout",
     "output_type": "stream",
     "text": [
      "2020-3\t4\n",
      "2020-5\t2\n",
      "2020-7\t10\n",
      "2020-6\t4\n",
      "2020-11\t1\n",
      "2020-8\t1\n",
      "2021-2\t7\n",
      "2021-3\t17\n",
      "2020-12\t3\n",
      "2021-4\t59\n",
      "2020-1\t1\n",
      "----------------------------------------------------\n",
      "Bahrain\n"
     ]
    },
    {
     "data": {
      "application/vnd.jupyter.widget-view+json": {
       "model_id": "253f2da002614c959f0f3e674c4610db",
       "version_major": 2,
       "version_minor": 0
      },
      "text/plain": [
       "  0%|          | 0/20 [00:00<?, ?it/s]"
      ]
     },
     "metadata": {},
     "output_type": "display_data"
    },
    {
     "name": "stdout",
     "output_type": "stream",
     "text": [
      "2020-6\t12\n",
      "2020-8\t5\n",
      "2020-7\t4\n",
      "2020-9\t7\n",
      "2020-10\t57\n",
      "2020-5\t1\n",
      "2020-11\t41\n",
      "2020-12\t3\n",
      "2021-1\t5\n",
      "2021-2\t18\n",
      "2021-3\t4\n",
      "2021-4\t15\n",
      "2021-6\t6\n",
      "2021-5\t19\n",
      "2021-7\t8\n",
      "2021-8\t2\n",
      "2021-9\t2\n",
      "2021-10\t1\n",
      "2021-11\t112\n",
      "2021-12\t214\n",
      "----------------------------------------------------\n",
      "Zambia\n"
     ]
    },
    {
     "data": {
      "application/vnd.jupyter.widget-view+json": {
       "model_id": "5e0881a7b4d6405393f9c1b418d52d5a",
       "version_major": 2,
       "version_minor": 0
      },
      "text/plain": [
       "  0%|          | 0/1 [00:00<?, ?it/s]"
      ]
     },
     "metadata": {},
     "output_type": "display_data"
    },
    {
     "name": "stdout",
     "output_type": "stream",
     "text": [
      "2020-3\t1\n",
      "----------------------------------------------------\n",
      "Jordan\n"
     ]
    },
    {
     "data": {
      "application/vnd.jupyter.widget-view+json": {
       "model_id": "f12925bc7abd4620869da1eddc47ad8a",
       "version_major": 2,
       "version_minor": 0
      },
      "text/plain": [
       "  0%|          | 0/3 [00:00<?, ?it/s]"
      ]
     },
     "metadata": {},
     "output_type": "display_data"
    },
    {
     "name": "stdout",
     "output_type": "stream",
     "text": [
      "2020-3\t20\n",
      "2020-4\t3\n",
      "2021-3\t1\n",
      "----------------------------------------------------\n",
      "Belize\n"
     ]
    },
    {
     "data": {
      "application/vnd.jupyter.widget-view+json": {
       "model_id": "95e1be5415d6428f8cbb6ccbabec6ced",
       "version_major": 2,
       "version_minor": 0
      },
      "text/plain": [
       "  0%|          | 0/2 [00:00<?, ?it/s]"
      ]
     },
     "metadata": {},
     "output_type": "display_data"
    },
    {
     "name": "stdout",
     "output_type": "stream",
     "text": [
      "2020-3\t3\n",
      "2020-4\t1\n",
      "----------------------------------------------------\n",
      "Guatemala\n"
     ]
    },
    {
     "data": {
      "application/vnd.jupyter.widget-view+json": {
       "model_id": "877c84f6e3b54c749956e21265ee3c37",
       "version_major": 2,
       "version_minor": 0
      },
      "text/plain": [
       "  0%|          | 0/1 [00:00<?, ?it/s]"
      ]
     },
     "metadata": {},
     "output_type": "display_data"
    },
    {
     "name": "stdout",
     "output_type": "stream",
     "text": [
      "2020-3\t10\n",
      "----------------------------------------------------\n",
      "Sierra Leone\n"
     ]
    },
    {
     "data": {
      "application/vnd.jupyter.widget-view+json": {
       "model_id": "28a79991335f4906adadb4f1fae1b036",
       "version_major": 2,
       "version_minor": 0
      },
      "text/plain": [
       "  0%|          | 0/6 [00:00<?, ?it/s]"
      ]
     },
     "metadata": {},
     "output_type": "display_data"
    },
    {
     "name": "stdout",
     "output_type": "stream",
     "text": [
      "2020-4\t8\n",
      "2020-3\t2\n",
      "2021-1\t38\n",
      "2020-12\t5\n",
      "2021-2\t4\n",
      "2021-6\t2\n",
      "----------------------------------------------------\n",
      "Ghana\n"
     ]
    },
    {
     "data": {
      "application/vnd.jupyter.widget-view+json": {
       "model_id": "bec654b6407849ec9f1927055b4fe96e",
       "version_major": 2,
       "version_minor": 0
      },
      "text/plain": [
       "  0%|          | 0/10 [00:00<?, ?it/s]"
      ]
     },
     "metadata": {},
     "output_type": "display_data"
    },
    {
     "name": "stdout",
     "output_type": "stream",
     "text": [
      "2020-5\t7\n",
      "2020-3\t1\n",
      "2020-7\t16\n",
      "2020-8\t2\n",
      "2021-1\t102\n",
      "2020-1\t5\n",
      "2020-12\t25\n",
      "2020-11\t3\n",
      "2021-3\t7\n",
      "2021-2\t17\n",
      "----------------------------------------------------\n",
      "Venezuela\n"
     ]
    },
    {
     "data": {
      "application/vnd.jupyter.widget-view+json": {
       "model_id": "f1d738e356c64e2c9eaeab08f1b9f0c7",
       "version_major": 2,
       "version_minor": 0
      },
      "text/plain": [
       "  0%|          | 0/9 [00:00<?, ?it/s]"
      ]
     },
     "metadata": {},
     "output_type": "display_data"
    },
    {
     "name": "stdout",
     "output_type": "stream",
     "text": [
      "2020-3\t3\n",
      "2020-4\t1\n",
      "2020-5\t2\n",
      "2020-1\t1\n",
      "2021-1\t3\n",
      "2021-2\t2\n",
      "2021-5\t6\n",
      "2021-3\t2\n",
      "2021-4\t4\n",
      "----------------------------------------------------\n",
      "Philippines\n"
     ]
    },
    {
     "data": {
      "application/vnd.jupyter.widget-view+json": {
       "model_id": "f285b14adcc847eea45d988fe1a9b27c",
       "version_major": 2,
       "version_minor": 0
      },
      "text/plain": [
       "  0%|          | 0/6 [00:00<?, ?it/s]"
      ]
     },
     "metadata": {},
     "output_type": "display_data"
    },
    {
     "name": "stdout",
     "output_type": "stream",
     "text": [
      "2020-4\t1\n",
      "2020-6\t6\n",
      "2020-7\t17\n",
      "2021-1\t12\n",
      "2021-3\t2\n",
      "2021-4\t2\n",
      "----------------------------------------------------\n",
      "Myanmar\n"
     ]
    },
    {
     "data": {
      "application/vnd.jupyter.widget-view+json": {
       "model_id": "133bb61783024d8799b7b951e4c38c70",
       "version_major": 2,
       "version_minor": 0
      },
      "text/plain": [
       "  0%|          | 0/5 [00:00<?, ?it/s]"
      ]
     },
     "metadata": {},
     "output_type": "display_data"
    },
    {
     "name": "stdout",
     "output_type": "stream",
     "text": [
      "2020-5\t10\n",
      "2021-5\t5\n",
      "2021-6\t3\n",
      "2021-12\t4\n",
      "2021-11\t6\n",
      "----------------------------------------------------\n",
      "Iraq\n"
     ]
    },
    {
     "data": {
      "application/vnd.jupyter.widget-view+json": {
       "model_id": "f358f7e01cec4d3384da7e574def147e",
       "version_major": 2,
       "version_minor": 0
      },
      "text/plain": [
       "  0%|          | 0/7 [00:00<?, ?it/s]"
      ]
     },
     "metadata": {},
     "output_type": "display_data"
    },
    {
     "name": "stdout",
     "output_type": "stream",
     "text": [
      "2020-6\t27\n",
      "2020-10\t2\n",
      "2021-1\t3\n",
      "2021-2\t51\n",
      "2020-12\t3\n",
      "2021-3\t4\n",
      "2021-4\t2\n",
      "----------------------------------------------------\n",
      "Nigeria\n"
     ]
    },
    {
     "data": {
      "application/vnd.jupyter.widget-view+json": {
       "model_id": "f40bcd6df4644dc4a46d6928811fb65a",
       "version_major": 2,
       "version_minor": 0
      },
      "text/plain": [
       "  0%|          | 0/5 [00:00<?, ?it/s]"
      ]
     },
     "metadata": {},
     "output_type": "display_data"
    },
    {
     "name": "stdout",
     "output_type": "stream",
     "text": [
      "2020-3\t1\n",
      "2021-1\t98\n",
      "2020-1\t1\n",
      "2020-7\t16\n",
      "2021-2\t94\n",
      "----------------------------------------------------\n",
      "Libya\n"
     ]
    },
    {
     "data": {
      "application/vnd.jupyter.widget-view+json": {
       "model_id": "b6c88e27def044d081f20fe513ccd6de",
       "version_major": 2,
       "version_minor": 0
      },
      "text/plain": [
       "  0%|          | 0/2 [00:00<?, ?it/s]"
      ]
     },
     "metadata": {},
     "output_type": "display_data"
    },
    {
     "name": "stdout",
     "output_type": "stream",
     "text": [
      "2020-6\t9\n",
      "2021-2\t8\n",
      "----------------------------------------------------\n",
      "Malta\n"
     ]
    },
    {
     "data": {
      "application/vnd.jupyter.widget-view+json": {
       "model_id": "99d547ad46274955b70a9a9159438c69",
       "version_major": 2,
       "version_minor": 0
      },
      "text/plain": [
       "  0%|          | 0/2 [00:00<?, ?it/s]"
      ]
     },
     "metadata": {},
     "output_type": "display_data"
    },
    {
     "name": "stdout",
     "output_type": "stream",
     "text": [
      "2020-8\t2\n",
      "2020-9\t2\n",
      "----------------------------------------------------\n",
      "West Bank\n"
     ]
    },
    {
     "data": {
      "application/vnd.jupyter.widget-view+json": {
       "model_id": "0b0e449fdb474836bc5dde8311962143",
       "version_major": 2,
       "version_minor": 0
      },
      "text/plain": [
       "  0%|          | 0/4 [00:00<?, ?it/s]"
      ]
     },
     "metadata": {},
     "output_type": "display_data"
    },
    {
     "name": "stdout",
     "output_type": "stream",
     "text": [
      "2020-11\t20\n",
      "2021-1\t3\n",
      "2021-2\t13\n",
      "2021-4\t18\n",
      "----------------------------------------------------\n",
      "Ecuador\n"
     ]
    },
    {
     "data": {
      "application/vnd.jupyter.widget-view+json": {
       "model_id": "d88fccab01fd4f5482e7881f63c0e5f2",
       "version_major": 2,
       "version_minor": 0
      },
      "text/plain": [
       "  0%|          | 0/4 [00:00<?, ?it/s]"
      ]
     },
     "metadata": {},
     "output_type": "display_data"
    },
    {
     "name": "stdout",
     "output_type": "stream",
     "text": [
      "2020-7\t1\n",
      "2020-10\t1\n",
      "2020-3\t1\n",
      "2020-4\t1\n",
      "----------------------------------------------------\n",
      "Canada\n"
     ]
    },
    {
     "data": {
      "application/vnd.jupyter.widget-view+json": {
       "model_id": "8ad96b4d20f4443eb3ba519faf351399",
       "version_major": 2,
       "version_minor": 0
      },
      "text/plain": [
       "  0%|          | 0/3 [00:00<?, ?it/s]"
      ]
     },
     "metadata": {},
     "output_type": "display_data"
    },
    {
     "name": "stdout",
     "output_type": "stream",
     "text": [
      "2020-9\t3\n",
      "2020-3\t1\n",
      "2021-12\t2\n",
      "----------------------------------------------------\n",
      "Mexico\n"
     ]
    },
    {
     "data": {
      "application/vnd.jupyter.widget-view+json": {
       "model_id": "c28fe49512354125a8f0f9461282f6b2",
       "version_major": 2,
       "version_minor": 0
      },
      "text/plain": [
       "  0%|          | 0/17 [00:00<?, ?it/s]"
      ]
     },
     "metadata": {},
     "output_type": "display_data"
    },
    {
     "name": "stdout",
     "output_type": "stream",
     "text": [
      "2020-6\t46\n",
      "2020-5\t194\n",
      "2020-9\t5\n",
      "2020-8\t9\n",
      "2021-1\t28\n",
      "2020-11\t55\n",
      "2021-5\t139\n",
      "2020-3\t7\n",
      "2020-4\t237\n",
      "2021-2\t661\n",
      "2020-12\t152\n",
      "2020-7\t10\n",
      "2021-3\t18\n",
      "2021-6\t147\n",
      "2021-7\t16\n",
      "2021-4\t48\n",
      "2020-10\t3\n",
      "----------------------------------------------------\n",
      "Cambodia\n"
     ]
    },
    {
     "data": {
      "application/vnd.jupyter.widget-view+json": {
       "model_id": "dd897ef074274f79898a971b8968feb4",
       "version_major": 2,
       "version_minor": 0
      },
      "text/plain": [
       "  0%|          | 0/2 [00:00<?, ?it/s]"
      ]
     },
     "metadata": {},
     "output_type": "display_data"
    },
    {
     "name": "stdout",
     "output_type": "stream",
     "text": [
      "2020-3\t1\n",
      "2021-3\t1\n",
      "----------------------------------------------------\n",
      "Belgium\n"
     ]
    },
    {
     "data": {
      "application/vnd.jupyter.widget-view+json": {
       "model_id": "0f76b5bbf2004415b1bf904cf19835bf",
       "version_major": 2,
       "version_minor": 0
      },
      "text/plain": [
       "  0%|          | 0/1 [00:00<?, ?it/s]"
      ]
     },
     "metadata": {},
     "output_type": "display_data"
    },
    {
     "name": "stdout",
     "output_type": "stream",
     "text": [
      "2020-2\t1\n",
      "----------------------------------------------------\n",
      "Mali\n"
     ]
    },
    {
     "data": {
      "application/vnd.jupyter.widget-view+json": {
       "model_id": "c5bb174ccc0a4782a27798e7d06808f6",
       "version_major": 2,
       "version_minor": 0
      },
      "text/plain": [
       "  0%|          | 0/3 [00:00<?, ?it/s]"
      ]
     },
     "metadata": {},
     "output_type": "display_data"
    },
    {
     "name": "stdout",
     "output_type": "stream",
     "text": [
      "2020-3\t2\n",
      "2020-2\t1\n",
      "2020-6\t1\n",
      "----------------------------------------------------\n",
      "Dominican Republic\n"
     ]
    },
    {
     "data": {
      "application/vnd.jupyter.widget-view+json": {
       "model_id": "b908a2b176994b7d8817c4d6f024e74b",
       "version_major": 2,
       "version_minor": 0
      },
      "text/plain": [
       "  0%|          | 0/2 [00:00<?, ?it/s]"
      ]
     },
     "metadata": {},
     "output_type": "display_data"
    },
    {
     "name": "stdout",
     "output_type": "stream",
     "text": [
      "2020-12\t1\n",
      "2021-10\t123\n",
      "----------------------------------------------------\n",
      "Argentina\n"
     ]
    },
    {
     "data": {
      "application/vnd.jupyter.widget-view+json": {
       "model_id": "c83dbf7406164e60b07641d365b48428",
       "version_major": 2,
       "version_minor": 0
      },
      "text/plain": [
       "  0%|          | 0/3 [00:00<?, ?it/s]"
      ]
     },
     "metadata": {},
     "output_type": "display_data"
    },
    {
     "name": "stdout",
     "output_type": "stream",
     "text": [
      "2020-6\t19\n",
      "2020-5\t1\n",
      "2020-9\t14\n",
      "----------------------------------------------------\n",
      "Portugal\n"
     ]
    },
    {
     "data": {
      "application/vnd.jupyter.widget-view+json": {
       "model_id": "11a693372a28443f83ba3628884d6add",
       "version_major": 2,
       "version_minor": 0
      },
      "text/plain": [
       "  0%|          | 0/3 [00:00<?, ?it/s]"
      ]
     },
     "metadata": {},
     "output_type": "display_data"
    },
    {
     "name": "stdout",
     "output_type": "stream",
     "text": [
      "2020-3\t22\n",
      "2021-11\t1\n",
      "2021-12\t1\n",
      "----------------------------------------------------\n",
      "Austria\n"
     ]
    },
    {
     "data": {
      "application/vnd.jupyter.widget-view+json": {
       "model_id": "9898c3e831b54584b8e039f6fc739e30",
       "version_major": 2,
       "version_minor": 0
      },
      "text/plain": [
       "  0%|          | 0/6 [00:00<?, ?it/s]"
      ]
     },
     "metadata": {},
     "output_type": "display_data"
    },
    {
     "name": "stdout",
     "output_type": "stream",
     "text": [
      "2021-2\t49\n",
      "2021-3\t65\n",
      "2021-4\t16\n",
      "2021-5\t19\n",
      "2021-11\t4\n",
      "2021-12\t5\n",
      "----------------------------------------------------\n",
      "Belarus\n"
     ]
    },
    {
     "data": {
      "application/vnd.jupyter.widget-view+json": {
       "model_id": "e4a537c43eab46a581032dfaacf85076",
       "version_major": 2,
       "version_minor": 0
      },
      "text/plain": [
       "  0%|          | 0/1 [00:00<?, ?it/s]"
      ]
     },
     "metadata": {},
     "output_type": "display_data"
    },
    {
     "name": "stdout",
     "output_type": "stream",
     "text": [
      "2021-2\t1\n",
      "----------------------------------------------------\n",
      "Ethiopia\n"
     ]
    },
    {
     "data": {
      "application/vnd.jupyter.widget-view+json": {
       "model_id": "c83c71672b4f427cb3747b63e5c56078",
       "version_major": 2,
       "version_minor": 0
      },
      "text/plain": [
       "  0%|          | 0/5 [00:00<?, ?it/s]"
      ]
     },
     "metadata": {},
     "output_type": "display_data"
    },
    {
     "name": "stdout",
     "output_type": "stream",
     "text": [
      "2020-12\t5\n",
      "2020-11\t1\n",
      "2021-2\t5\n",
      "2021-1\t5\n",
      "2021-5\t1\n",
      "----------------------------------------------------\n",
      "Finland\n"
     ]
    },
    {
     "data": {
      "application/vnd.jupyter.widget-view+json": {
       "model_id": "353d1e573a194426bfee6b25c74c99c9",
       "version_major": 2,
       "version_minor": 0
      },
      "text/plain": [
       "  0%|          | 0/6 [00:00<?, ?it/s]"
      ]
     },
     "metadata": {},
     "output_type": "display_data"
    },
    {
     "name": "stdout",
     "output_type": "stream",
     "text": [
      "2020-2\t3\n",
      "2020-10\t1\n",
      "2020-12\t1\n",
      "2020-3\t8\n",
      "2020-1\t6\n",
      "2021-1\t6\n",
      "----------------------------------------------------\n",
      "Kenya\n"
     ]
    },
    {
     "data": {
      "application/vnd.jupyter.widget-view+json": {
       "model_id": "df886b68907c46279ec62c44fe2e4ff0",
       "version_major": 2,
       "version_minor": 0
      },
      "text/plain": [
       "  0%|          | 0/17 [00:00<?, ?it/s]"
      ]
     },
     "metadata": {},
     "output_type": "display_data"
    },
    {
     "name": "stdout",
     "output_type": "stream",
     "text": [
      "2020-5\t4\n",
      "2020-4\t10\n",
      "2020-6\t8\n",
      "2020-7\t1\n",
      "2020-8\t4\n",
      "2020-11\t35\n",
      "2021-5\t18\n",
      "2021-4\t8\n",
      "2020-9\t3\n",
      "2020-10\t48\n",
      "2020-12\t8\n",
      "2021-1\t1\n",
      "2021-2\t8\n",
      "2021-3\t7\n",
      "2021-10\t1\n",
      "2020-3\t3\n",
      "2021-12\t1\n",
      "----------------------------------------------------\n",
      "Uzbekistan\n"
     ]
    },
    {
     "data": {
      "application/vnd.jupyter.widget-view+json": {
       "model_id": "93ce3bf421534d54b7675f8e74a04ae0",
       "version_major": 2,
       "version_minor": 0
      },
      "text/plain": [
       "  0%|          | 0/3 [00:00<?, ?it/s]"
      ]
     },
     "metadata": {},
     "output_type": "display_data"
    },
    {
     "name": "stdout",
     "output_type": "stream",
     "text": [
      "2020-10\t10\n",
      "2021-6\t4\n",
      "2021-7\t4\n",
      "----------------------------------------------------\n",
      "South Africa\n"
     ]
    },
    {
     "data": {
      "application/vnd.jupyter.widget-view+json": {
       "model_id": "b87f74deabe24bc39eeb57f0efef087c",
       "version_major": 2,
       "version_minor": 0
      },
      "text/plain": [
       "  0%|          | 0/1 [00:00<?, ?it/s]"
      ]
     },
     "metadata": {},
     "output_type": "display_data"
    },
    {
     "name": "stdout",
     "output_type": "stream",
     "text": [
      "2020-11\t3\n",
      "----------------------------------------------------\n",
      "Gambia\n"
     ]
    },
    {
     "data": {
      "application/vnd.jupyter.widget-view+json": {
       "model_id": "bf25e78036544b57adee5bb83ff03426",
       "version_major": 2,
       "version_minor": 0
      },
      "text/plain": [
       "  0%|          | 0/2 [00:00<?, ?it/s]"
      ]
     },
     "metadata": {},
     "output_type": "display_data"
    },
    {
     "name": "stdout",
     "output_type": "stream",
     "text": [
      "2020-3\t5\n",
      "2020-4\t1\n",
      "----------------------------------------------------\n",
      "Denmark\n"
     ]
    },
    {
     "data": {
      "application/vnd.jupyter.widget-view+json": {
       "model_id": "47598333d8da492d95428b4dfe80f958",
       "version_major": 2,
       "version_minor": 0
      },
      "text/plain": [
       "  0%|          | 0/2 [00:00<?, ?it/s]"
      ]
     },
     "metadata": {},
     "output_type": "display_data"
    },
    {
     "name": "stdout",
     "output_type": "stream",
     "text": [
      "2020-5\t1\n",
      "2020-6\t1\n",
      "----------------------------------------------------\n",
      "Togo\n"
     ]
    },
    {
     "data": {
      "application/vnd.jupyter.widget-view+json": {
       "model_id": "110213dc21894030804caefa669c5068",
       "version_major": 2,
       "version_minor": 0
      },
      "text/plain": [
       "  0%|          | 0/3 [00:00<?, ?it/s]"
      ]
     },
     "metadata": {},
     "output_type": "display_data"
    },
    {
     "name": "stdout",
     "output_type": "stream",
     "text": [
      "2020-12\t1\n",
      "2021-1\t3\n",
      "2021-2\t1\n",
      "----------------------------------------------------\n",
      "Uganda\n"
     ]
    },
    {
     "data": {
      "application/vnd.jupyter.widget-view+json": {
       "model_id": "29a2583f710d45b5ac961b67f523a944",
       "version_major": 2,
       "version_minor": 0
      },
      "text/plain": [
       "  0%|          | 0/6 [00:00<?, ?it/s]"
      ]
     },
     "metadata": {},
     "output_type": "display_data"
    },
    {
     "name": "stdout",
     "output_type": "stream",
     "text": [
      "2020-11\t4\n",
      "2020-9\t2\n",
      "2021-1\t6\n",
      "2020-10\t1\n",
      "2021-2\t1\n",
      "2020-12\t1\n",
      "----------------------------------------------------\n",
      "Djibouti\n"
     ]
    },
    {
     "data": {
      "application/vnd.jupyter.widget-view+json": {
       "model_id": "d4ab323f70c4485696c8d38d959ca378",
       "version_major": 2,
       "version_minor": 0
      },
      "text/plain": [
       "  0%|          | 0/8 [00:00<?, ?it/s]"
      ]
     },
     "metadata": {},
     "output_type": "display_data"
    },
    {
     "name": "stdout",
     "output_type": "stream",
     "text": [
      "2021-1\t10\n",
      "2021-4\t25\n",
      "2021-2\t37\n",
      "2021-3\t65\n",
      "2020-11\t15\n",
      "2021-5\t2\n",
      "2020-12\t6\n",
      "2020-4\t2\n",
      "----------------------------------------------------\n",
      "Somalia\n"
     ]
    },
    {
     "data": {
      "application/vnd.jupyter.widget-view+json": {
       "model_id": "eae17db2f86c4147ad01ad28fb4d6383",
       "version_major": 2,
       "version_minor": 0
      },
      "text/plain": [
       "  0%|          | 0/2 [00:00<?, ?it/s]"
      ]
     },
     "metadata": {},
     "output_type": "display_data"
    },
    {
     "name": "stdout",
     "output_type": "stream",
     "text": [
      "2021-4\t2\n",
      "2021-2\t4\n",
      "----------------------------------------------------\n",
      "Guinea\n"
     ]
    },
    {
     "data": {
      "application/vnd.jupyter.widget-view+json": {
       "model_id": "43cffb8199f14c63b78e42493c6f8c0e",
       "version_major": 2,
       "version_minor": 0
      },
      "text/plain": [
       "  0%|          | 0/2 [00:00<?, ?it/s]"
      ]
     },
     "metadata": {},
     "output_type": "display_data"
    },
    {
     "name": "stdout",
     "output_type": "stream",
     "text": [
      "2020-6\t1\n",
      "2020-5\t1\n",
      "----------------------------------------------------\n",
      "Switzerland\n"
     ]
    },
    {
     "data": {
      "application/vnd.jupyter.widget-view+json": {
       "model_id": "a19c67ea99294f66bf0fb50ea3217078",
       "version_major": 2,
       "version_minor": 0
      },
      "text/plain": [
       "  0%|          | 0/2 [00:00<?, ?it/s]"
      ]
     },
     "metadata": {},
     "output_type": "display_data"
    },
    {
     "name": "stdout",
     "output_type": "stream",
     "text": [
      "2020-3\t1\n",
      "2021-8\t86\n",
      "----------------------------------------------------\n",
      "Malawi\n"
     ]
    },
    {
     "data": {
      "application/vnd.jupyter.widget-view+json": {
       "model_id": "d8798c47151547fbb8b4cedad632cb05",
       "version_major": 2,
       "version_minor": 0
      },
      "text/plain": [
       "  0%|          | 0/9 [00:00<?, ?it/s]"
      ]
     },
     "metadata": {},
     "output_type": "display_data"
    },
    {
     "name": "stdout",
     "output_type": "stream",
     "text": [
      "2020-8\t1\n",
      "2020-9\t1\n",
      "2020-7\t1\n",
      "2021-8\t4\n",
      "2021-7\t16\n",
      "2021-9\t1\n",
      "2021-2\t5\n",
      "2021-1\t1\n",
      "2021-6\t2\n",
      "----------------------------------------------------\n",
      "Mongolia\n"
     ]
    },
    {
     "data": {
      "application/vnd.jupyter.widget-view+json": {
       "model_id": "0641d3a0d0a6468eabd48dca30a71d2e",
       "version_major": 2,
       "version_minor": 0
      },
      "text/plain": [
       "  0%|          | 0/2 [00:00<?, ?it/s]"
      ]
     },
     "metadata": {},
     "output_type": "display_data"
    },
    {
     "name": "stdout",
     "output_type": "stream",
     "text": [
      "2021-7\t18\n",
      "2021-8\t40\n",
      "----------------------------------------------------\n",
      "Slovakia\n"
     ]
    },
    {
     "data": {
      "application/vnd.jupyter.widget-view+json": {
       "model_id": "0b5bef453cf04118bfbfbb2a1b1e47e1",
       "version_major": 2,
       "version_minor": 0
      },
      "text/plain": [
       "  0%|          | 0/12 [00:00<?, ?it/s]"
      ]
     },
     "metadata": {},
     "output_type": "display_data"
    },
    {
     "name": "stdout",
     "output_type": "stream",
     "text": [
      "2021-4\t763\n",
      "2021-3\t1088\n",
      "2021-2\t64\n",
      "2021-5\t857\n",
      "2021-6\t562\n",
      "2021-7\t544\n",
      "2021-8\t832\n",
      "2021-10\t1575\n",
      "2021-9\t1413\n",
      "2021-1\t34\n",
      "2021-11\t1812\n",
      "2021-12\t4\n",
      "----------------------------------------------------\n"
     ]
    }
   ],
   "source": [
    "for country, info in tqdm(list(data.items())):\n",
    "    print(country)\n",
    "    country = country.replace(\" \", \"-\")\n",
    "    for month, month_samples in tqdm(list(info[\"months\"].items())):\n",
    "        print(month, month_samples[\"counts\"], sep=\"\\t\")\n",
    "        if month_samples[\"counts\"] < 2:\n",
    "            continue\n",
    "        name = \"m_{}_{}_{}\".format(country, month, month_samples[\"counts\"])\n",
    "        temp_combined = name+\".temp.fa\"\n",
    "        if name+\".vcf\" not in os.listdir(vcf_dir): # check if vcf has not been created already\n",
    "            if temp_combined not in os.listdir():\n",
    "                combine_fastas(temp_combined, month_samples[\"samples\"])\n",
    "            vcf_path_wsl = vcf_dir_wsl + name\n",
    "            create_vcf_command(temp_combined, vcf_path_wsl, month_samples[\"counts\"], name)\n",
    "        r = re.compile(\"m_{}_{}_[0-9]+\\.vaf\".format(country, month))\n",
    "        if len(list(filter(r.match, os.listdir(vaf_dir)))) == 0: # check if vaf has not been created already\n",
    "            vcf_path = vcf_dir + name + \".vcf\"\n",
    "            vafs, avg_depth = extract_vafs_and_depth(vcf_path)\n",
    "            name = \"m_{}_{}_{}\".format(country, month, avg_depth)\n",
    "            vaf_path = vaf_dir + name + \".vaf\"\n",
    "            with open(vaf_path, \"w\") as f:\n",
    "                f.write(\"\\n\".join(map(lambda x:str(x), vafs)))\n",
    "        try:\n",
    "            os.remove(temp_combined)\n",
    "        except:\n",
    "            pass\n",
    "    print(\"----------------------------------------------------\")"
   ]
  }
 ],
 "metadata": {
  "kernelspec": {
   "display_name": "Python 3 (ipykernel)",
   "language": "python",
   "name": "python3"
  },
  "language_info": {
   "codemirror_mode": {
    "name": "ipython",
    "version": 3
   },
   "file_extension": ".py",
   "mimetype": "text/x-python",
   "name": "python",
   "nbconvert_exporter": "python",
   "pygments_lexer": "ipython3",
   "version": "3.9.7"
  }
 },
 "nbformat": 4,
 "nbformat_minor": 5
}
