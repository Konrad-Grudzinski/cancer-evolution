{
 "cells": [
  {
   "cell_type": "code",
   "execution_count": 81,
   "id": "2bd3db19",
   "metadata": {},
   "outputs": [],
   "source": [
    "import json\n",
    "from dateutil.parser import parse\n",
    "from datetime import datetime\n",
    "from pprint import pprint as pp\n",
    "from tqdm.notebook import tqdm, trange"
   ]
  },
  {
   "cell_type": "code",
   "execution_count": 1,
   "id": "45907de5",
   "metadata": {},
   "outputs": [],
   "source": [
    "path = r\"C:\\Users\\Konrad Grudzinski\\OneDrive - University of Glasgow\\Computing\\4th Year\\Individual Project\\Source\\covid19\\samples.json\""
   ]
  },
  {
   "cell_type": "code",
   "execution_count": 125,
   "id": "7affe969",
   "metadata": {},
   "outputs": [],
   "source": [
    "with open(path, \"r\") as f:\n",
    "    data = json.load(f)"
   ]
  },
  {
   "cell_type": "code",
   "execution_count": 84,
   "id": "45884a6f",
   "metadata": {},
   "outputs": [],
   "source": [
    "def get_week(date: datetime) -> (int, int):\n",
    "    week_num = date.isocalendar().week\n",
    "    year = date.year\n",
    "    # first days of a year may belong to last week (number) of previous year\n",
    "    if week_num > 50 and date.month == 1:\n",
    "        year -= 1\n",
    "    return year, week_num"
   ]
  },
  {
   "cell_type": "code",
   "execution_count": 85,
   "id": "1edfb118",
   "metadata": {},
   "outputs": [],
   "source": [
    "def extract_info(d: dict[str, str]) -> (str, int, int):\n",
    "    country = d[\"country\"].split(\":\")[0]\n",
    "    date = parse(d[\"collection_date\"], yearfirst=True, dayfirst=False)\n",
    "    year, week = get_week(date)\n",
    "    return country, year, date.month, week"
   ]
  },
  {
   "cell_type": "markdown",
   "id": "34f81d5c",
   "metadata": {},
   "source": [
    "---"
   ]
  },
  {
   "cell_type": "code",
   "execution_count": 86,
   "id": "3a3cd21e",
   "metadata": {},
   "outputs": [],
   "source": [
    "week_month_data = []"
   ]
  },
  {
   "cell_type": "code",
   "execution_count": 87,
   "id": "6240896d",
   "metadata": {},
   "outputs": [
    {
     "data": {
      "application/vnd.jupyter.widget-view+json": {
       "model_id": "67ad771639d54787b4839f68a7d0c583",
       "version_major": 2,
       "version_minor": 0
      },
      "text/plain": [
       "  0%|          | 0/702141 [00:00<?, ?it/s]"
      ]
     },
     "metadata": {},
     "output_type": "display_data"
    }
   ],
   "source": [
    "for sampleName, info in tqdm(list(data.items())):\n",
    "    week_month_data.append((sampleName, *extract_info(info)))"
   ]
  },
  {
   "cell_type": "code",
   "execution_count": 96,
   "id": "1fd4a2c3",
   "metadata": {},
   "outputs": [
    {
     "data": {
      "text/plain": [
       "[('BS000685.1', 'Japan', 2020, 4, 15),\n",
       " ('BS000686.1', 'Japan', 2020, 4, 15),\n",
       " ('BS000687.1', 'Japan', 2020, 4, 15),\n",
       " ('BS000688.1', 'Japan', 2020, 4, 15),\n",
       " ('BS000689.1', 'Japan', 2020, 4, 15),\n",
       " ('BS000690.1', 'Japan', 2020, 4, 15),\n",
       " ('BS000691.1', 'Japan', 2020, 4, 15),\n",
       " ('BS000692.1', 'Japan', 2020, 4, 15),\n",
       " ('BS000693.1', 'Japan', 2020, 4, 15),\n",
       " ('BS000694.1', 'Japan', 2020, 4, 15)]"
      ]
     },
     "execution_count": 96,
     "metadata": {},
     "output_type": "execute_result"
    }
   ],
   "source": [
    "week_month_data[:10]"
   ]
  },
  {
   "cell_type": "code",
   "execution_count": 121,
   "id": "15336f0b",
   "metadata": {
    "scrolled": true
   },
   "outputs": [
    {
     "data": {
      "text/plain": [
       "[('USA', 432251),\n",
       " ('United Kingdom', 236625),\n",
       " ('Australia', 9903),\n",
       " ('Slovakia', 9548),\n",
       " ('Mexico', 1775),\n",
       " ('Hong Kong', 1637),\n",
       " ('Netherlands', 1501),\n",
       " ('Japan', 1068),\n",
       " ('India', 945),\n",
       " ('Egypt', 928),\n",
       " ('New Zealand', 676),\n",
       " ('Bangladesh', 573),\n",
       " ('Bahrain', 536),\n",
       " ('Chile', 286),\n",
       " ('Pakistan', 254),\n",
       " ('Nigeria', 210),\n",
       " ('Ghana', 185),\n",
       " ('Saudi Arabia', 184),\n",
       " ('China', 172),\n",
       " ('Kenya', 168),\n",
       " ('Djibouti', 162),\n",
       " ('Austria', 158),\n",
       " ('Poland', 152),\n",
       " ('Serbia', 141),\n",
       " ('Spain', 125),\n",
       " ('Dominican Republic', 124),\n",
       " ('Peru', 122),\n",
       " ('Israel', 120),\n",
       " ('Brazil', 109),\n",
       " ('Italy', 94),\n",
       " ('Greece', 93),\n",
       " ('Iraq', 92),\n",
       " ('Switzerland', 87),\n",
       " ('France', 86),\n",
       " ('Sierra Leone', 59),\n",
       " ('Mongolia', 58),\n",
       " ('Taiwan', 57),\n",
       " ('Tunisia', 54),\n",
       " ('West Bank', 54),\n",
       " ('Germany', 53),\n",
       " ('Jamaica', 47),\n",
       " ('Turkey', 46),\n",
       " ('Malaysia', 43),\n",
       " ('Philippines', 40),\n",
       " ('Argentina', 34),\n",
       " ('Malawi', 32),\n",
       " ('Russia', 29),\n",
       " ('South Korea', 29),\n",
       " ('Myanmar', 28),\n",
       " ('Finland', 25),\n",
       " ('Czech Republic', 24),\n",
       " ('Jordan', 24),\n",
       " ('Venezuela', 24),\n",
       " ('Portugal', 24),\n",
       " ('Uruguay', 23),\n",
       " ('Thailand', 20),\n",
       " ('Puerto Rico', 18),\n",
       " ('Uzbekistan', 18),\n",
       " ('Georgia', 17),\n",
       " ('Libya', 17),\n",
       " ('Ethiopia', 17),\n",
       " ('Uganda', 15),\n",
       " ('Morocco', 14),\n",
       " ('Benin', 12),\n",
       " ('Guatemala', 10),\n",
       " ('Iran', 8),\n",
       " ('Timor-Leste', 7),\n",
       " ('Sweden', 6),\n",
       " ('Canada', 6),\n",
       " ('Gambia', 6),\n",
       " ('Somalia', 6),\n",
       " ('Kazakhstan', 5),\n",
       " ('Togo', 5),\n",
       " ('Sri Lanka', 4),\n",
       " ('Belize', 4),\n",
       " ('Malta', 4),\n",
       " ('Ecuador', 4),\n",
       " ('Mali', 4),\n",
       " ('Guam', 3),\n",
       " ('South Africa', 3),\n",
       " ('Colombia', 2),\n",
       " ('Cambodia', 2),\n",
       " ('Denmark', 2),\n",
       " ('Guinea', 2),\n",
       " ('Zambia', 1),\n",
       " ('Belgium', 1),\n",
       " ('Belarus', 1)]"
      ]
     },
     "execution_count": 121,
     "metadata": {},
     "output_type": "execute_result"
    }
   ],
   "source": [
    "countries_sorted_months"
   ]
  },
  {
   "cell_type": "code",
   "execution_count": 143,
   "id": "cef99c23",
   "metadata": {},
   "outputs": [
    {
     "name": "stdout",
     "output_type": "stream",
     "text": [
      "{'months': {'2020-1': {'counts': 27,\n",
      "                       'samples': ['LR824570.1',\n",
      "                                   'MT270101.1',\n",
      "                                   'MT270102.1',\n",
      "                                   'MT270103.1',\n",
      "                                   'MT270104.1',\n",
      "                                   'MT270105.1',\n",
      "                                   'MT270108.1',\n",
      "                                   'MT270109.1',\n",
      "                                   'MT270112.1',\n",
      "                                   'MW368440.1',\n",
      "                                   'OV057770.1',\n",
      "                                   'OV077247.1',\n",
      "                                   'OV077441.1',\n",
      "                                   'OV077446.1',\n",
      "                                   'OV077780.1',\n",
      "                                   'OV077782.1',\n",
      "                                   'OV077786.1',\n",
      "                                   'OV078074.1',\n",
      "                                   'OV078093.1',\n",
      "                                   'OV078117.1',\n",
      "                                   'OV078153.1',\n",
      "                                   'OV078155.1',\n",
      "                                   'OV078450.1',\n",
      "                                   'OV078953.1',\n",
      "                                   'OV078954.1',\n",
      "                                   'OV078955.1',\n",
      "                                   'OV078964.1']},\n",
      "            '2020-12': {'counts': 1, 'samples': ['MZ646043.1']},\n",
      "            '2020-2': {'counts': 7,\n",
      "                       'samples': ['MT270106.1',\n",
      "                                   'MT270107.1',\n",
      "                                   'MT270110.1',\n",
      "                                   'MT270111.1',\n",
      "                                   'MT270113.1',\n",
      "                                   'MT270114.1',\n",
      "                                   'MT539726.1']},\n",
      "            '2020-3': {'counts': 15,\n",
      "                       'samples': ['MT704816.1',\n",
      "                                   'MT704817.1',\n",
      "                                   'MT704818.1',\n",
      "                                   'MT704819.1',\n",
      "                                   'MT704820.1',\n",
      "                                   'MT704821.1',\n",
      "                                   'MT704822.1',\n",
      "                                   'MT704823.1',\n",
      "                                   'MT704824.1',\n",
      "                                   'MT704825.1',\n",
      "                                   'MT845877.1',\n",
      "                                   'MT913119.1',\n",
      "                                   'MW633322.1',\n",
      "                                   'MW633323.1',\n",
      "                                   'MW633324.1']},\n",
      "            '2020-4': {'counts': 2, 'samples': ['MT845878.1', 'MZ558051.1']},\n",
      "            '2020-6': {'counts': 1, 'samples': ['MZ675816.1']}},\n",
      " 'weeks': {'2020-12': {'counts': 8,\n",
      "                       'samples': ['MT704816.1',\n",
      "                                   'MT704817.1',\n",
      "                                   'MT704818.1',\n",
      "                                   'MT704819.1',\n",
      "                                   'MT704820.1',\n",
      "                                   'MT704821.1',\n",
      "                                   'MT704822.1',\n",
      "                                   'MT913119.1']},\n",
      "           '2020-13': {'counts': 3,\n",
      "                       'samples': ['MT704823.1', 'MT704824.1', 'MT704825.1']},\n",
      "           '2020-14': {'counts': 4,\n",
      "                       'samples': ['MT845877.1',\n",
      "                                   'MW633322.1',\n",
      "                                   'MW633323.1',\n",
      "                                   'MW633324.1']},\n",
      "           '2020-15': {'counts': 2, 'samples': ['MT845878.1', 'MZ558051.1']},\n",
      "           '2020-25': {'counts': 1, 'samples': ['MZ675816.1']},\n",
      "           '2020-4': {'counts': 1, 'samples': ['LR824570.1']},\n",
      "           '2020-49': {'counts': 1, 'samples': ['MZ646043.1']},\n",
      "           '2020-5': {'counts': 27,\n",
      "                      'samples': ['MT270101.1',\n",
      "                                  'MT270102.1',\n",
      "                                  'MT270103.1',\n",
      "                                  'MT270104.1',\n",
      "                                  'MT270105.1',\n",
      "                                  'MT270106.1',\n",
      "                                  'MT270108.1',\n",
      "                                  'MT270109.1',\n",
      "                                  'MT270112.1',\n",
      "                                  'MW368440.1',\n",
      "                                  'OV057770.1',\n",
      "                                  'OV077247.1',\n",
      "                                  'OV077441.1',\n",
      "                                  'OV077446.1',\n",
      "                                  'OV077780.1',\n",
      "                                  'OV077782.1',\n",
      "                                  'OV077786.1',\n",
      "                                  'OV078074.1',\n",
      "                                  'OV078093.1',\n",
      "                                  'OV078117.1',\n",
      "                                  'OV078153.1',\n",
      "                                  'OV078155.1',\n",
      "                                  'OV078450.1',\n",
      "                                  'OV078953.1',\n",
      "                                  'OV078954.1',\n",
      "                                  'OV078955.1',\n",
      "                                  'OV078964.1']},\n",
      "           '2020-6': {'counts': 3,\n",
      "                      'samples': ['MT270107.1', 'MT270110.1', 'MT270111.1']},\n",
      "           '2020-9': {'counts': 3,\n",
      "                      'samples': ['MT270113.1', 'MT270114.1', 'MT539726.1']}}}\n"
     ]
    }
   ],
   "source": [
    "pp(bins_string_keys[\"Germany\"])"
   ]
  },
  {
   "cell_type": "markdown",
   "id": "d3557c4f",
   "metadata": {},
   "source": [
    "---"
   ]
  },
  {
   "cell_type": "code",
   "execution_count": 146,
   "id": "baead282",
   "metadata": {},
   "outputs": [],
   "source": [
    "output_json = r\"C:\\Users\\Konrad Grudzinski\\OneDrive - University of Glasgow\\Computing\\4th Year\\Individual Project\\Source\\covid19\\sorted_samples.json\""
   ]
  },
  {
   "cell_type": "code",
   "execution_count": 147,
   "id": "256788ad",
   "metadata": {},
   "outputs": [],
   "source": [
    "bins_string_keys = {}"
   ]
  },
  {
   "cell_type": "code",
   "execution_count": 148,
   "id": "18e18c16",
   "metadata": {
    "scrolled": true
   },
   "outputs": [
    {
     "data": {
      "application/vnd.jupyter.widget-view+json": {
       "model_id": "57e72b609dba4274b97d75285b87b6f4",
       "version_major": 2,
       "version_minor": 0
      },
      "text/plain": [
       "  0%|          | 0/702141 [00:00<?, ?it/s]"
      ]
     },
     "metadata": {},
     "output_type": "display_data"
    }
   ],
   "source": [
    "for sample, country, year, month, week_n in tqdm(week_month_data):\n",
    "    if country in bins_string_keys:\n",
    "        country_data = bins_string_keys[country]\n",
    "    else:\n",
    "        country_data = {\"months\": {}, \"weeks\": {}}\n",
    "    \n",
    "    month_key = f\"{year}-{month}\"\n",
    "    if month_key not in country_data[\"months\"]:\n",
    "        country_data[\"months\"][month_key] = {\"counts\": 0, \"samples\": []}\n",
    "    country_data[\"months\"][month_key][\"counts\"] += 1\n",
    "    country_data[\"months\"][month_key][\"samples\"].append(sample)\n",
    "    \n",
    "    week_key = f\"{year}-{week_n}\"\n",
    "    if week_key not in country_data[\"weeks\"]:\n",
    "        country_data[\"weeks\"][week_key] = {\"counts\": 0, \"samples\": []}\n",
    "    country_data[\"weeks\"][week_key][\"counts\"] += 1\n",
    "    country_data[\"weeks\"][week_key][\"samples\"].append(sample)\n",
    "\n",
    "    bins_string_keys[country] = country_data"
   ]
  },
  {
   "cell_type": "code",
   "execution_count": 149,
   "id": "d573aa5f",
   "metadata": {},
   "outputs": [],
   "source": [
    "with open(output_json, \"w\") as f:\n",
    "    json_object = json.dumps(bins_string_keys, indent = 4)\n",
    "    f.write(json_object)"
   ]
  }
 ],
 "metadata": {
  "kernelspec": {
   "display_name": "Python 3 (ipykernel)",
   "language": "python",
   "name": "python3"
  },
  "language_info": {
   "codemirror_mode": {
    "name": "ipython",
    "version": 3
   },
   "file_extension": ".py",
   "mimetype": "text/x-python",
   "name": "python",
   "nbconvert_exporter": "python",
   "pygments_lexer": "ipython3",
   "version": "3.9.7"
  }
 },
 "nbformat": 4,
 "nbformat_minor": 5
}
