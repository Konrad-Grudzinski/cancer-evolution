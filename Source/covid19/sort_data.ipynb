{
 "cells": [
  {
   "cell_type": "markdown",
   "id": "203de85c-1205-4ad4-904d-545daad3932e",
   "metadata": {},
   "source": [
    "Categorises the samples by country and month."
   ]
  },
  {
   "cell_type": "code",
   "execution_count": 1,
   "id": "2bd3db19",
   "metadata": {},
   "outputs": [],
   "source": [
    "from dateutil.parser import parse\n",
    "from datetime import datetime\n",
    "from pprint import pprint as pp\n",
    "from tqdm.notebook import tqdm, trange\n",
    "import covid_utilities as cu"
   ]
  },
  {
   "cell_type": "code",
   "execution_count": 2,
   "id": "7affe969",
   "metadata": {},
   "outputs": [],
   "source": [
    "data = cu.load_json(cu.COVID_PATH + r\"\\samples.json\")"
   ]
  },
  {
   "cell_type": "code",
   "execution_count": 84,
   "id": "45884a6f",
   "metadata": {},
   "outputs": [],
   "source": [
    "def get_week(date: datetime) -> (int, int):\n",
    "    week_num = date.isocalendar().week\n",
    "    year = date.year\n",
    "    # first days of a year may belong to last week (number) of previous year\n",
    "    if week_num > 50 and date.month == 1:\n",
    "        year -= 1\n",
    "    return year, week_num"
   ]
  },
  {
   "cell_type": "code",
   "execution_count": 85,
   "id": "1edfb118",
   "metadata": {},
   "outputs": [],
   "source": [
    "def extract_info(d: dict[str, str]) -> (str, int, int):\n",
    "    country = d[\"country\"].split(\":\")[0]\n",
    "    date = parse(d[\"collection_date\"], yearfirst=True, dayfirst=False)\n",
    "    year, week = get_week(date)\n",
    "    return country, year, date.month, week"
   ]
  },
  {
   "cell_type": "markdown",
   "id": "34f81d5c",
   "metadata": {},
   "source": [
    "---"
   ]
  },
  {
   "cell_type": "code",
   "execution_count": 86,
   "id": "3a3cd21e",
   "metadata": {},
   "outputs": [],
   "source": [
    "week_month_data = []"
   ]
  },
  {
   "cell_type": "code",
   "execution_count": null,
   "id": "6240896d",
   "metadata": {},
   "outputs": [],
   "source": [
    "for sampleName, info in tqdm(list(data.items())):\n",
    "    week_month_data.append((sampleName, *extract_info(info)))"
   ]
  },
  {
   "cell_type": "code",
   "execution_count": 96,
   "id": "1fd4a2c3",
   "metadata": {},
   "outputs": [
    {
     "data": {
      "text/plain": [
       "[('BS000685.1', 'Japan', 2020, 4, 15),\n",
       " ('BS000686.1', 'Japan', 2020, 4, 15),\n",
       " ('BS000687.1', 'Japan', 2020, 4, 15),\n",
       " ('BS000688.1', 'Japan', 2020, 4, 15),\n",
       " ('BS000689.1', 'Japan', 2020, 4, 15),\n",
       " ('BS000690.1', 'Japan', 2020, 4, 15),\n",
       " ('BS000691.1', 'Japan', 2020, 4, 15),\n",
       " ('BS000692.1', 'Japan', 2020, 4, 15),\n",
       " ('BS000693.1', 'Japan', 2020, 4, 15),\n",
       " ('BS000694.1', 'Japan', 2020, 4, 15)]"
      ]
     },
     "execution_count": 96,
     "metadata": {},
     "output_type": "execute_result"
    }
   ],
   "source": [
    "week_month_data[:10]"
   ]
  },
  {
   "cell_type": "markdown",
   "id": "d3557c4f",
   "metadata": {},
   "source": [
    "---"
   ]
  },
  {
   "cell_type": "code",
   "execution_count": 147,
   "id": "256788ad",
   "metadata": {},
   "outputs": [],
   "source": [
    "bins_string_keys = {}"
   ]
  },
  {
   "cell_type": "code",
   "execution_count": null,
   "id": "18e18c16",
   "metadata": {
    "scrolled": true,
    "tags": []
   },
   "outputs": [],
   "source": [
    "for sample, country, year, month, week_n in tqdm(week_month_data):\n",
    "    if country in bins_string_keys:\n",
    "        country_data = bins_string_keys[country]\n",
    "    else:\n",
    "        country_data = {\"months\": {}, \"weeks\": {}}\n",
    "    \n",
    "    month_key = f\"{year}-{month}\"\n",
    "    if month_key not in country_data[\"months\"]:\n",
    "        country_data[\"months\"][month_key] = {\"counts\": 0, \"samples\": []}\n",
    "    country_data[\"months\"][month_key][\"counts\"] += 1\n",
    "    country_data[\"months\"][month_key][\"samples\"].append(sample)\n",
    "    \n",
    "    week_key = f\"{year}-{week_n}\"\n",
    "    if week_key not in country_data[\"weeks\"]:\n",
    "        country_data[\"weeks\"][week_key] = {\"counts\": 0, \"samples\": []}\n",
    "    country_data[\"weeks\"][week_key][\"counts\"] += 1\n",
    "    country_data[\"weeks\"][week_key][\"samples\"].append(sample)\n",
    "\n",
    "    bins_string_keys[country] = country_data"
   ]
  },
  {
   "cell_type": "code",
   "execution_count": 149,
   "id": "d573aa5f",
   "metadata": {},
   "outputs": [],
   "source": [
    "cu.write_json(filename = cu.COVID_PATH + r\"\\sorted_samples.json\", dictionary = bins_string_keys)"
   ]
  },
  {
   "cell_type": "code",
   "execution_count": 143,
   "id": "cef99c23",
   "metadata": {
    "tags": []
   },
   "outputs": [
    {
     "name": "stdout",
     "output_type": "stream",
     "text": [
      "{'months': {'2020-1': {'counts': 27,\n",
      "                       'samples': ['LR824570.1',\n",
      "                                   'MT270101.1',\n",
      "                                   'MT270102.1',\n",
      "                                   'MT270103.1',\n",
      "                                   'MT270104.1',\n",
      "                                   'MT270105.1',\n",
      "                                   'MT270108.1',\n",
      "                                   'MT270109.1',\n",
      "                                   'MT270112.1',\n",
      "                                   'MW368440.1',\n",
      "                                   'OV057770.1',\n",
      "                                   'OV077247.1',\n",
      "                                   'OV077441.1',\n",
      "                                   'OV077446.1',\n",
      "                                   'OV077780.1',\n",
      "                                   'OV077782.1',\n",
      "                                   'OV077786.1',\n",
      "                                   'OV078074.1',\n",
      "                                   'OV078093.1',\n",
      "                                   'OV078117.1',\n",
      "                                   'OV078153.1',\n",
      "                                   'OV078155.1',\n",
      "                                   'OV078450.1',\n",
      "                                   'OV078953.1',\n",
      "                                   'OV078954.1',\n",
      "                                   'OV078955.1',\n",
      "                                   'OV078964.1']},\n",
      "            '2020-12': {'counts': 1, 'samples': ['MZ646043.1']},\n",
      "            '2020-2': {'counts': 7,\n",
      "                       'samples': ['MT270106.1',\n",
      "                                   'MT270107.1',\n",
      "                                   'MT270110.1',\n",
      "                                   'MT270111.1',\n",
      "                                   'MT270113.1',\n",
      "                                   'MT270114.1',\n",
      "                                   'MT539726.1']},\n",
      "            '2020-3': {'counts': 15,\n",
      "                       'samples': ['MT704816.1',\n",
      "                                   'MT704817.1',\n",
      "                                   'MT704818.1',\n",
      "                                   'MT704819.1',\n",
      "                                   'MT704820.1',\n",
      "                                   'MT704821.1',\n",
      "                                   'MT704822.1',\n",
      "                                   'MT704823.1',\n",
      "                                   'MT704824.1',\n",
      "                                   'MT704825.1',\n",
      "                                   'MT845877.1',\n",
      "                                   'MT913119.1',\n",
      "                                   'MW633322.1',\n",
      "                                   'MW633323.1',\n",
      "                                   'MW633324.1']},\n",
      "            '2020-4': {'counts': 2, 'samples': ['MT845878.1', 'MZ558051.1']},\n",
      "            '2020-6': {'counts': 1, 'samples': ['MZ675816.1']}},\n",
      " 'weeks': {'2020-12': {'counts': 8,\n",
      "                       'samples': ['MT704816.1',\n",
      "                                   'MT704817.1',\n",
      "                                   'MT704818.1',\n",
      "                                   'MT704819.1',\n",
      "                                   'MT704820.1',\n",
      "                                   'MT704821.1',\n",
      "                                   'MT704822.1',\n",
      "                                   'MT913119.1']},\n",
      "           '2020-13': {'counts': 3,\n",
      "                       'samples': ['MT704823.1', 'MT704824.1', 'MT704825.1']},\n",
      "           '2020-14': {'counts': 4,\n",
      "                       'samples': ['MT845877.1',\n",
      "                                   'MW633322.1',\n",
      "                                   'MW633323.1',\n",
      "                                   'MW633324.1']},\n",
      "           '2020-15': {'counts': 2, 'samples': ['MT845878.1', 'MZ558051.1']},\n",
      "           '2020-25': {'counts': 1, 'samples': ['MZ675816.1']},\n",
      "           '2020-4': {'counts': 1, 'samples': ['LR824570.1']},\n",
      "           '2020-49': {'counts': 1, 'samples': ['MZ646043.1']},\n",
      "           '2020-5': {'counts': 27,\n",
      "                      'samples': ['MT270101.1',\n",
      "                                  'MT270102.1',\n",
      "                                  'MT270103.1',\n",
      "                                  'MT270104.1',\n",
      "                                  'MT270105.1',\n",
      "                                  'MT270106.1',\n",
      "                                  'MT270108.1',\n",
      "                                  'MT270109.1',\n",
      "                                  'MT270112.1',\n",
      "                                  'MW368440.1',\n",
      "                                  'OV057770.1',\n",
      "                                  'OV077247.1',\n",
      "                                  'OV077441.1',\n",
      "                                  'OV077446.1',\n",
      "                                  'OV077780.1',\n",
      "                                  'OV077782.1',\n",
      "                                  'OV077786.1',\n",
      "                                  'OV078074.1',\n",
      "                                  'OV078093.1',\n",
      "                                  'OV078117.1',\n",
      "                                  'OV078153.1',\n",
      "                                  'OV078155.1',\n",
      "                                  'OV078450.1',\n",
      "                                  'OV078953.1',\n",
      "                                  'OV078954.1',\n",
      "                                  'OV078955.1',\n",
      "                                  'OV078964.1']},\n",
      "           '2020-6': {'counts': 3,\n",
      "                      'samples': ['MT270107.1', 'MT270110.1', 'MT270111.1']},\n",
      "           '2020-9': {'counts': 3,\n",
      "                      'samples': ['MT270113.1', 'MT270114.1', 'MT539726.1']}}}\n"
     ]
    }
   ],
   "source": [
    "pp(bins_string_keys[\"Germany\"])"
   ]
  }
 ],
 "metadata": {
  "kernelspec": {
   "display_name": "Python 3 (ipykernel)",
   "language": "python",
   "name": "python3"
  },
  "language_info": {
   "codemirror_mode": {
    "name": "ipython",
    "version": 3
   },
   "file_extension": ".py",
   "mimetype": "text/x-python",
   "name": "python",
   "nbconvert_exporter": "python",
   "pygments_lexer": "ipython3",
   "version": "3.8.12"
  }
 },
 "nbformat": 4,
 "nbformat_minor": 5
}
