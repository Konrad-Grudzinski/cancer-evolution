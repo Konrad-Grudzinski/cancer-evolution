{
 "cells": [
  {
   "cell_type": "code",
   "execution_count": null,
   "id": "946c6e83",
   "metadata": {},
   "outputs": [
    {
     "name": "stdout",
     "output_type": "stream",
     "text": [
      "Begin download of virus data package ...\n"
     ]
    }
   ],
   "source": [
    "from ncbi.datasets.openapi import ApiClient as DatasetsApiClient\n",
    "from ncbi.datasets.openapi import ApiException as DatasetsApiException\n",
    "from ncbi.datasets import VirusApi as DatasetsVirusApi\n",
    "\n",
    "from ncbi.datasets.package import dataset\n",
    "\n",
    "zipfile_name = \"sars_cov2_dataset.zip\"\n",
    "\n",
    "with DatasetsApiClient() as api_client:\n",
    "    virus_api = DatasetsVirusApi(api_client)\n",
    "    try:\n",
    "        print(\"Begin download of virus data package ...\")\n",
    "        virus_ds_download = virus_api.virus_genome_download(\n",
    "            \"2697049\",#\"SARS2\",\n",
    "            complete_only=True,\n",
    "            host=\"human\",\n",
    "            include_annotation_type=[\"PROT_FASTA\", \"CDS_FASTA\"],\n",
    "            _preload_content=False,\n",
    "        )\n",
    "\n",
    "        with open(zipfile_name, \"wb\") as f:\n",
    "            f.write(virus_ds_download.data)\n",
    "        print(f\"Download completed -- see {zipfile_name}\")\n",
    "    except DatasetsApiException as e:\n",
    "        print(f\"Exception when calling virus_genome_download: {e}\\n\")\n",
    "\n",
    "# open the package zip archive so we can retrieve files from it\n",
    "package = dataset.VirusDataset(zipfile_name)\n",
    "# print the names and types of all files in the downloaded zip file\n",
    "print(package.get_catalog())"
   ]
  },
  {
   "cell_type": "code",
   "execution_count": 3,
   "id": "02df6753",
   "metadata": {},
   "outputs": [
    {
     "name": "stdout",
     "output_type": "stream",
     "text": [
      "{'assembly_count': 3365053,\n",
      " 'hydrated': {'cli_download_command_line': 'datasets download virus genome '\n",
      "                                           'taxon 2697049',\n",
      "              'estimated_file_size_mb': 370155,\n",
      "              'url': 'https://api.ncbi.nlm.nih.gov/datasets/v1alpha/virus/taxon/2697049/genome/download'},\n",
      " 'record_count': 3365053,\n",
      " 'resource_updated_on': datetime.datetime(2022, 1, 14, 15, 19, 53, tzinfo=tzutc())}\n",
      "{'assembly_count': 740729,\n",
      " 'hydrated': {'cli_download_command_line': 'datasets download virus genome '\n",
      "                                           'taxon 2697049 --host human '\n",
      "                                           '--complete-only',\n",
      "              'estimated_file_size_mb': 81480,\n",
      "              'url': 'https://api.ncbi.nlm.nih.gov/datasets/v1alpha/virus/taxon/2697049/genome/download?complete_only=True&host=human&include_annotation_type=CDS_FASTA,PROT_FASTA'},\n",
      " 'record_count': 740729,\n",
      " 'resource_updated_on': datetime.datetime(2022, 1, 14, 15, 19, 53, tzinfo=tzutc())}\n"
     ]
    }
   ],
   "source": [
    "import time\n",
    "import ncbi.datasets.openapi\n",
    "from ncbi.datasets.openapi.api import virus_api\n",
    "from ncbi.datasets.openapi import ApiClient as DatasetsApiClient\n",
    "from ncbi.datasets.openapi.model.v1_annotation_for_virus_type import V1AnnotationForVirusType\n",
    "from ncbi.datasets.openapi.model.v1_download_summary import V1DownloadSummary\n",
    "from ncbi.datasets.openapi.model.rpc_status import RpcStatus\n",
    "from pprint import pprint\n",
    "# Defining the host is optional and defaults to https://api.ncbi.nlm.nih.gov/datasets/v1\n",
    "# See configuration.py for a list of all supported configuration parameters.\n",
    "configuration = ncbi.datasets.openapi.Configuration(\n",
    "    host = \"https://api.ncbi.nlm.nih.gov/datasets/v1\"\n",
    ")\n",
    "\n",
    "# The client must configure the authentication and authorization parameters\n",
    "# in accordance with the API server security policy.\n",
    "# Examples for each auth method are provided below, use the example that\n",
    "# satisfies your auth use case.\n",
    "\n",
    "# Configure API key authorization: ApiKeyAuthHeader\n",
    "configuration.api_key['ApiKeyAuthHeader'] = 'YOUR_API_KEY'\n",
    "\n",
    "# Uncomment below to setup prefix (e.g. Bearer) for API key, if needed\n",
    "# configuration.api_key_prefix['ApiKeyAuthHeader'] = 'Bearer'\n",
    "\n",
    "# Enter a context with an instance of the API client\n",
    "with DatasetsApiClient() as api_client:\n",
    "    # Create an instance of the API class\n",
    "    api_instance = virus_api.VirusApi(api_client)\n",
    "    taxon = \"2697049\" # str | NCBI Taxonomy ID or name (common or scientific) at any taxonomic rank\n",
    "    #refseq_only = True # bool | If true, limit results to RefSeq genomes. (optional) if omitted the server will use the default value of False\n",
    "    #annotated_only = True # bool | If true, limit results to annotated genomes. (optional) if omitted the server will use the default value of False\n",
    "    #released_since = dateutil_parser('2020-08-01') # datetime | If set, limit results to viral genomes that have been released after a specified date (and optionally, time). April 1, 2020 midnight UTC should be formatted as '2020-04-01T00:00:00.000Z' (optional)\n",
    "    host = \"human\" # str | If set, limit results to genomes extracted from this host (Taxonomy ID or name) All hosts by default (optional)\n",
    "    #pangolin_classification = \"pangolin_classification_example\" # str | If set, limit results to genomes classified to this lineage by the PangoLearn tool. (optional)\n",
    "    #geo_location = \"USA\" # str | Assemblies from this location (country and state, or continent) (optional)\n",
    "    complete_only = True # bool | only include complete genomes. (optional) if omitted the server will use the default value of False\n",
    "    #exclude_sequence = True # bool | Set to true to omit the genomic sequence. (optional) if omitted the server will use the default value of False\n",
    "    include_annotation_type = [\"CDS_FASTA\",\"PROT_FASTA\"] # | Select additional types of annotation to include in the data package.  If unset, no annotation is provided. (optional)\n",
    "\n",
    "    # example passing only required values which don't have defaults set\n",
    "    try:\n",
    "        # Get summary data for Coronaviridae genomes by taxon\n",
    "        api_response = api_instance.virus_genome_summary(taxon)\n",
    "        pprint(api_response)\n",
    "    except ncbi.datasets.openapi.ApiException as e:\n",
    "        print(\"Exception when calling VirusApi->virus_genome_summary: %s\\n\" % e)\n",
    "\n",
    "    # example passing only required values which don't have defaults set\n",
    "    # and optional values\n",
    "    try:\n",
    "        # Get summary data for Coronaviridae genomes by taxon\n",
    "        #api_response = api_instance.virus_genome_summary(taxon, refseq_only=refseq_only, annotated_only=annotated_only, released_since=released_since, host=host, pangolin_classification=pangolin_classification, geo_location=geo_location, complete_only=complete_only, exclude_sequence=exclude_sequence, include_annotation_type=include_annotation_type)\n",
    "        api_response = api_instance.virus_genome_summary(taxon, host=host, complete_only=complete_only, include_annotation_type=include_annotation_type)\n",
    "        pprint(api_response)\n",
    "    except ncbi.datasets.openapi.ApiException as e:\n",
    "        print(\"Exception when calling VirusApi->virus_genome_summary: %s\\n\" % e)"
   ]
  }
 ],
 "metadata": {
  "kernelspec": {
   "display_name": "Python 3 (ipykernel)",
   "language": "python",
   "name": "python3"
  },
  "language_info": {
   "codemirror_mode": {
    "name": "ipython",
    "version": 3
   },
   "file_extension": ".py",
   "mimetype": "text/x-python",
   "name": "python",
   "nbconvert_exporter": "python",
   "pygments_lexer": "ipython3",
   "version": "3.9.4"
  }
 },
 "nbformat": 4,
 "nbformat_minor": 5
}
